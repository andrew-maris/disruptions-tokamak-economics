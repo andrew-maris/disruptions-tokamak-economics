{
 "cells": [
  {
   "cell_type": "markdown",
   "metadata": {},
   "source": [
    "# Computing the LCOE of a disruptive tokamak power plant\n",
    "\n",
    "Code for computing the results of \"The impact of disruptions on the economics of a tokamak power plant\" (Maris et al., 2023)\n",
    "\n",
    "Author: A. D. Maris\n",
    "\n",
    "Created: 12/9/2022\n",
    "\n",
    "Updated: 1/30/2023"
   ]
  },
  {
   "cell_type": "code",
   "execution_count": 89,
   "metadata": {},
   "outputs": [],
   "source": [
    "import numpy as np\n",
    "import pandas as pd\n",
    "import matplotlib.pyplot as plt \n",
    "import matplotlib.colors as colors\n",
    "from dataclasses import dataclass\n",
    "from typing import Sequence, Callable\n",
    "import copy\n",
    "\n",
    "\n",
    "def scan_2d(x_scan: Sequence[float], y_scan: Sequence[float], f: Callable[[float, float], float]):\n",
    "    \"\"\" Helper function to perform a 2D scan.\n",
    "\n",
    "    Args:\n",
    "        x_scan (Sequence[float]): x values to scan.\n",
    "        y_scan (Sequence[float]): y values to scan.\n",
    "        f (Callable[[float, float], float]): function f(x, y) to be scanned across x + y.\n",
    "\n",
    "    Returns:\n",
    "        (xmesh, ymesh, out): xmesh, ymesh are the meshgrid of x + y values, out is the output of f(x, y) on the meshgrid.\n",
    "    \"\"\"\n",
    "    vf = np.vectorize(f)\n",
    "    xmesh, ymesh = np.meshgrid(x_scan, y_scan)\n",
    "    out = vf(xmesh, ymesh)\n",
    "    return xmesh, ymesh, out"
    "plt.rcParams['text.usetex'] = True"
   ]
  },
  {
   "attachments": {},
   "cell_type": "markdown",
   "metadata": {},
   "source": [
    "# Section IV.B: Reduced electricity production from accumulated damage\n",
    "\n",
    "As discussed in the paper, disruptions decrease electricity production by reducing plant lifetime. In this analysis, we will assume disruption rates are constant in time. Failure rates in most industrial applications typically follow one of four trends over time: flat, increasing, decreasing, or \"bathtub-shaped\" (i.e. relatively high failure rates early and late in life). For a TPP, machine aging could cause disruption rates to increase over time, but more operator experience could counteract this effect. Until we have empirical evidence from running a TPP, it is unclear what the trend will be in practice. For simplicity and tractability, we will neglect a time dependence on the disruption rates in this study.\n",
    "\n",
    "The irreplaceable components on a TPP (for example, TF magnets) can be thought of as having an \"acceptable damage budget.\" We can write the proportion of the damage budget that is consumed per unit time of operation as\n",
    "$$\n",
    "     \\tau^{-1}_{\\textrm{damage}} \\equiv \\sum_{i\\in \\mathcal{C}} p_i \\langle d_i \\rangle\n",
    "$$\n",
    "where $p_i$ is the probability of disruption per time for disruption class $i$ in the set of disruption classes $\\mathcal{C}$ and $\\langle d_i \\rangle \\in [0,1]$ is the average damage per disruption as a proportion of the acceptable damage budget in class $i$. For example, a class G disruption that renders the device inoperable would correspond to $\\langle d_i \\rangle = 1$. We refer to $\\tau_{\\textrm{damage}}$ as the \"characteristic damage time.\"\n",
    "\n",
    "For a population of $N$ TPPs, the number that are lost due to damage per unit time $dt$ is approximately \n",
    "$$\n",
    "    dN = -N \\tau^{-1}_{\\textrm{damage}} dt,\n",
    "$$\n",
    "from which we recognize that population decays exponentially. The probability that a particular TPP  does not complete its target operational lifetime of $T$ is:\n",
    "$$\n",
    "    P_{\\textrm{damage}}(T)  = 1 - \\exp{\\bigg (-\\frac{T}{\\tau_{\\textrm{damage}}} \\bigg )}.\n",
    "$$\n",
    "We plot $T=20$ years of operation considering only one disruption class with disruption rate $p$ with an average damage per disruption $\\langle d \\rangle$ for simplicity."
   ]
  },
  {
   "cell_type": "code",
   "execution_count": 90,
   "metadata": {},
   "outputs": [],
   "source": [
    "#Fuction to compute P_damage\n",
    "def get_P_damage(T,p,d):\n",
    "    return 1-np.exp(-T*(p*d))\n",
    "\n",
    "#### Fixed parameter(s)\n",
    "T=20 #[yr] planned operational lifetime\n",
    "\n",
    "#### Parameter range to scan\n",
    "#Disruption rate range to scan.\n",
    "p_scan = np.logspace(np.log10(10**-2),np.log10(10**2),50) #[year^-1]\n",
    "\n",
    "#Average damage per disruption as a proportion of damage budget\n",
    "d_scan = np.logspace(np.log10(10**-5),np.log10(10**-1),40)\n",
    "\n",
    "p_damage_scan_function = lambda p, d: get_P_damage(T,p,d)\n",
    "pmesh, dmesh, P_damage = scan_2d(p_scan, d_scan, p_damage_scan_function)"
   ]
  },
  {
   "cell_type": "code",
   "execution_count": 91,
   "metadata": {
    "scrolled": true
   },
   "outputs": [
    {
     "data": {
      "image/png": "iVBORw0KGgoAAAANSUhEUgAAAlcAAAEUCAYAAAAGHxPbAAAAOXRFWHRTb2Z0d2FyZQBNYXRwbG90bGliIHZlcnNpb24zLjMuMSwgaHR0cHM6Ly9tYXRwbG90bGliLm9yZy/d3fzzAAAACXBIWXMAAAsTAAALEwEAmpwYAABIBklEQVR4nO3df3QU15kn/O8DMrJlI7VAjMkP2yADY2NPsCWROHmV7CwWDnhibyfGJkPO7IQ5BkPO2uc972EA78hzZtfk2MjsOVnnDwZIRpuZSbIYkmiHvHYSCd7Y0WbBFhDNeDBDQNixPZGHBkmWrVgYeN4/6pZUKlVVV7e6u6q7v59z+qi7qrrq1lX/ePrep+4VVQURERER5ca0qAtAREREVEoYXBERERHlEIMrIiIiohxicEVERESUQwyuiIiIiHKoYMGViNSLyD4ROSoiq0RkvYhsF5GGLPbVIiIDuX6O2eaMz7pEJscLUZ4GUwe7PNatF5Fdjr9nTJ1tFpHOdHWZi7oOqotCyfL/7FuvuWb+F+tNHQ+Y++vt/1G+j18Mcv2+8TlG5K9VIiKnikIdSFX7RKQTQKOq7reXmy+l+ao6mMG+ukSkL8Pj+z5HRM6o6s3ubezl5uFDAHZncsw0HgewTlU996mqj5gytACot+tMRAZD1OWU6zqbOnYcx1lvWcuyDIH1mivm//Kgqg6aAOKCfUxT5gs5Os4qALMANALYp6pdjuWDABIA+lT1WC6OlweT3je5en3YpvJaJSLKh0J3C3p94VwAkM2v/Gy+vPye0xhi+SNZHC9IIiDICfqisNelq8tc1nWm/OozG5n+n4PqNZcuOI7TAqDLZ13WTEtjn6ruNsH2PrM8AWC5qnaZ4Hn7VI+VR17vm1y+PoiIYicOOVezAPSZrpUzpol/n92dYJa32H+dzzPLG0x3WcJeYZa3mK6wRNBzzBfYUXehnMvNcROmDA2ObiC7G26fiGz2Ojmv8pvnzTJdSJOCHbt1wkvQOpi6zGa9KZ99fpO6D33Oo95Rn9sd5zZWb3Y9mfu7XPvcbJbbf1d5lTng/7ze8Xz7fzmhXn3K7fdam7C/gHqEq6VoKRyvoRy2Is3CxODkgjnHhwA4u8EGvf5nbj51Yf+PPN8zHnXsV3eTnu9+35hlE95vacrk97rxe3/7nfOk96rX/9rnHCadr9frnohoAlUt2A3AKgCdsH7pr4L1i7vBsb4TQAOsbjCY+5sd63fBapkArA9o+34CVpfJ2HbmbwuA7Y7lns8B0Oksg8/9o65z2WWXHUCLz/kGlb/T6zke+2jx2jZEXQau9yinXWcJx/3OoPMw+7TPZ5VfHTrqabtdV7Ba0Oz6X+98vqtsfv+zBvt/61XmMPXv8VqbtL+Q/6Oj9n4CtkmY8/S7JUIcZ8D83Qxgveu8PF+DIevCWccNYerYWXfp3nMeZQl8XQW9bvyOhYD3E1zv1YDz8jsH92vF83XPG2+88WbfCpZz5dCn460v+13rZunEX/1jXSHGGVgffPsBQE3Xi1p5L2O/3NXkKxkJ5wH8npOFfQBWAwhqpQgsfw4E1WWY9bbVsL5A7Ppxd+X4ncdeAEdFpAvWF5hvOc3f867ldpdfAgHdfz7/s9UAzjsee3V3BtW/+7UWZn9+6lU1MOfHnEPWeWCmheTBgE0SaXYR9r10zG5Bgn+duOsu8D2XbZng87rJ4lju96rneQXs132+YV/3RFSm4tAt6BQmv2ZWug1Ms35LyP1lxO5uMkFLi/mA7slgF2nLXyTsLsZGWIHZPr8N1SP/yA5G7C9ydSTeh5QAcExV7dvykM+z69/92shqf1n8/zNmukv3OgLlQbi+/BHcHewn3WsxAe86mfS+Sveek/BXT46Vyet1E+ZYbh7v1QQ8zitgv+7HoV73RFS+4hZcue2D1RxvWwpH4rAjLyIB86tURNYDOO/4IoKzhcrrOSHZH7DOL4kuWN0Vg9mUP0b2AhgLJjxa9PzOY72qDprAKG3+i4d9aiVltwVt5PM/25emzEHl9ixLiP15aYJp9QticnU2B9wSPs9rgAkETK5PPYDnADivtku4W5I8hH0v1TuWh6qTNO85r/dNqDJlcawgzvfqpPPKcL9Tfd0TUYkrWLeg+dBeDaBeRFrUlZhtfjE2ich6NZe0q3WJdb2dGAsrJ8L+hb7LbA9YH9DrzPIuAFtcv0Bn+T3HfIDWmw/XHq/7pjy7zHJnC8FeBHQf+ZXfcczNAHYH/EJvgdUVVG9aL7pM11i6ugxc71HOY2LGxILVKuIs43pV3e1zHnarSh+sLshBn/rcDKurZzmAm0Wkx5zzFhF5BNb/qdOn9crz/+yqW2A82dtZr371n+61BoRoFTHn/giAHhFpCApwzPkGBpEe+28AcNCcG2B1T9WadZ2OsqZNqk7zXgKslp1BWP+joDqeVHdI855zvm9Cvq6c/8cJrxufY92Fie9VL2PvVZ//tec5+JzvpNe9zzGJqEyJqkZdhqKV7guV/NlfTiawS8BK6u7LonuQpkhEjqpqSQ+PwPcqERVSbLsFxVwqHXU5vMj45delkj8VhaX2l5355b8frE/KMb5XiSgKsW25srsG4tiS4Qj6etglkB3TWvUQxrtZ6wO6dChPzGt5H4AtpVj/fK8SURTyFlzZ+SjOq64cOT1pv0jjHFwREeWC1+ekx/pB8McHUVHJW7egOygyHxL2ZdFjvyhlfGRw+5bIV5mIiOIk6Mej32cmEcVfIQcRXQrrih3A6gpqgHX1m9+HSwuA2SLSxeZ8IipDnp+Z0RWHiMIqZHCVcD2eHbRx0NhH5tLu9QAwHRWN105377qIVF6Vk918/ANrEOu3rraq9fKM6Vnt50rI4oTZTq8K7nKeftWVwPVVFRfTHuO66aOTllWMXAYAXKoar4PqaR+k3Vc5uarPqqMP67N7nRSrf/qnSylVnTOVffy7P6zUgQvBr13H8f4ZgPPFtzuD7r2E63HgZyYRxUchg6tB5OiKHfPhtBsAairm6KcTX8zFbiOl8z82pee3nWwHAGy+Ze3YsvdvvDarfb330fBfuCNzg9ePzv0w7T5q5w4Hrl8y518D1382cWrC4z/6k38EAPy/f/eJSdu2VJ1OW55yMPdBKxjv31de39fzb+h/Y6r7GLhwBf/wfF3Y432gqk1ZHmoQvMqRqCgVciiGVzD+S6weIUa1DiIi94nI7g81fetGMZCzb+d8n9f+5n1c+5v3M37edf96OfS2Vf3B6yv7r0Jlf3Az10D/zMD1vec+Grj+F4OLggvh0DWyIPS2pWzwsesw+Nh1UReDguX0M5OICidvwZVjZGM7KXM/zIjhsKbrmFLugKoeUNX1V8mMHJQ2HvIRYAHIOsAKG2SlC7AAFCTAChtkMcACPvhsJT74bGXUxSh77s9Js8yeRD2nn5lEVDj5vFqwS1VrnQnrqtoWZi65chanAAsI34oVhwALCN+KVe4B1ox//hAz/jl9ly3ll8/n5HLHfX5mEhWhQuZc5ZSI3AfgvmumVUddlJyzA6yp5mG5Xfub97PKw7ruXy+HysOq6k+fg1XZf1VgHpYdYPnlYfWe+2jaHKzBS1VIVIwEFwTjAVY55mHN+qt3AZRfzhWVjqNHj/5eRUXFtwDcjhjPNkIl6QqAVy9duvRwY2Pjv3ltULTBlaoeAHCgpmLOurQbFyk5+3ZeAiwg82T3TAIsIDjIsluw0gVZQQEWEJzoPnipKk1Jx3WNLCjLAIuomFVUVHxr7ty5t86ZM2dg2rRp8ZxqhErSlStX5Ny5c4v7+/u/BeB+r20Y7cdcnLoJmYdFRDFy+5w5c95lYEWFNm3aNJ0zZ84QrFZT720KWJ6cKrWrBYPEKcACmIdFRLEwjYEVRcW89nxjqKINrkrxasEgDLD8McAiIqI4KdrgqhzJ2beLcjysqv6pj4c10D8zMMjqPffRsSBr/8ZG7N/YOGmbTAKsUg+yBrbMxMCW4KCViIKlUqnpO3bsqOvu7q7q6OiYuWPHjnCjy4awcePGj7W2tl4PACdOnJixcuXK+lzt26m9vb3Wvp/P40TFeX4dHR0zP/OZzywsxHEZXBWhOLVi5XLAUSA3rVinP3E9Tn/ies/1HHDUMto0A6NN5dHqS5Qv999/f/1Xv/rVgebm5pFkMjk8e/bsy3ZANFVf+cpXBuz7ixcvvvjCCy/05WK/TqlUanpnZ+fYJff5Ok5U3OeXTCaHa2pqwn9pTUHRBlfllHPlJW4BVpy6CfHSZSz4x3d8VzPRHajsuYjKnvJ871CJ+uQnf3/S7emnrXkkh4enea5/9llrLJLf/rZi0ro0uru7qwCgrq5u7MNv7dq1A88+++xHgPFWko6Ojpmtra3X29unUqnpra2t1/u1dNnrfvKTn8x0HstucbFbydrb22s7Ojpm2sdpb2+vtZ9rb9va2nr9xo0bP2aX57bbbrvVPm5HR8fMkydPVvb29lZ1dHTMdB8HAOxWObucfudk8zqG+3zd5XWfv/sY9nmuWbPmplQqNT2TcrnPz3kMr/LnUtEGV+WWc+UlTgEWEJ88rEe/8/9h5X//p7THKOcAq3b7MGq3B8/pSET+Dh8+XDVv3jzPXyipVGp6MpkcfvPNNyuTyeTwmjVrBr773e/WAsATTzwxd8WKFcPJZHL42LFjE8bE2bFjR11TU9NIMpkcXrFixdgbtLm5ecRucbH3s3bt2oFFixaN2sdZu3btwLZt295xts6sWbNmrPXLLL+UTCaHN23alHr00Udvam5uHrnxxhtHk8nksPs4ra2t1991110jzc3NIwsWLBjdsWNHnd85BR3Dfb7u8rrrzn2MPXv21CWTyeGGhob3u7u7qzIpl/v8AODVV1+t8it/LhVtcEWWfOZhZSMOeVhP/qc/wpP/6Y8m5GH5KecAi6ikvPzyv0y6bd16DgAwc+YVz/WPPWbNYP6Rj1yatC6NBQsWjL7++uuTft0PDw9Pt1uzbr/99kmjGff29lalUqnp3d3dVV/72tfOOdcdPHiwetGiRaNBx33yySf7d+3aNeeGG264/cKFCxV+x/Hi7BK74YYbRk+cOOHbOnHo0KHqWbNmXQKARYsWjR48eLA6zLHcxzhy5MhM9/mm24dz/ZIlS0YAYPbs2ZenUi6vfecTg6sSIR/kvosnDhM/A5m3Yr3x8dl44+PjI4/nMsBikEVEgNXCMjQ0VGF3VQFW8vSGDRsCP9WWLVv2LmC1qtxyyy0TAqnGxsb3jxw5ci1gtX55Pf/AgQPVL7zwQt/x48dfc3Ydejl16tSECUSHhobG9vnmm29WLl68eOyLw91FtmTJkhH7+adOnapsbGwM9WXgPsa99947AHifbzayLVc+uwC9FO0I7aU8/U228hFgAdlNm2MHWIWcNsce0f1zR04BAF761HjQlG7anF8MLsJnE6fSlhXgiO4UbyKyDkADgF0AzgJoVNVD0ZaqNL344ounvvGNb9Q1NTWNAMD58+en79y5823A+jJ/9dVXq06cODHj+eefr7ZbrLZt2/aOM9fI2WVlr+vu7q7q6empOnToUHUqlUqdPHmy0t7Xyy+/XAUACxcuHF2zZs1AR0fHzFdffbWqu7u7qrm5eQSwgrTu7u6q06dPV7700kvVqVSqv66u7vLQ0FBFd3d31eHDh6u++c1vvgEA8+bNG+3o6JjZ3Nw84izzzp0737bL2dPTU7Vt27Z3/M7JmXfmPkYymRx251a5y+vkdYwTJ07M6OzsrK6pqbmUabn8zs+v/LkiqsU9BltNxRz9dOKLURcjcm1DPwYAbK75Qs6nzLFlMy8hEC7AAtIHWEDwlDmANSfht7b+LQDg4af/46T16eYlBBA6yCrmAGvug1ZvSLnNLTj/hv6jqto0lX184hNX6T88H+6K+1wcL1MiskxVD4nInap63H5cyDIUQm9v7+tLlixJRV2OYrJy5cr6fF8NWIhjxEVvb2/dkiVL5nmtY7dgCSrmPKx0wnQRfnjRv0GWeViWC39VjQt/xVbfEtUoIncAqBWRZbBasajM2S1cQXlWxXCMYsHgqoSV64CjAAIDLIB5WBdvuwoXbwuuQypauwF8GcBWAA2quiPi8lAMmCvqXnXmWRXjMYoFg6sSF6fhGuI2HlY5T/x89S9GcfUvppxbSvF0t6puVdV7VHWHiNwhIk+Z1iwiKgAGV2UgTgEWEJ/xsIDynZcw8ex7SDz7XtTFoPy4WUT2isjD5vHjqvo4gJujLBRROeHVgmVCzr6dl0T3bK4kBKwAK4orCb2ku5IQCH81Ia8kLH3vXrk6g0A6xC+E3Dujqs+YFqsaABfM8rJIMiaKg6JtueII7ZnjxM/hJn72U+p5WFQyZovIlwCsBtAEwL4ktKQm5CWKs6INrih7ceomjHrAUbdcBVhAcXUTUulQ1T0AhgA8Dau1aouIPA3gTKQFIyojDK7KVNwCrFzmYU27KIHrmehOpU5VD6rqkKqeBXCnSXD/VdTlKjWpVGq6PYmw30TM2dq4cePH7MEyT5w4MWPlypV5aXlsb28fm18vn8cpNwyuylicAiwgd4nuf/kfHsRfrXwocJtyT3RPPV2D1NM1UReD8kBE7haRn4nIT0XkpwCWR12mUnX//ffXf/WrXx1obm4eSSaTw7Nnz77sHo08W1/5ylfGJl1evHjxxXwMzJlKpaZ3dnaOJS7n6zjliMFVmSvmAUf9gqyzc34PZ+f8XqguwnLNw7p0cwUu3Vy017NQsPmqeg+Ah8xtd8TlKYxPfvL3097+8i+vn7D9s89a+Wi//W3FpG3TsOeqc06dsnbt2oFnn332I4A1oOZnPvOZhR0dHTPtKW0AK6BpbW293q+ly17nnDewu7u76jOf+cxC+35HR8fM9vb22o6Ojpn2cdrb22vt59rbtra2Xr9x48aP2eW57bbbbrWP29HRMfPkyZOVvb29VR0dHTPdxwEAu1XOLqffOdm8juE+X3d53eff3t5ee9ttt92aSqWmt7e3165Zs+Ymrzpz7s9ZNr/9FlrRBlcicp+I7P5Qy36sspwoxkR3wDvA+vcn/xn//uQ/Awg34Gg55mFd0/kBrun8IOpiUH6cFZGHVXUIwHoAjVEXqBQdPny4at68eZ5fQKlUaroZULMymUwOr1mzZuC73/1uLQA88cQTc1esWDGcTCaHjx07NuFS6x07dtQ1NTWNJJPJ4RUrVoxd4tzc3DxSU1NzGQDs/axdu3Zg0aJFo/Zx1q5dO7Bt27Z3ksnksL3tmjVrxlq/zPJLyWRyeNOmTalHH330pubm5pEbb7xx1J7f0Hmc1tbW6++6666R5ubmkQULFozu2LGjzu+cgo7hPl93ed11t3bt2oEbb7xxFABqa2svfe9733vDvY8TJ07MOH36dOWmTZtSbW1tc+1jB+230Io2uOLVgrkXp27CqeRh/Vn3z/Fn3T+fsIwDjk5Us/t91OzOrnWR4k1VDwI4aB52YXwohtL28sv/kvb2X//rOxO2f+wxa5LNj3zk0qRt01iwYMHo66+/PukLaHh4eGwi4Ntvv33SxMT2ZMHd3d1VX/va18451x08eLB60aJFgaP7Pvnkk/27du2ac8MNN9x+4cKFCr/jeLEDJwC44YYbRoOmqTl06FD1rFmzLgHAokWLRg8ePFgd5ljuYxw5cmSm+3zT7eORRx45941vfGOsVc9dZ4sXL764adOmVCqVmjCeT9h6KISiDa4oP+IUYAHZ5WE99sd/isf++E8nbcMBR6kciEg1gPlmXsFZAJZGXKSSlEwmh4eGhiqcX/Dt7e21GzZsCMwKXbZs2buA1Up0yy23TAikGhsb3z9y5Mi1gNX65fX8AwcOVL/wwgt9x48ff83Zdejl1KlTlc7HQ0NDY/t88803K53T1Li7+JYsWTJiP//UqVOVjY2NoT7E3ce49957BwDv8/WTTCaHf/SjH81qbm4eASbXWXd3d1Ucuv6CMOmCJrEDrFwPOlqIAUcBYGDudb7bhBlwFIDvoKN2gBU06GgmA44C4KCjlGttAI5ivMWqNmBbmoIXX3zx1De+8Y26pqamEQA4f/789J07d74NWMGKPYnx888/X223vmzbtu0dZ2Bgd8kBgL2uu7u7qqenp+rQoUPVqVQqdfLkyUp7Xy+//HIVACxcuHB0zZo1A/Zkyd3d3VV2MNLY2Ph+d3d31enTpytfeuml6lQq1V9XV3d5aGiooru7u+rw4cNV3/zmN98AgHnz5o12dHTMbG5uHnGWeefOnW/b5ezp6anatm3bO37n5Mw7cx8jmUwOuwMhd3m9fP3rX3/L3q+7zgYGBioSicTlkydPVs6bN+9ie3t7bW1t7aUw+y0UUdWoyzAlNRVz9NOJL0ZdjMi1Df0YALC55gs53W8+RnUHkFWQFSbAAoD7X3sZozXAjxo+GbhdUJAF+AdYtnSjuocJsGyFDrDmPmj1hvTvm51my9Iy/4b+o6raNJV9zLt9prb+8I5Q2677/e4pHy9TInK36Rq0H89T1dcLWYZC6O3tfX3JkiWpqMtRTFauXFmf76sBp3qM1tbW6+1ALg5BUpDe3t66JUuWzPNax25BChSnbsKwXYT3v/YKHjz8StrtmOhOJSphhmF4ygweuivqAlH07BauoDyrOByjqalpxG5Jy2XZCo3dgpRWnOYltAOsYpmX0A6w4jYv4bn/nijIcSgS9QA2OB63RFUQio9kMjmcTCZfjfsxnN2kxYwtVxRKnFqwgNwNOArkpgUrl+NhFcLlj07H5ZDdrFR0jqrqWfsGoDPqAhGVGwZXFBonfi5MN2EhBhyt+offoeoffpfXY1BktorIr0Vkr4g8BwZXRAXH4IoyFqdWLE78nJ3qvxtB9d8VdUoD+duuqgtVdbWq2qO0E1EBFW1wxRHaoxW3ACtu3YRBim3AUSouzisFjfmRFISojBVtcMUR2qMXpwALiF8eVjoMsCgfXBM3/wycuJmo4Io2uKJ4KMWJn21TzcMqxkR3KiwRWSUiLSKyPpv1PpwTNz+Icpm4OQKpVGq6Pbmx30TM2dq4cePH7IEzT5w4MWPlypX1udq3U3t7+9ggs/k8TiacZSpWDK4oJ+KU6D79YviBcePQihWnRHcqHBFZBQCq2mUet7jWtwDoM+v7RKQh5K45cXOB3H///fVf/epXB5qbm0eSyeTw7NmzL+dqWpavfOUrY5MuL168+GI+Bv9MpVLTOzs7q/N9nKmUqVhxnCvKmbiMh9X6qf8IILNpc8ptPKx/21X0PwxLwVIAe839PgANsCZatvUAOCoiDwKot4OwdFT1oIjYeVZdsMa9Km1/9mc34NVXq9JvmIHbbx/B3/zNm36r7bn4nFO/rF27dqC6uvqObdu2vdPR0TGzra1t7ubNm/t7enqqVqxYMdzc3DySSqWm21PmnD59unLTpk0TRplvbW29vqmpaaSnp6fKeazNmzd/7Je//OWvu7u7q1Kp1PSBgYGK2traSwDQ1tY2d926dakzZ87MaGpqGmlra5v7y1/+8tetra3Xnz9/vmLnzp1vd3R0zPyLv/iLj3/9619/6/Tp05ULFiwYrauru9zb21vV0dExM5lMDjuPAwA7duyou+uuu0YOHz5ctWnTppTfOdnl9DpGc3PziPN8FyxYMOos77Zt295xnv/JkycrnWVy15f9fL8yAFbL144dO+a++OKLpw4cOFDd2dlZ/eyzz77lrveOjo6Z9j6TyeSwfX522VasWDHsrOtMxuBiyxXlVBzysIYqr8VQpRWMMQ/L25VZ03BlFt/+BVAnIj2Om7N7L+HadsJcRKo6CGt09X3IsPXJjG8FVT0ODsWQF4cPH66aN2+e5xVVqVRqejKZHH7zzTcrk8nk8Jo1awa++93v1gLAE088MXfFihXDyWRy+NixYxN+Ne7YsaOuqalpJJlMDq9YsWLsi7y5uXmkpqbmMgDY+1m7du3AokWLRu3jrF27dmDbtm3vJJPJYXvbNWvWjLV+meWXksnk8KZNm1KPPvroTc3NzSM33njjqB00OI/T2tp6/V133TXS3Nw8smDBgtEdO3bU+Z1T0DHc5+sur7vu3GXye75fGey6ufHGG0cBoLa29tL3vve9N9z7OXHixAw7yGpra5trl99ZNnddp3tNOLHlinIu6omfV75hTX3zwk1LAWQ+8XNQK1YuJn5ONydhISZ+vu4564feew/l9sd+OXjvcmUGQ2p0pwLmFhwEMMvvmaZbsEtV20Rku4isUtX9Adtv8loMa4T2z4cscHEKaGHKlwULFoz+8Ic/nPTFPjw8PDaR8e233z5pvJPe3t6qz3/+8+92d3dXfe1rXzvnXHfw4MHqe++9962g4z755JP9f/Inf3LTo48+etP3v//9PgAXvY7jxQ6cAOCGG24YDZqm5tChQ9V2cLZo0aLRXbt2zdm0aVMq3bHcxzhy5MhM9/mGLS/gXV9hnv/II4+cc06q7d7P4sWLLy5evDiVSqUmfDk49+1V12HLzZ+ulDdR5WHd+0YP7n2jZ8KyXI6HlS7RHQhuxcplojuQXSvWdft+h+v2cRDRiL2C8darekxuYWpQ1WPm/lMICMSMOgAHYQVUB83tGCZ2NVKOJJPJ4aGhoQrnl3N7e3vthg0bAj9Bli1b9i5gtdDccsstE1pDGhsb3z9y5Mi1gNX65fX8AwcOVL/wwgt9x48ff+0nP/lJYHP5qVOnKp2Ph4aGxvb55ptvVi5evHgsWLC7OW1LliwZsZ9/6tSpysbGxlDdB+5j3HvvvQOA9/mm093dXRVUX0GSyeTwj370o1l2l6F7P93d3VXp8uMyqWs3tlxRXkWRh/Xo5zZ6Lue8hBQnqrpfRDabFqqEI7G9U1WXA9htuhH7YOVcBV71p6pbzfNrTXcgzOPz+TuL8vbiiy+ecraOnD9/fvrOnTvfBqzAwJ7E+Pnnn6/u7e2tSqVS07dt2/aO80vdmcdjr+vu7q7q6empOnToUHUqlUqdPHmy0t7Xyy+/XAUACxcuHF2zZs2APVlyd3d3lR1INDY2vt/d3V11+vTpypdeeqk6lUr119XVXR4aGqro7u6uOnz4cNU3v/nNNwBg3rx5o/ZEyc4y79y58227nD09PVXbtm17x++cnHln7mMkk8lhdxDjLq+bs0zNzc0jzufX1dVdTlcG29e//vW37OXueh8YGKhIJBKXT548WTlv3ryL7e3ttbW1tZecZXPXdfhXBiCq4a+siqOaijn66cQXoy5G5NqGfgwA2FzzhYhL4i0fARaAjCd+toUJsID0ARaAwAAL8O8itKXrJgTCBVhA+C7CuQ9a37f9+2an2bK0zL+h/2hAN10odbfW6R995z+E2vZvP/U3Uz5eOiLyMIAeVf2VefznAI5iPEm+XlV35LMMUejt7X19yZIlqfRbkm3lypX1+b4asBDHSKe1tfV6Oxj0C+Byobe3t27JkiXzvNaxW5AKopCJ7n986uf441M/D3xeoRPd03UTpsPhGsiLmTtwAYA2EfkSAKjqMwBuBtCGEg2sKHN2C1dQnlUxHCOMpqamEbvlK6oyhO4WFJEHYPX5n1fVH+avSICI1MPKRWgBsNtcNUNFLp+J7sB4K9Zn+l8DAHx/0R8GPi/Xie5AcCtWUDehHWCl6yYM24LFbsKysVdVfwAAIrLOXqiqewDsiaxUFDvJZHI4mUy+WuzHCFuOqMsQ2HIlIvNFZJ1pdu4yb9iD9jIRmZenctmJnF3gpKMlJw7DNdjKdeLnd/52Ft7523T50VQEnHkdkXbFENG4dN2C81V1j6p+y4z2C1UdspfBanr2ZKZt6PRYlnYqB8flxi3glS4lKW4BVjGNh5WLiZ/1GoFeI6H2QbHWJiJPmS7BmqgLU2BXrly5whcxRcK89q74rU8XXLWZyT+fEpFlACAi8+z7HrOvj3GPx+I31YMJuJy3hGP9fgAX0pSRilS+AqxpH4RvjXIqpgALmNqAozO/M4KZ34ksHYFyZwusH6CfBPCfReTXIrJTRHZGXK5CePXcuXM1DLCo0K5cuSLnzp2rAeDbBZou5+puVR0SkacBNIrIBrP8DIBDGZbHc6oHr0HxTGC1xWzXCSvIohKUrzysaR9cznjaHKCweVhhBhwFcpOH5R5w9NofW2NcDf8pBxEtZna+FawxrQAAZg7CrdGUqHAuXbr0cH9//7f6+/tvBy/OosK6AuDVS5cuPey3QWBwZXcFAuh0tlKJyN1ZFCbheux7Dbhp3fLtDjTdiusB4Opp12VRFIqbuMxLCIQPsID4jIfFRHeyqeoxEdkSdTnyrbGx8d8A3B91OYi8hI32E6apeZlJYs+mb38Q6UcYDkVVd6tqk6o2zZCrc7FLigHmYfmLekR3Ki723IJEFI1QwZVpem6DNXnoI7CmVMhUuqkeiGIVYAHFlYeVSaL7wJVrQm1HRESZSzcUwzz7vqqeVdVnVPVxVX3drK8OeG4LgCZHIvt+APXuqR6yJSL3icjuDzX0PIpUJOTs23mblzAbmQRYYeYlDBJmwNFctWIxwCIiyo/A6W9MbtV8AH2qeijd8ihw+htL3Ke/yVacps0Jm4cFxGPanLB5WED4aXOKXSlOf0NE8RPYcqWqB814VmfNwKH2gKJnzNhXkQZWVPri1E3IPCwqFiLyihk2546oy0JUjsLmXJ01A4faA4q+nudypcVuwfKRaYC1qv9/Y1X//067XTnnYf3Bt9/CH3z7rQnLGGCVlBZVfd2ezJmICqtoxwZR1QOquv4qiXR+SCqQTPKwbn3vLdz63lvpN0R5BFjA5FasG39+ATf+fPL4vAywipN70FDHMDpEFIHQEzcTxUGY8bCeXLA6o326J34Oq1wGHKWi0GXPnAGgR1XfjbQ0RGWuaFuu2C1YvuKWhxVWHFqxmIdVsjoB9MAaLuegGZPwjmiLRFS+ija4YrdgeQsKsNa+1YW1b2U30ke5JLoPXgo37Q0DrKJxCMAeAEdVdamqHlLVXzlas4iogIo2uCLyC7Bufe9N3Prem1nvtxzysD6snI5z04P3YesaWcAgK/6eUtXVriFz/jzKAhGVs6LNuRKR+wDcd80033FMqQzka+LnbOYkBHKfh5VuTkIguzys//aNz1t3BsOPh8V5CS0jl2aEuoigkBwTOAOwBoBW1WeiKg9RuSvalit2C5JTvkZ0jzoPq7L/KuZhkS8R+ZmI7BWR58xtr4g8B04vRhSprIIrEenhAHUUN3FLdI9zN+H93/4V7v/2r8YeZzIvIQOsWNluugMfMrfVqvoQgIeiLhhROcu25eoBDlBHcRSnAAuIbx7W4p5/xeKeyd2FDLCKi6oeBAAR2eRafjyaEhEREDLnSkTuBLAagAIQAHcC+Hwey0WUNfkgP8NzlFIeVhCOh1WU+pwPROQO/vglik7YlqsWALsA7DZ/9+etRCFxnCtKh3lY/t6/GJyryDysorNBRH7tyLnaF3WBiMpZ2ODqqJlf8KyqnkUMkiWZ0E5hxKmbMG55WGECLHYTFo3tqrrQkXO1IeoCEZWzsMHVVtevosiDKyI/706rxLvTKscexynAAuKRhzVYXYXB6qqs5iX0wwArOnbulUNNJAUhIgDhx7na7nzzmhwsoljaNnP5pGUcD2tiHtam/7xq7H7vuY8GzkkIMA8r7kTkbgBbMJ4XewbADyMtFFEZC9VypaoHRWSdabnaxCtRqFgxD8tb77mPcjys4jZfVe+BNQTDg7DyY4koIqGCKxFZB+tqlK0Ajrsv+40CE9rJz9r3X8ba91/2XR+nbsKoJn5+9H8cwqP/49Ck9QywitZZEXlYVYcArIc1gTMRRSRszlWPqh40Ce0HAUTecsWEdvIzU0cxU0cDt4lbgFXoPKwlJ9/CkpNvea4PE2AxDytezOeyPVt5F4ALERaHqOyFDa6aROQOMyr7MljjXBHF0rPXfRbPXvfZtNvFKcACCpvo/uHF4HRLJroXF9O7sMXMmtEHYCjaEhGVt7A5V3sALIfVj79cVXfktVREBSJn3y7KPKyq/qnnYX14saJgeVhdIwsYZOXXGVXdCEBM16BGXSCichZ6+htVfUZV71HVx0VkXh7LRDQlj733Czz23i8yek6cWrGiysPywzysotBoWq1qTe9CQ8TlISprgcGViOw1f+2Z1znOFcXexy8P4eOXM+8ViVuAlc9uwv7aGvTXjg+FlIsAi92EkdoN4MuwLjpqYO8CUbTSjXO11fzd4hx+geNcUamSs2/nfCwsoDDjYQWNhQVMHA/r/1735UnrB/pn+s5JCOR+PCyOhZU7pitwa9oNiaggAluuzFQ3cAVWd8AaoC5SHIqB8iWfeVjZyHUeVpCB/pkFzcMiIipFYce5WmbfNzOtN+WrQGFxKAbKt2JMdAfCBVj/5ds/xl/+z3/w3aZQeVjlnuguIqtEpEVE1vusbzDbrPJa79juS67Hd4jIU+bHMBEVWLqcqwdE5K8BtLlyribPL0JUgko1D+vW3/4rbj8dvBHzsPLLDphUtcs8bvHY7HFV3Q9glojUB+zuZhF5TkQedjzvcQA357TQRBRKum7BH8Car2qdqq4GsFVVHzJvWqKyEKcAC4jHxM82joc1JUthjUkF83fCFX6mNesVEalX1d2q2ufegcMZVX0IQI+I1GB8ENGg5xBRnqTtFjSJkrNE5DSAvxaRXzu7CYnKAfOwgvOw0imlbsLLH04bq5N0NwB1ItLjuDm7/xKuXc92Pb7ZLLsgIrtExL39hOearsHVsNI27H0FtXYRUZ6EHeeqXlUXqOrnVXUh2NRMZaqU87A48XNepFS1yXFzTqg8CGBWmuefUdVBAEdhzRnoyQz0PATgaVitVVtE5GnE4OIjonIUNrhyv0FfAQAOJkpx9Nb0Grw1vSb9hlmKUzdhtgHW63Vz8HrdnEnbcMDRgnoF461X9Zg8fuArjvsJWMGYLzP/65C5yvu8qm41FyARUYGlG+fK1iYi52G9uWthjQJ8FtYcgwvzVDairISZV3Cq4jQelh1gZTIe1hPJh3y3cY6H5WWq42HZAVa5j4elqvtFZLNJZE84Ets7VXW5az1crV4TmLEHV8Oa9kZgfTZ/Pv9nQURewgZXW8ys6xOIyN05Lg9R0YhTgAXkb8BRL3YLll+QlesBRwGUZJClqm3mbpdj2fKg9T5aAOxyPSaiiISduHlCYCUi1V7LC4mDiJKfbOYWzFaxTvz81Peew1Pfey5wG+ZhFZWjqnrWvoFTlBFFKuwgok85bk8DiCyosnEQUfIzLJUYlsqCHrPY8rBuGjyHmwbPxWK4BgZYObHVXMnN+V+JYiBst+AFAPvN/XrwChSKsfZrPxnJcePUTZhNHlYQ5mHF3nZnTwLnfyWKVthuwWccTc4HMfEqFiIy4tSCBXDA0XLhkaIxEElBiAhAyJYrEfkZJr5ZXwHwq3wUiGiqWoetHpFtM6OZpckOsHLdilWIRHcguBUrF4nuANK2YpV7ontYIrJXVVe7PqPtqwV5JTdRRMJ2C26PMnmdKBPVV0ajLgKA/HQT2i1Y2XQTOgOsf5nj34qUrpvQbsHKdzdhmAALKPtuwq3m7xZVPW4vZLcgUbTCDiLKNypRFuLUTeic+PmZz34Rz3z2i77bxqGbkInu6ZkrAwFr7MF5InKHiGwCuwWJIhU2uJow+aeI3JH7ohCVpjgFWEBx5WH9YnAR87DCSajq6wD2AdiNyfMWElEBhQ2uNrgu892Xz0IRlZq4Tfy8/X/9Hb7+s79Pu12hAqxctWKVcYA1JCLLABxX1XfBCZuJIhU2uNquqgtVdbWqPgRgQz4LRVSq4jLg6O/9bggfvTAYatuq/qlP/DzQP7Ng3YRdIwvKMci6AGA5gIdF5AEA0YxHQkQAwgdX6urP5zhXRFmKUzdhthM/+2EeVjRMMnsfgD0A5qvq1jRPIaI8ChtcsT+fKIfiFmAxD6u4icg6WMHVVgDHzY9gIopI2OCqoP35IlIvIg1mRvhEPo9FFJU4BVhAcSW6A8zDculR1YOOgZ6Pp30GEeVNJtPfrAawzvTnNwH4Yd5KZR3vgrk/C8BgHo9FJea1it+Lugih5XPAUcB/PKxXZ93kuTzXA44C/uNhRTHgKBAiMixOTSKisD4r62ENn8OxCYkiEnb6m+OqulVVh1T1BwB2pXuOiKwSkU6PZS0isj7N8QbDlIvIS/u1n4xsfsFsFboVa9ft92LX7fd6rivlPKxSpap7YCW07wawXFV3RFwkorIWGFyJyF7z92dmGIbQM66r6n7nYxFZZZZ3mcct9nLXLSEiq0yA1QVgVTYnRlRs4tRNWMp5WKXKzAF7j6o+LiLzoi4PUTlL1y2Yy6kVlgLYa+73AWgA0OUOwsz+j4lIA4AWWL/EiEKLem7BqcjHlDnA5HkJtx3+DgCg9a4/DXxeJt2EQV2EQLh5CacyZQ6Q2bQ5pcAxp6AAUHsxOLcgUaQCgyt7agVnYGVkMxRDwvV4dsBx7RHhj3mtN92K6wHg6mnXZVEUKmWvVVwfdRGmpBATP9dcHAn9vFKd+Dlb8qGkbYkrIM95Xzm3IFG0AoMrn8t5BVaL0uczPNYgrOT0KVPV3TAtWjUVczTN5lRmfnDNJ6IuQk7kc+LnTIUNsIDim/i5mNmBlYjcDaDFdAnWAKiNtmRE5S1dQnsdrCtOxPw9CKs1qSuLY72C8dareoTI2woiIveJyO4P9eJUdkMUa/nKw5r2QfikdRvzsGLtvKo+DgCqOoTxq62JKAKBwZW5QvA4gKPmisHj5pdS2sDIJKw3ORLZ9wOoN8sTdmJ7tlT1gKquv0pmTGU3VILahn6MtqEfR12MnIlTgAWU7nhYRW65iHzJzKKxDNbQOUQUkbCDiDaKyDIzBc6XYHULBlLVLlWtdSasq2qbWd6WbYGJylGuJ37+VXU9flVdX5ABR8PMSxgk3byEDLCsKwVh9TBsANBgt2IRUTRCDSKqqs+Y6RU2AHg5DmOoiMh9AO67Zlp11EUhKphc5WF976P/bux+ugFH/cQpDytsojvQnb6wRcqMQfiDqMtBROFbrqCqe1T1oTgEVgC7Bal8cTwsf2FasYiI8i10cEVE8THVAGvbqb/HtlN/P2l5ucxLSESUT0UbXPFqQSp3UwmwZlz5EDOueHfBMcAiIpqaog2u2C1IlPtEd9u1v3k/627CMMImugcFWWES3cshyBKRahFh8ilRjIQKrnwGEyWimIhbHlZYbMWaGhF5AMDrAM6aK7mJKAbCtlz1OR+IyB25LwoRTUXcAix2ExZEvarOUtXZCJhSjIgKK2xwtUFEfi0ie0XkOQD78lmoMJhzRX6OzLgRR2bcGHUxIhE2wHo5sQgvJ8KP/cQ8rNjq87rPbkKiaIUa5wquyUHNPFaRUtUDAA7UVMxZF3VZKF5KZW7BbIWZ+Hn/3P8r4/06J37ORK4nfgb8x8NKN/FzCZrv6Elw3l8NgAOJEkUkbHBVb6ax2QXgLABOlkwUc/mc+DnKAUcBK8iaysTPJeTLAJbCGp0dAO4xf+eDwRVRZMIGV2dUdY+I3KmqQyKS/hlEEbHnFdxc84WISxI9vwCr7WQ7AGDzLWuz2m82rVh2F2HYViwGWKGsM/O/TiAid0ZRGCKyZDK34B0Aas2koI35K1I4zLkiP52Vi9BZWdpzyWUiTonuQLzysIqdqh73GorBK+AiosIJG1zthtWH/19gTQr6TP6KFA7HuSI/nVcvQufVDK6c8jkeVjbiNPFzMeNQDETxFDa4agLwIIDfwbpycFn+ikQ0NdVXPkD1lQ+iLkYsFeOAo8DUBxwF4tmKJSKrRKRFRNan2W67zyoOxUAUQ2GDq3pVXaCq96jqAgA357NQRFPROtyF1uGuqIsRW3HqJiz0eFhxYi4Sgqp2mcctPtu1AKj32Q2HYiCKobDB1RnX41cAQETm5bQ0RFQQv9CP46VZt+V8v8WQhxUjSzEeEPUBaHBvICL1cA3i7DJfRO4wObHO+7xSkChCYa8WbBOR8wAGAdTCSmw/C+BOAAvzVLZAInIfgPuumcYfaESZ+vHVi4H38zdcQ77Hw5rqlYQFVCciPY7Hu1V1t7mfcG3r1a1Xr6pdAVdocygGohgKG1xtcQ4iaotyMFEOIkqUvUq9BAAYlYqiHA8rFwOOZmvah+Fa0IyUqjb5rBsEMMvviSLSYncZBuBQDEQxFKpb0CuwClpORPH25Ls/wZPv/mTscdzysMIq8m7CVzDeelUPoNO1/oJJdl8FayDnSd2GAB7yusCIQzEQRStszhURlbi4BVilnoelqvthBU0tABKOxPZOs/6YWTYLk7sQbX2qesi9kPmwRNFicEVEY+IUYAGln+iuqm2q2qWqbY5ly13b7FbVm1X1mMcuzvvs2quVi4gKhMEVEU1QygOOlqBvicivXbfTAPZEXTCichYquBKRdSKy01zmW8NBRIlKX6kOOFpi1qnqQtdtAYDAQUmJKL+KduJmDsVAfjivYHph6ygfVxIC8Zj4uUTM91nOUXSJIpTtxM2R9+dzbkHyw7kF08ukjko5D6sEiM/VgkNRFIaILJlM3PxlAFthTdy8I39FIpoazi2YXqZ1xDyseFLVZ7yuFiSiaIUNru5W1a1mbsEdJvfqKdOaRRQrnFswvWzriHlYRETphQ2ubhaRvSLysHn8uKo+Dk7gTDH0g2v+AD+45g+iLkbJilM3Ya7Hwyo2IvKlqMtARJOFnrhZVVcD6BGRGgAXzPKgCUWJInFkxk04MuOmqItR0uIUYAGZtWKVChGZD/MZ7M67Yq8CUbTCXi042/xCWgrrKhR7gtF6AJxmgWLl45cHAQBvTU9EWo5SZwdYxTbxc6lQ1bMi8tciMgvWSO9nMD6B850AFkZXOqLyFiq4MsMw3A3gaVhTMWwRkacB/M98Fo4oG4+91w0A2FzzhYhLUh6KceLnUqGqGwBrombnfIKcuJkoWmFbrpyTNA+JyJdUdWueykREefbjq2/N6f7iNh5WOQVYgDVRs4isA9AC4BVe0U0UrbAjtN8tIj8TkZ+KyE8BLE/7JCKKrZcqb8ZLlbm9HiVOeViZJLqXAhNY9cEaLue4iGyKuEhEZS1sy9V8Vb3HJLMDVq5VpDhCO1H26i6/BwBITb8up/uNUwsWUFatWD2ObsGzcZhFg6ichb1a8KyIPGxG/V0PoDGPZQqFI7QTZW/zez/H5vd+npd953PA0XyPh1XEmsz4g/PMlYPMuSKKUKjgyuRb2TlXXRgfioGIyFPcuglLmarugZWusRvAcuZcEUUrbM5VNYD55hfRLFhDMhARBWKAVThmKpx7zADPRBShsN2CbbBGY68FkDB/iYjSilOARURUCGET2vc5hmKAiBzNU3mIqATFbcBRIqJ8ChtcJcwQDMdgjQB8J4DP561URFPAeQXTi6qO4jTgaLamfRi/LkYR2amqG6MuBxFZwgZX9QA2OB635KEsRDnBeQXTi7KO4jZcQ4nocswv2KOq70ZaGqIyFzbn6qiqnrVvADrzWSiiqfj45cGx+QXJW9R1xDysnOsE0ANrmJyDIrKMkzcTRSdscLVVRH4tIntF5DkwuKIYe+y97rH5BclbHOoon+NhlaFDAPbA+iG8VFUPqeqvHK1ZRFRAYbsFt7sS2jlAHcVWexVHCikmpZCHFQNPqeoPAMC0WPUBeAQALz4iikAmg4g6zc9DWSYRke2FOA6Vlteuuh6vXXV91MWgDLCbcMoG7Duq+isATWbcq0PRFYmofIVquRKRuwFsAaCwrhY8A+CHeSwXRKQB1phaRBm59cN3AIABVpFhonvmROQBWCOzN4nIGVifzwqr5YqBFVFE8jZxs4isAvCIqi53LRsEUK+qu0McdzBk+YjGrB15BQCwueYLEZeEMsUAKzOq+gMR6YL1mXo87ROIqCDyNnGzqu53PjaBFVS1yzxusZe7bgl7WwD1IpI2kCOizHz/mjvx/WvimTrJRPfMqOqQO7ASkXkRFYeIELLlSlUPioidZ9WFEC1XHpYC2Gvu9wFoANDlDsKM/SKSALsFifLi+Izctw7lWr5asUqJiOxV1dUi8jOM513ZAz0vjK5kROUtbLcgzPhWML+Qsml+Trgez05zvEFYuQSTiMh6WC1ouHradVkUhai81V86DwDoqwh8G0aOAVZaW83fLc7WK17RTRSttN2CIrJORE6LyGUz1tXDWR5rEMCsLJ87garuVtUmVW2aIVfnYpdEZWXD+/8HG97/P1EXI5R8XUlYClw/ep0GPDYnogIJbLkSkXXmbqOqDpmE9odM/tW3MjzWKxhvvarHFAciFZH7ANx3zbTqqeyGiIpAviZ+LnaO7kBxrWK3IFGE0rZcqeoek8huJ07uweQ38iQmYb3Jkci+H1aCeguAhJ3Yni1VPaCq66+SGVPZDREVEbZiTbJdVVer6kPOG4D/J+qCEZWzdDlX532Wn0m3YxM81bqWtZm7UwqsiKh8MQ9rgvWw5hL0Smg/EFmpiMpcuuCq3mfyzwZEPEAduwWJyhcDrDFMaCeKoXTB1ZdhDaHg7gacD2BHXkoUkqoeAHCgpmLOurQbU1nh3ILplUIdMQ9rckK7iMxT1dc5oChRtNIFV+u83qT8VURxxmlv0iulOmIr1tgUZdsBXBCRAQC7OK8gUXQCgyu/Xz9x+FXEbkHyw7kF0yu1OirWACtoSjAzkHK9uS1V1S0Bu0qoapPjufwBTBShsNPfxA6vFiQ/a0deGZtfkLyVYh0V25WEflOCOTwEoMmexcIMnuzHPa4Vx7kiilDoEdqJisWz1zVHXQSKSJG1YHlOCWavdLVkeY4NKCLPAVAAN4vIeQBDsMYTPANgY15KTURpMbiikvPW9ETURaAI5TvRffrFy5lMAl0nIj2Ox7sdQVPCta3nXERm8voLPmMD7lLVg2ELQ0SFUbTBFXOuyM+nLr4BADgy46aIS0JRikkrVsqZC+UyiHBTgq1S1Ue8VvgFViLyJVX9YbgiElGuMeeKSs4Dv/snPPC7f4q6GBQDMc/DSjslmIissgdfFpEGvx2JyN0i8jMR+akZUNRz0nsiKoyibbkiouz99bWfjroIBROTFqxJVHW/iGx2TwkmIp2qutws3y4ij5unBF0tOF9V7zHzvwJWsEZEEWFwRVSG+io803tKVlxbsLymBFPV5eZvF4CbQ+7qrIg8rKrfEpE/h3W1YORD5hCVq6INrphzRZS9Oy9awcbxGfFr0aHMqepBEZlvHnaBLVdEkSra4IrT3xBl749/ZzVqMLgqHap61kx/cxxstSKKVNEmtBMRkcUktPcA2CUie0VkWdRlIipnRdtyRUREYzj9DVGMsOWKiKj4cfobohhhyxURUZHi9DdE8VS0wRWvFiQ/nFswPdZRyeD0N0QxVLTdghyhnfy8NT3B+QXTYB2VBmdgJSLrTDL7pijLRERFHFwR+fnUxTfG5hckb6yj0iIi6wD0AdgK4DgDLKJoFW23IJEfe15BTtzsj3VUcnrM+FaANVp7pIUhKncMrqjkbJvZEnURiAqtSUQUwCCs0dnvBMBcLKKIMLiikvPutKujLgJRQanqHjOn4HIAR1X18XTPIaL8KdrgilcLkp/lH5wCAHRevSjikhAVhohsUtVnADwTdVmIqIgT2nm1IPlZPnoKy0dPRV0MokLqcz4QkTsiKgcRoYhbrogoe23X/WHURaDc2iAi2wEcAyCwcq4WRlskovLF4IqoDKWmXxd1ESi3trvGvLo7ysIQlbui7RYkoux9bvQMPjd6JupiUA6ISDWAV5zLOGo7UbTYckVUhr7wwWsAgJcqb464JEVo9EPI2bejLgUAQEQeALAHgIrIOlX9YdRlIiK2XBERFbN6VZ2lqrMBzI66MERkYXBFRFS8+rzum65CIooIuwWJiIrXfMewC877qwFwIFGiiDC4IiIqXl8GsBTW8AsAcI/5Ox8MrogiU7TBFUdoJz+cWzA91lHJWOeYsHmMiNwZRWGIyFK0OVccoZ38vDvtas4vmAbrqDR4BVZBy4moMIo2uCLys/yDU2PzC5I31hERUf4wuKKSw7kF02MdERHlT9HmXBH52VzzhaiLQEREZYwtV0REREQ5xOCKSs4Dv/tHPPC7f4y6GEREVKYYXFHJ+dTF3+BTF38TdTGIiKhMMeeKqAw9Ub0i6iIQEZUsBldEZWhU+NYnIsoXdgsSlaEvfHACX/jgRNTFICIqSbEMrkSkXkT2icj6qMtCVIo+N9qHz432RV0MIqKSFOe+gXWqOhh1IYiIiIgykbeWKxFZJSKdHstaQrRIXQBQb7avz1cZiYiilO4zMYPPTCKKkbwFV6q63/lYRFaZ5V3mcYu93HVLAGhS1WMA+gCsylcZiYii4veZGHY9EcVXIXOulsIKlmD+NgBWEOa6DQLoE5EGAE0AdhewjEREheL5mZjBeiKKqULmXCVcj2f7baiq9gfKMa/1poncbiYf/en5Pa9OuXTjagAM5Xh7v228lodZ5nxcA2Dop9b9Opzfk0pb4vBYF8Flmer2ea8Lc78OwIS6+Kl95/yeNEX0VMx18fvpCpvOu5dTP/3p+T11ITe/WkR6HI93q6r9gzHh2tb9mZhuPRHFlarm7Qag03F/O4AWc78FwPYcHaMnx2Xenevt/bbxWh5mmfOx6z7rgnXBuihgXUyxHgM/E/P1mckbb7zl/1bIbsFXMP5LrB5Ap/+mkTqQh+39tvFaHmbZgYB1ucS6yH7frIvMti/WupiKdJ+JxfKZSUQuoqr52bGVfLkP1pAK+82yzbC6+hpUtS1Hx+lR1aZc7KvYsS7GsS7GsS7Gxa0uvD4TRaRTVZf7rSei+MtbcFUoIrJex3MYyhrrYhzrYhzrYhzrgogKoeiDKyIiIqI4ieX0N7lgptBpEJHNZuyssiYi68t1nBwRSbjGUStr5fxacOJnBBHlS8kGV7ByFI4B6ALwUNSFiYEeTL60u1w8bvL+ujA+hEc5K+fXghM/I4goL2IdXE1lCh0dHyG+BdaHZ1Gb4nRCJStkvTinULq5cKUrLL5GxoWpi1L7jCCi+Ih1cKVTm0LHXr8f1lyFRW2qdVGqQtZLn2OTM4UrXWGFfY2UgwzeLyXzGUFE8VHIEdpzYSmAvea+PR1El/uDFBj70NxituuE9QFaSkLXhdECYLaIdKk1xVCp8qqXXfaXK8prOiXP1wjK57XgNKkuRAQo7c8IIopIsQVXCdfjoCl0ulDaTf0J1+PAqTHKaIychOvxbLWmU+rz2LbUJVyPZwNl9VpwSrgezy6DzwgiikisuwU9DAKYFXUhYmIQrAsvg2C92AbBurANgnVBRAVSbMEVp4MYx7rwxnoZx7oYx7ogooKJdXBl8qaaHMmo+wHUm+UJOzm1HLAuvLFexrEuxrEuiChKHKGdiIiIKIdi3XJFREREVGwYXBERERHlEIMrIiIiohxicEVEnjjBMxFRdhhcEZUYM+1RQw52NTbBs5mTLxf7JCIqeQyuIiQiDSJyVEQ2my/E9c4JdkWkXkT25enYqxz383acEOVoCXtsr22dZTfrOz2Wr5q8t/yKuH5nqeqxXO7QDF3QlMt9EhGVKgZXETJfgH0wcwKq6m7A6o4x6/tU9cFcH9dM5rzcUY68HCeMTMYb8trWWXazftC53H2uhRCn+g2j3Cb7JiLKNwZX8fMcrMlk7ZatTsf9FvPl12K30pjHm12tNptFZLu532Jax1ocOTT1sAZYbHEfxzxeb5atd+yj0/zd7O4e8jkG3GX02rdR7zw3137deT8TtnWX3fFce/nYuZrnHBWRhLm/y+N5k87FbL/ZtWzCebn41q9HXdrnscscZ8KxPPbtPkd7Hw3uFjqv8/UquwnsnbdBs4sWAEsZbBERZUhVeYvwBmAfgAbXMnWuN3+3A2gx9+vN3zPufdnrAWx3LO903D/j3NbjuZvt8sD6cl3vet6EfQcdw+O+376dzz3qOI7Xeq9t97nPw3VOE5bByiNqCfifTDgXU/d2uXd51b3X/9XvsasuO8399aZOJh0r4BgNru3t810fdL7pyh5wvPXZPI833njjrdxubLmKGdNK0Oex6ikAj4jIGYzPkRY2r2bQcb9PROoDtl3u2L4P491b6Y7ldwzn8/z27XzuBRGpV6srbbdHq8mkbdOUy20XrEAmiPMYfQCaAcwyLXZ2a9dUcpqOedy/YP42eBzLk1rdyvU6nl+V8NjM63xzmo9FREQTMbiKn4dgtUa4taiVt9MIq4UjiDvgSDjXqepY8Obu4oP1xWs/vx7WhLdh+B4jxL6dzx1U1T67yyvNcQZ9juNJRBrUystaDetKOD/OY9QD+F/AhBy50DzqN53ObI5lugQnBWMhz5eIiHKoIuoClDPzxVsPoEVEZpn70PHE9gYADaZ1ZqmIANYX7n6Tz9NgAga7JeIV1z4TauXP2C0hTQAeMdv2mX30OI+jqltMHg9gdTe1ucphH9fet23SMdxl9Nq3oyz1sIIaO0Coh9WCVG/Wr1Jr8t0J27rKlvC5P3auZt9bXGV3m3AuqtrlKDfs8rvq3s2zfl3lanHcXw4rWNziOlYPgIOq2ug+gL0/c5xZ9uvGw9j5+rxuiIgohzhxcxkQkX2a56vVCnGMqRKRzXawGBRYxO1c7G5Sj+XrAfSp6ypKEVlvulRDnW8G5VgfEMAREZHBbsES52ipyDQ3KVbHyJFjItKSJrCK47kk3AtMLlq6ADDt+RIRUe6x5YqoxJj8q75cBlX52CcRUalicEVERESUQ+wWJCIiIsohBldEREREOcTgioiIiCiHGFwRERER5RCDKyIiIqIcYnBFRERElEP/P/T9QK7kaBSzAAAAAElFTkSuQmCC",
      "text/plain": [
       "<Figure size 640x480 with 2 Axes>"
      ]
     },
     "metadata": {},
     "output_type": "display_data"
    }
   ],
   "source": [
    "#Create contour plot and color bar\n",
    "plt.contourf(pmesh,dmesh,P_damage,levels=np.linspace(0,1,11),vmin=0,vmax=1)\n",
    "cbr= plt.colorbar()\n",
    "\n",
    "#Include lines showing one disruption per month, etc.\n",
    "plt.plot([(12),(12)],[d_scan.min(),d_scan.max()],color='red',linestyle='--',label=r'\\textrm{One disruption per month}')\n",
    "plt.plot([(1),(1)],[d_scan.min(),d_scan.max()],color='red',linestyle='-.',label=r'\\textrm{One disruption per year}')\n",
    "plt.plot([1/10,1/10],[d_scan.min(),d_scan.max()],color='red',linestyle='-',label=r'\\textrm{One disruption per ten years}')\n",
    "plt.legend(bbox_to_anchor=(2.05, 1.0))\n",
    "\n",
    "#Add a labels, adjust scales\n",
    "plt.title(r'\\textrm{Probability of TPP closing before } $T=20$ \\textrm{ operational years}')\n",
    "cbr.set_label(r'\\textrm{Probability of TPP closing early, }$P_{\\textrm{damage}}$')\n",
    "plt.ylabel(r'\\textrm{Damage per disruption, } $\\langle d \\rangle$')\n",
    "plt.xlabel(r'\\textrm{Disruption probability per time,} $p [\\textrm{yr}^{-1}]$')\n",
    "plt.yscale('log')\n",
    "plt.xscale('log')\n",
    "plt.savefig('Plots/damage.png',dpi=200,bbox_inches='tight')"
   ]
  },
  {
   "cell_type": "code",
   "execution_count": 92,
   "metadata": {},
   "outputs": [],
   "source": [
    "#Save data from plot\n",
    "np.save('Data/p_scan.npy', p_scan)\n",
    "np.save('Data/d_scan.npy', d_scan)\n",
    "np.save('Data/P_damage.npy', P_damage)"
   ]
  },
  {
   "cell_type": "markdown",
   "metadata": {},
   "source": [
    "We can compute a maximum allowable disruption rate $p$ given the utility's maximum allowable probability of an early plant closure due to damage $P_{\\textrm{damage,max}} \\ll 1$."
   ]
  },
  {
   "cell_type": "code",
   "execution_count": 93,
   "metadata": {},
   "outputs": [],
   "source": [
    "#Function to compute maximum allowable disruption rate\n",
    "def get_p_damage(T,P_damage_max,d):\n",
    "    return np.log(1/P_damage_max)/(T*d)"
   ]
  },
  {
   "cell_type": "markdown",
   "metadata": {},
   "source": [
    "Consider a plant with a power producing lifetime of 20 years, a utility that tolerates $P_{\\textrm{damage,max}}=0.25$, and assume that we can simplify the situation to consider only a single class of disruption that causes accumulated damage of $\\langle d \\rangle = 0.01$. "
   ]
  },
  {
   "cell_type": "code",
   "execution_count": 94,
   "metadata": {},
   "outputs": [
    {
     "name": "stdout",
     "output_type": "stream",
     "text": [
      "In this case, the maximum allowable disruption rate is 11.51 [yr^-1]\n"
     ]
    }
   ],
   "source": [
    "p_example = get_p_damage(T,0.1,0.01)\n",
    "print(f'In this case, the maximum allowable disruption rate is {p_example:.2f} [yr^-1]')"
   ]
  },
  {
   "cell_type": "markdown",
   "metadata": {},
   "source": [
    "We scan over a range of $P_{\\textrm{damage,max}}$ and $\\langle d \\rangle$ to create a plot:"
   ]
  },
  {
   "cell_type": "code",
   "execution_count": 95,
   "metadata": {},
   "outputs": [],
   "source": [
    "#### Parameter range to scan\n",
    "# Range of utility's maximum allowable probability of an early plant closure due to damage\n",
    "P_damage_max_scan = np.logspace(np.log10(10**-0.3),np.log10(10**-2),50)\n",
    "#Average damage per disruption as a proportion of damage budget\n",
    "d_scan = np.logspace(np.log10(10**-5),np.log10(10**-1),40)\n",
    "\n",
    "#Compute p\n",
    "p_req_scan_function = lambda P_damage_max, d: get_p_damage(T,P_damage_max, d)\n",
    "P_damage_mesh, d_mesh, p_req = scan_2d(P_damage_max_scan, d_scan, p_req_scan_function)"
   ]
  },
  {
   "cell_type": "code",
   "execution_count": 96,
   "metadata": {},
   "outputs": [
    {
     "data": {
      "text/plain": [
       "0.23025850929940458"
      ]
     },
     "execution_count": 8,
     "metadata": {},
     "output_type": "execute_result"
    }
   ],
   "source": [
    "get_p_damage(T,0.1,0.5)"
   ]
  },
  {
   "cell_type": "code",
   "execution_count": 9,
   "metadata": {},
   "outputs": [
    {
     "data": {
      "image/png": "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",
      "text/plain": [
       "<Figure size 640x480 with 2 Axes>"
      ]
     },
     "metadata": {},
     "output_type": "display_data"
    }
   ],
   "source": [
    "#Create contour plot and color bar\n",
    "plt.contourf(P_damage_max_scan,d_scan,p_req,norm=colors.LogNorm(vmin=1e-1, vmax=1e5),cmap='plasma')\n",
    "cbr= plt.colorbar()\n",
    "\n",
    "#Add a labels, adjust scales\n",
    "cbr.set_label(r'\\textrm{Maximum allowable disruption rate, }$p [\\textrm{yr}^{-1}]$')\n",
    "plt.ylabel(r'\\textrm{Damage per disruption, }$<d>$')\n",
    "plt.xlabel(r'\\textrm{Maximum tolerated probablility of an early plant closure, }$P_{\\textrm{damage,max}}$')\n",
    "plt.yscale('log')\n",
    "plt.xscale('log')\n",
    "plt.savefig('Plots/damage_disrupt_rate_limit.png',dpi=200)"
   ]
  },
  {
   "cell_type": "code",
   "execution_count": 10,
   "metadata": {},
   "outputs": [],
   "source": [
    "#Save data from plot\n",
    "np.save('Data/P_damage_max_scan.npy', P_damage_max_scan)\n",
    "np.save('Data/p_req.npy', p_req)"
   ]
  },
  {
   "cell_type": "markdown",
   "metadata": {},
   "source": [
    "### IV.C Reduced electricity production because of outage"
   ]
  },
  {
   "cell_type": "markdown",
   "metadata": {},
   "source": [
    "Utilities will expect a TPP to have relatively little operational time interrupted by a disruption-induced outage. This is consistent with TPP costing models which find that a high duty factor is required for economic viability. Given this, we approximate \n",
    "$$\\textrm{Fraction of operating time lost to recovery} = f_{\\textrm{lost}}  \\approx\n",
    "    \\sum_{i\\in \\mathcal{C}} p_i \\langle \\Delta t_{i,\\textrm{recover}} \\rangle,$$\n",
    "where once again $p_i$ is the probability of disruption per time for disruption class $i$ in the set of classes $\\mathcal{C}$ and $\\langle \\Delta t_{i,\\textrm{recover}} \\rangle$ is the average recovery time from that disruption type."
   ]
  },
  {
   "cell_type": "code",
   "execution_count": 11,
   "metadata": {},
   "outputs": [],
   "source": [
    "#Compute f_lost\n",
    "def get_f(p,deltat):\n",
    "    return p*deltat\n"
   ]
  },
  {
   "cell_type": "markdown",
   "metadata": {},
   "source": [
    "We produce plots of $f_{\\textrm{lost}}$ assuming only one type of disruption of disruption with a probabilty of occuring per year $p$ and an average time to recover $\\langle \\Delta t_{\\textrm{recover}} \\rangle$"
   ]
  },
  {
   "cell_type": "code",
   "execution_count": 12,
   "metadata": {},
   "outputs": [],
   "source": [
    "#### Parameter range to scan\n",
    "#Disruption rate\n",
    "p_upper =10**2 #Maximum disruption rate to scan, [year^-1]\n",
    "p_lower =10**-2 #Minimum disruption rate to scan, [year^-1]\n",
    "#Average time to recovery\n",
    "deltat_upper =0.99*10**-2 #Maximum deltat to scan, [year^-1]\n",
    "deltat_lower =10**-4 #Minimum deltat to scan, [year^-1]\n",
    "\n",
    "#Create scan matrices\n",
    "p_scan = np.vstack([np.logspace(np.log10(p_lower),np.log10(p_upper),50).reshape([1,50])]*40) \n",
    "deltat_scan = np.hstack([(np.logspace(np.log10(deltat_lower),np.log10(deltat_upper),40)).reshape([40,1])]*50) \n",
    "\n",
    "p_mesh, deltat_mesh, f_array = scan_2d(p_scan, deltat_scan, get_f)"
   ]
  },
  {
   "cell_type": "code",
   "execution_count": null,
   "metadata": {},
   "outputs": [],
   "source": []
  },
  {
   "cell_type": "code",
   "execution_count": 13,
   "metadata": {
    "scrolled": false
   },
   "outputs": [
    {
     "data": {
      "image/png": "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",
      "text/plain": [
       "<Figure size 640x480 with 2 Axes>"
      ]
     },
     "metadata": {},
     "output_type": "display_data"
    }
   ],
   "source": [
    "#Create contour plot and color bar\n",
    "plt.contourf(p_mesh,deltat_mesh,f_array,norm=colors.LogNorm(vmin=f_array.min(), vmax=1),cmap='cividis',vmax=1)\n",
    "cbr= plt.colorbar(ticks=np.logspace(-6,0,7,endpoint=True))\n",
    "\n",
    "#Include lines showing one disruption per month, etc.\n",
    "plt.plot([(12),(12)],[deltat_scan.min(),deltat_scan.max()],color='red',linestyle='--',label=r'\\textrm{One disruption per month}')\n",
    "plt.plot([(1),(1)],[deltat_scan.min(),deltat_scan.max()],color='red',linestyle='-.',label=r'\\textrm{One disruption per year}')\n",
    "plt.plot([1/10,1/10],[deltat_scan.min(),deltat_scan.max()],color='red',linestyle='-',label=r'\\textrm{One disruption per ten years}')\n",
    "plt.legend(bbox_to_anchor=(2, 1.0))\n",
    "\n",
    "#Add a labels, adjust scales\n",
    "cbr.set_label(r'\\textrm{Fraction of lost operating time, }$f_{\\textrm{lost}}$')\n",
    "plt.ylabel(r'\\textrm{Average recovery time, }$ \\tau_{\\textrm{recover}} [\\textrm{yr}]$')\n",
    "plt.xlabel(r'\\textrm{Disruption probability per time, } $p [\\textrm{yr}^{-1}]$')\n",
    "plt.yscale('log')\n",
    "plt.xscale('log')\n",
    "plt.ylim(1e-4,1e-2)\n",
    "plt.savefig('Plots/lost_time.png',dpi=200,bbox_inches='tight')"
   ]
  },
  {
   "cell_type": "code",
   "execution_count": 14,
   "metadata": {},
   "outputs": [],
   "source": [
    "#Save data from plot\n",
    "np.save('Data/deltat_scan.npy', deltat_scan)\n",
    "np.save('Data/f_array.npy', f_array)"
   ]
  },
  {
   "cell_type": "markdown",
   "metadata": {},
   "source": [
    "Requiring that the fraction of lost operating time is relatively small can be stated as\n",
    "$$\n",
    "    f_{\\textrm{lost}}  < f_{\\textrm{lost,max}} \\ll 1,\n",
    "$$\n",
    "where $f_{\\textrm{lost,max}}$ represents that maximum fraction of operating time that a utility can tolerate due to disruption recovery. For example, if we consider only class $E$ disruptions with an average of two months of recovery time for a given TPP, and take $f_{\\textrm{lost,max}} = 0.25$, then this leads to the required disruption rate of"
   ]
  },
  {
   "cell_type": "code",
   "execution_count": 15,
   "metadata": {},
   "outputs": [
    {
     "name": "stdout",
     "output_type": "stream",
     "text": [
      "In this case, the maximum allowable disruption rate is 1.50 [yr^-1]\n"
     ]
    }
   ],
   "source": [
    "#Function to compute maximum allowable disruption rate\n",
    "def get_p_lost(f_lost_max,deltat):\n",
    "    return f_lost_max/(deltat)\n",
    "\n",
    "p_example_lost = get_p_lost(0.25,1/6)\n",
    "print(f'In this case, the maximum allowable disruption rate is {p_example_lost:.2f} [yr^-1]')"
   ]
  },
  {
   "cell_type": "markdown",
   "metadata": {},
   "source": [
    "We plot the maximum allowable disruption rate for a range of $f_{\\textrm{lost,max}}$ and $\\langle \\Delta t_{\\textrm{recover}} \\rangle$. Recall that disruptions rates for high performances plasmas are typically on the order of $p \\gtrapprox 1 \\textrm{ min}^{-1} \\approx 5 \\cdot 10^{5} \\textrm{ yr}^{-1}$ for comparison."
   ]
  },
  {
   "cell_type": "code",
   "execution_count": 16,
   "metadata": {},
   "outputs": [],
   "source": [
    "#### Parameter range to scan\n",
    "#Maximum fraction of operating time that a utility can tolerate due to disruption recovery\n",
    "f_lost_max_upper =10**-0.5 #Maximum f_lost_max to scan\n",
    "f_lost_max_lower =10**-2 #Minimum f_lost_max to scan\n",
    "\n",
    "\n",
    "#Create scan matrices\n",
    "f_lost_max_scan = np.logspace(np.log10(f_lost_max_lower),np.log10(f_lost_max_upper),50)\n",
    "\n",
    "#Compute p\n",
    "f_lost_max_mesh, deltat_mesh, p_req_lost =  scan_2d(f_lost_max_scan, deltat_scan, get_p_lost)"
   ]
  },
  {
   "cell_type": "code",
   "execution_count": 17,
   "metadata": {
    "scrolled": true
   },
   "outputs": [
    {
     "data": {
      "image/png": "iVBORw0KGgoAAAANSUhEUgAAAYIAAAELCAYAAADURYGZAAAAOXRFWHRTb2Z0d2FyZQBNYXRwbG90bGliIHZlcnNpb24zLjMuMSwgaHR0cHM6Ly9tYXRwbG90bGliLm9yZy/d3fzzAAAACXBIWXMAAAsTAAALEwEAmpwYAAAhqUlEQVR4nO3dzW9d550f8O8305k6CWBdUR4UdRvUuhpjkGIWEknNbLqyL50ChTcxY+UPMCkF3TqilOUsxqY8+wypbLJURBsovIpJCbMq0Ip6GWCKIkhEukXQ2Vg0KdQTN4PBr4vnOdTh4X15zr3n9TnfDyCI9/K8PPfq6nzveV5pZhARke76Rt0FEBGReikIREQ6TkEgItJxCgIRkY5rZBCQ7JOcJ3mdZK/u8oiI1I3kelnHbmQQAJg3s0cAdgC8W3dhRETqRHIeQK+s45cWBCSXSW4PeW5AcnXcvma25X8cwIWBiEh0cl4nD8sqR2lBkLqYA3Avzj+/4x8Pkuczf3qp328BOCirjCIidQq5TibPAeiT7JdRjn9RxkFHuAzgjv95D8A8gJ3sGwEch8Ca324bLhBERGJ36jppZrf8F+ReWSetMgh6mcfnRm3o03BklZC/ZVoFgD/Ev1x4Bf+miPKJ1OLb3/x93UXojN/87rdfmNkfz3KMt/79nD376p+Ctn30v//v/wDwdeqpTTPbHLNLL/P4HACY2SGApfBS5lNlEBwCmCviQP6N3ASAV3nBVv7gr4o4rEil/uLPflt3ETrnP/3d+/9r1mM8++qf8F/XFoO2fek//+3XZha2sXOIgq6TeVTZa+gBXqRdH67KR6STFAIyQi3XyTJ7DQ0ALKYaP7bgGjsGAHpJY4hIl/zFn/1WIdAtZ0huknx72C+bcp0srWrIv4Czmedu+R8VAtIpuvh31pGZjewu35TrZFMHlE1E8m2Sm1/jq7qLIjKWQqDTxt4RNEWVjcWFMrNPAXz6Ki+s1F0WkWEUAIIJdwRN0dogEGkqBYC0TWurhkSaSCEgbaQ7ApECKABkhDMkNwF86quzG0lBIDIjhYCMoTaCMvlW+LfP4l/VXRTpKAWAxKK1bQRm9qmZrb6Eb9ddFOkYDQqTHNR9VCQ2CgDJSVVDIrFQAEjMFAQiYygApAsUBCIjKASk6UheArAIwEZt4n+3a2ZPRh2ntUGgXkNSFgWAFKjscQRzZnZ70kYk3wHwZNTvWxsEmmtIiqYAkBKU2lhsZvcCt/t43O9b231UpEgKAWk7ki9Pu29r7whEiqAAkLYi+QZerGZGuLaCm9McS0EgnaUQkJa7AGA39bg/7YEUBNI5CgCpUGmNxUMaiR9PeywFgXSGAkBqUMnIYpIvm9nzafdvbRCo+6iEUgBIBwwAfDLtzq3tNaRJ5ySEQkA6grPs3No7ApFxFADSMaNGFgdp7R2ByCgKAekg3RGIAAoA6a5JI4cn0R2BtJ4WipEGq2xhGpLvT7uv7gik1RQA0nBVLkyzl35A8uK4GUfTFATSSgoAkVOukVwH8AiuzeASgNdDdlQQSKsoAERGWk/PRkryzdAdRwZBZsGDZHGDE5sgYMGDsmhAWfcoBETGWgZwHAShU1QD4+8IClnwoCxaj6A7FAAiQXb8XUDyBT14yomRvYYytxgjW6Nn7bYkMop6A4nksg3gAYAFAPdIvkHyYsiOod1HT7VG5ymdSF4KAJHc7gO4DeChmV02s/tm9sSvWzBWaGPx1K3RInkoAESm9kG2hobkjwE8nLRjaBBM3RotEkohIBEqdfH69FiBYdX0ZvZRdrthQoNg6tZokUkUABKxsgeUXSC5mHo8rIcnABxgTKee0CCYujVaZBQFgMhsiuqsE9pYPHVrtMgwCgGR5gi9I7gP4CmAjaTOCQBIvmFm90spmURJASDSPKFBMHVrdFk0srhdFAAizTWyaihd9TOqNdrM7tdVRaSlKttDISDSbOPuCAppjZbuUgCItMPIINDUETItBYBIuwSvUDbL6jfSHQoBkfbJsx7B1KvfSPwUACL1IrkCYB7ABoB9AAuhvTrzrFl8jeSvSd4h+QsAd/MXVWKkEBApD8k+yXmS10n2xmz61Mx+BIBmdpTnHHnuCDTfkJygABCpxIH/AwBzAA5HbLdA8gDAWT/j6DzcGLCJ8twR9En+lORFkmcwvAeRdIDWCRApBsllkttDnhuQXAUAMzsMPNwmgB8CuAFg3sz+OrQceYJg6tsOiYcCQKQ4ZraVfkxy2T+/4x8PSC77MNiBmwB01LGOzOyGmb0FNxXQy6HlyBMEC37wWPq2QzpCdwEilbiMFx1z9uCus49IzgMYwH3rHyq9AI2ZPYZbcz5InjaCTQA3fcE+y3PbIe2li7/E4rsXfwX8Xd2lmKiXeXzOzJJgeDRsB79u/BKARZJP8WLw7x4C2wjyBMGHvmpIOkIhIDH47sVfFXq833/1Ev7Pfw9doPFvXyG5m3pi08xGfquHawiey1MeM/uY5A6Avr8TyC1PEGz5qqE5AAcaQxAvBYDEougQmMIXZhZcRQM33X/P/9yHWwJgIt9ueyIESH7fzD4J2T9PEDwws+e+2+hPSD6r8w5Bs48WTwEgsWhAACTGLlVJcgBXpbNsZltmtuXHCwwA9JJG4xD+2rwGVy1EuKUDCg+C+ySfwQ0kW6m755B/Uz99lRdW6ixHLBQCEoMGBUBi7FKV/kJ/NvPcLf9jcAh4583sLd+9H3B3FEHyBMGpNQmk/RQAEosGhkDV9km+Z2Y/8+vFfIlMddEowUGgEIiLAkBi0fAAGFs1VCQzu0fyvH+4g5LuCJJJjQZw7QXqPtpSCgGJQcMDIDG2aqhIJN9Prsu+91BwD6I801CvwPVLvQHgsaalbh8NCpNYtCQEqnZqhujQHfPcEeym+qjuk8yxq9RJF3+JRQsDoLKqIbgZotfhBp4RwCUAQQMe8gTBIkmDG/DQ9ye5N3YPqZ1CQGLQwgBIVFY1hBlmiM7TWHzbt0QvAXhoZjfzlVGqpACQWLQ4BCqVDoFhj8cJDgKfLueSfqok3whd/UaqpRCQGCgAqpOnauiZmd0A3HBmvwCCNIgCQGIRUQhU2UZwAsmXzex5yLZ5gmCJZB+uZXoOroroSf7iSdEUABKLiAIgUWX30UsAruDFFBOXAHwvZN88bQQf+elOrwH4jdoImkEhIDGIMADqMIBbuD79OEieNoIVAAsA/gau+6jaCGqkAJAYKAAK9dDM9pMH2SUwx8lTNfTU9xy66NsIcpVQiqEAkFh0JASqbCO4QXIDJY8jWPANxHOppSp1R1AhhYDEoCMBkKhzHMGl0B21VGULKAAkFh0LgUr5Seemmg8uTxCsJN1HpRoKAImFAqB8mfng+ulJ6CbJEwSnJjTScpXlUQhIDBQAlZp6Prg8QTD1hEZliHWpSgWAxEIhAKDaxuKp54MLCgKSH2CGCY3KEONSlQoBiYEC4ITKGotT88EN4L6wb0zY5VjoHUFvlgmNZDwFgMRCIVA9knfM7ArJz+DuBo4AXACwjYK7j14g+R7cIstfwtVFPcldYjlBASCxUADUKunEs5ZqIyil++gjM/uZP/h5uC6kT0JPIqcpBCQGCoD6JaOJh4TA09BjhAbBBsnXzOxzf9L9iXvIUAoAiYECoHnS0/6Y2WM/8Ddo0G9QEKTnr5DpKAAkFgqBZvGTgS7B9Rp6Cter0+C6/BcXBDIbhYDEQAEwldK7j5rZxyR3APTT1UN5KAhKpACQWCgEplZJ91EzOwLwGACSavw8+ysISqAAkFgoANrDj+3aALDnO/VcDV0qQEFQMIWAxEAB0Ep9M/uT5IGfe0hBUCUFgMRCIdBa2e6iD4CwqiIFwYwUABILBUDr3SL5DG508VkAZ0nuI2BeuNC5hlbgBpFtwI0hWNAylQoBiYMCIBprw6b+CZkXLvSOIFmm8pKWqVQASDwUAvHIhgDJl83seci8cKFBkCxTedaPVltAB5epVABILBQA8fGzRB8/BPAmgMsh+4YGQbJM5SUA22b2Ua4SRkAhIDFQAETtAMCW/7mPEuYaMrgpTbcBlzxmdjNPCdtKASCxUAjUorKFaTJf0Pd9w3GQ0CC4BWAXbgpqwLVIR08hIDFQANSqsoVp/HoEX6aeeoDAWaJDg+BuZnWyh8GlayEFgMRCIdAp6yENw8MEr1BG8pc4uV7x96Y5YZMpACQWCoBOCl6jOCs0CPoArqUeD6Y5WZMpBCQGCoBO20s/IHkxdCXJ0CB4mF6TgOR2eNmaTQEgsVAIdN41kus4WXNT6JrFN0huTHOCplIASCwUAOKtZ9pyJ44oToQGQfYEwYsiN5FCQGKgAJAMI/kagB5c9f3W2K1TQpeqzDZAfDl0w4ZTAEgsFAIyRM/MPif5a7jZH/qhO44NApJ3zOxKpn9q66qGFAASCwWAjHHkpwB6bGbPSfZR0DiCG/7vtfRamG2qGlIISAwUABLgAMAVACt+QftFAJ+E7Dg2CJKeQpkQuIgcc1hMwydZD66ea9PMDvMeQwEgsVAIdFvo9dBfp5Nr9cd5Bv6GrkfwRrL+gJk98bcfZc4+euD/AMAc3EILwRQCEgMFgHjzZrblp/9/F24S0GNFVOFPaiN4B8ASgEWST/3BDW7gwtggILkMt3jyUua5Q7i1NTdH7WtmhyR7IS8gTQEgMVAAdEfIddLMkt4/o3oCzVyFP6lq6GOSO75Aj8dtO2TfLZJXU4Va9s/vkFwlOfA/L2d23QEw8PvvAFiGm/RuJAWAxEIh0C05rpNJCBwMOcapKnyvuGmozewIL+qdZnEZwB3/8x7c0pc7qbQ7RvIRyXn4OrFxB/32N39fQNFE6qUAEO/UddJXCa35x9vI3BWQfH/IcQh3/QyaE67Kxet7mcfnRm1oZsmcGY+G/Z7kKoBVAPjjP+zEjNgSKQVA+3z9jy/hfz7509DNXyG5m3q8Oa5aHEOuk2a2A1dTMvIccOExSG03F1pAoNogOETOwo3i38hNAHj9W9+xIo4pUjWFQCd8YWaLObY/RM7rpJndAACSZzNtBIUvTFOEB3iRdn341c5EukYB0Cl5Vyib5Tq54KuRkqr34AFl3wjZiORPcxQm2WcA19soafzYAtD3z/f87Y5IpygEOufIzFZHhUCR10m/VOUFuM41fTP769B9Q+8IdvzYAQDYNbPnAYXaQWZJSzNLev8oBKRTFAAyTNHXSTO7DeB23v2C7gjgbk924SYyukfyDT/CuDYk3ya5+dU//67OYoiM9d2Lv1IIdNsZkpsk3667IOOEBsF9uJR5aGaXzex+aoRxLczsUzNb/fYffLOuIoiMpQAQTKgaaorQqqEPzOzj9BMkfwwg6kXsRaahAJA6kFyBayTeALAPYCGZGmiS0CA4n33CN0yIiKcAkCHy9hqaxVMzu03ykpkd+R5EQUKrhk4tipyjcCLRUwjICFVWDS34a/NZX20/H7pj6B3B1Isil8U3vrz9r/9o5ABlkdIpAKRBNgHchAuAz8roPjr1oshl8Qn76evf+s5K3WWR7lEASNP4eeGSmUhB8jUz+zxk39Ag6PsBD0kjhKZ1kM5SCEgOpbcRZNYhOH4aRa1HkDJ1I4RILBQAMoUjM1st+RwnamwSedYjCG0snroRQiQGCgFpqmwIkHzNPx+8fEDoHcHUjRAibaYAkLbwbbfrAA5Ifglgo+hxBB+a2Y+mLaBI2ygApCBVjiPopae8LmypypQtXzU0B+DAzJ7kKl4J1H1UyqIQkAJV0UaQyDYYZx+PFBoED8zsub/1+AnJZ3XfIaj7qBRNASBtRPIXcD05L/jFaI7g1jR4CiDoOh0aBPf9Ce4CWPH9VUWioACQltsY1msoj6knnROJgUJA2m5UCJD8vpl9EnKMoCBQCEhsFAASG191vwZXTUS4qqHigsCfZAXAAK69QN1HpZUUAFKxKnsNnTezt0ie8Y/7oTuGrlm8AjcD6Q0Aj0m+n7+MIvVSCEgNqpx9dJ/ke74NdxVuRckgoXcEu6lRavtNmGJC3UcllAJAusDM7pFM1o7ZQdF3BAAWSV4k+ZqfYiJ4oEJZtFSlhFAISFeQ/KmZ7QNueok8bbuhjcW3/dKUS3DrFt+crqgi1VAASAftpAb+Aq4m53nIjkFB4FujzyUNESTfCJ3DQqRKCgDpsGQN+SUAF+Dmhgvq2BPaRvDMzG4AbvEDkge5iyhSIgWANFSVvYa2ADwAsJ13TfnQIFgi2YfrOTQHlzhP8pxIpCwKAWmwKucaWjGzxyTP+8VqgqvxQ9sIPiL5DoBrAH6jNgJpAgWAyAm3/VRAjwBczzM5aGgbwQpcn9S/ges+qjYCqZVCQOSUD/CixmaAHLU2eZeqvKilKqVOCgCRkebgppXYgVtn/v3QWSBCg2DBNxDPpZaqrPWOQAPKukUBIDLRg1R1UK6Bv6EDyjYB/BBuion5Jsw1pAFl3aEQEAlyedqBv6F3BCtJ91GRqigARMLNMvA3NAj20g98W8GT8CKKhFMAiEzHjx/4CABIvmZmn4fsFxoE10iuw3VLItwtx+tTlFNkLIWASD5+zEB2feJc1+nQIFhPr4Ljp5wQKYwCQCJVxcjiE9fnBMli2wiyJ5l1fUyRhAJAIlf6yOIx1+PsXcJIwSuUiRRNISAyu1TVUNJfNFmqsvCqIZHCKABECjVz1VDoOAKRQigERIo1pmro/IjnT8kz19A8gA0A+wAW6p5rSCOL20UBIFIu34lnDS+qhp4C+CRk37xzDV1qylxDvgX+09e/9Z2VussioykARCpzPlk8zD8ufM3iBb8E2tnUXEMiYykERCq1T/I9MzsCsAo3Y3SQ0DuCTQA34QLgsybMNSTNpQAQqZ6Z3SOZtAvsIMcdQWgQvJmea8jfHVwBcEdTTUhCASBSLzPb938/BvA4dL/QqqELJO+QfM8/vuknNLqQr5gSK4WASHvlaSz+yE9xegZAsnj93ridJH4KAJHykVwFsGdmO2UcPzQIzpH8PoDLcHVPSZ/NPnLcfkg8FAAildrFhDp/ki8DWEweAhiETkUdVDVkZrcBHAH4EO4uYI3kh3D9VKVjFAIixSC5THJ7yHMDfxeQxy246vqzAHr+7yDBU0ykRq8dkfy+FqrpHgWASLHMbIvk1eQxyWX//A7JVZKDHNVBdzOzRD8MLUfoyOL0iDXA3RUEjViT9lMAiFTmMoA7/uc9uC77OwAGcFX0O2Z2OGLfHslf4uS6Md8LOWnoHcHUI9ak3RQCEoNX//zX7oefV37qV0juph5vmtnmmO17mcfnAMDMbgWcqw/gWurxIKiECA+CZMTaz/yamF9CjcRRUwBILI5DoCBf/e6P8N/+/t+Gbv6FmS1O3uzYIYC53IVyHibjCAAg2/YwTvDCNNOOWJP2UQhIDIoOgIo8wIu7gj6A4Is5gBskNzDFksKhbQTvJ9NK5B2xVhbNPlo8BYDEokEhMHapSpIDAIskl81syzceX/fP93KOG8guKVzsUpXIDBwjebHuqSU0+2hxFAASiwYFQGLsUpX+Qn8281zSHpBr8NiQdQmCu/eHBsE1kuuY4pZDmk0hIDFoYABUjuQH6YcA3oTrhTRRaBBkbzneDC+eNJECQGLQggAYWzVUsAMAW/7nPkq4I+j7gQ7JCmU2YXtpKAWAxKIFIQBMqBoqkpl9lHq4T/JZ6L6tXaFM8lMISAxaEgCVI/kZXNd+wn1ZfwDgSci+oUGwQPIAJ1coq3XNYgmnAJBYtDAEqqwaWh/SYBxEK5RFTAEgsWhhACQqqxoC8MB/UU8shc4+GhoEH5rZj/KXS+qiEJAYtDgA6nALwEO8WC+m8NlHt/zylHMADuoeQyCjKQAkFpGEQJVVQ+XOPgrggZk9991Gf0Lyme4QmkUBILGIJAASVVYNlT776H3fFekugBUzO5qqmFIKhYDEILIAqEPps49+YGYf5yqSlE4BILFQCBSi9NlHT4RAMiV1ePmkaAoBiYECoFDlzj4KACRfA7AM4IcAzgNQENRAASAx6FAA1DaOoLDZR0m+DGAV7uLfg5u74gc4vYqOlEwBILHoUAgA1U4xkR1M9mXovpPuCH4G1wDxnpk9Iflmug5KqqEQkBh0LAAqQ/KOmV1JTTEBFFk1ZGbv+hO9Q/Iy3MjieyRfM7PPpy65BFEASCwUAqW64f9e8wuHAShhYZp0YzHJd+Cqi4L6p0p+CgCJhQKgfKlamgWcXD3yTQSuJhncWJw66cck9yZvWa5Yl6pUCEgMFADHqmwsfstfm3fhpps4DyBoXrjcQQAcr1tcq9iWqlQASCwUAidUObL4PQBXAKzDDfx9ErrjVEEgxVEASCwUALXbh2snuEzyEslfmlmhU0xICRQCEgMFQGOsJu25ZvbYV0kFURDUQAEgsVAINMeQaYCClxRWEFRIASCxUAA0j58deg0uAAg3APiTkH0VBBVRCEgMFACNdt7M3iJ5xj/uh+74jZIKJN53L/5KISBRUAhM5QzJTd/dvWz7fkLQI7ixXguhO+qOoEQKAImBAmAmlc41RPK8f7iDHHcECoISKAAkFgqB5iN5MRkzkIwy9r2G1FhcBwWAxEIB0CpbJJ9mniPcyOJi1yOQ8RQCEgMFQCtd9X/vAThIPf9u6AEUBDNSAEgsFALtlKxD4HsL9d1T9gTA7dBjKAimpACQWCgA4uB7Cz0GAJIfuqfsZsi+CoIpKAQkBgqAuJC8COAaXNvAFoBfhO6rIMhBASCxUAjEg+SP4doDduDWLd73z18E8CTkGAqCAAoAiYUCoHJVrEewhBerlJ33YwkI4DoCFxBTEEygEJAYKABqU8WAsrVha8SQPBi28TAKghEUABILhUDcRi0UlmcBMQVBhgJAYqEAkFCadC5FISCxUAhIHrojgAJA4qEAkGl0PggUAhIDBYDMorNBoACQGCgApAidCwIFgMRCISBF6VQQKAQkBgoAKVongkABILFQCEgZog4CBYDEQgEgZWp0EJBcN7O1afZVCEgMFABCsgdg4B/umNlh0edobBCQnAfQy7ufAkBioRAQ76aZrflAWAVwq+gTlBYEJJcBXDWzpcxzhwD6ZrYZcJjD0PMpACQWCoDuCLxO9lO7XCijHKVNMWFmW+nH/sXBzHb840HyfOZPL9kWQJ9kHxMoBCQGr/75rxUCHRN4ndxLbZJdpL4QVVYNXQZwx/+8B2Aerr5ra8i2W/42qDfpoC996+uiyidSGwWAeMOukxupL8chNSm5VRkEvczjc+M29g0iS8N+R3IVrq4MAP5f/+e3/37WwjXQGQBHEZ6/iONOe4y8++XZPmTb0dv8HADwCoAvAs/XJnV+lrPn/nezHvAfsPfLv/znH74SuPlLJHdTjzcnVIv3Mo/PmdkeTt4VFK7KIDgEMFfEgfwbuQkAJHfNbLGI4zYJyc0KFrSo/PxFHHfaY+TdL8/2IdtO2kaf5Xac28z+Y5HHyzhEQdfJPKqchvoBXqRdH8B2heduo7KWtav7/EUcd9pj5N0vz/Yh29b9b1qXOl93297zWq6TNLNyDuwaOe4CWEnaAUheB/AIwLyZFdIFKtZvUdI9+ix3T1XXyYnlKCsIqkJyNbArqkij6bMsdWl9EIziu5324EbkbZYxGk+kKr6DxF7SrVCkSDEvVTlvZo8A7AB4t+7CiMxoF1OMtBcJ0egg8APMtoc8N/DfkEZKjU8YwIWBSG1m+SyLlK3RQTDL6OTU77cAHFRacJGMWT/LImVq7KRzIwSPTvb/sdb8dttwgSDSFHlG2gPuzvYcyVJmn5Rua1sQ9DKPR45O9t+0VCUkTdXLPJ400r6SboTSTY2uGhriEDWMuhMpwSH0WZaGaFsQaHSyxEKfZWmMRgeBr+dfTDWsbcFNTT0A0FOfamkLfZalyaIdUCYiImEafUcgIiLlUxCIiHScgkBEpOMUBCIiHacgkGB+RtfGa0s5RZqi9UFAcp7ktl/MIf38gORTkvM5jtUnebf4Uo495/KE3w+yk5UVfY7UduvZ9zH1uw0AvdBjjStDme/zrOWc4byFv76y3rNpPlN53k9//OvJ/EnSfK0PAj/V9DqAK0N+ved/H3qsPTP7QWGFm8BPKLY0bhvfv/ywzHOk3BnzuzkzezRmLpzgMpT8Pk9dzmmV8frKfM/yfqZyfoYA4KqZ3dLYiPZofRCk7CTf/v0Hdy/9y2S638wsj1+S7JG86383n3xTSr41pb7dJFMGb/h9Bqltr5NcD9kvU+Y+3CCjQaqcSTlOTU3sz3s9/Vr8uZaTb/LZ15k9R/YYqfIP4CY2O8W/r32/T8g5k2PO++eyZTh+n4e95iHv4dC7uiH7HZczcPsByYeZ97OI93jc52g+U57l5HOSKW6eY2Y/m6f+jccZ9j76fZeH/ftNONYA7o4s+E5cGsDMWv8H7gLWB7DhH8/DDd/f9o/7AFb9z9up/Vb9n0Hqubupn5+m9t9O7TNIb+t/vx66X6bs6fNdh1tQJ3lNq5nzrKd+v5E+14TXmT7HiWNkXs88gOsj3uNT78uocwJYBrCcnC+7f+Y1jXrN6fdwfUh5xr5XObZPv09Pi3iPJ3yO1lNlWJ5Q5tBjnviMDXsNo4497H3x+yefif64Mg457nzq/Rmk36PA/ZfzbK8/xfyJ5o7AzPbg/lMM/Z2ZbWa/kZtbH/Yq3OpPwzwa8nPI2gbT7reEF7fsezh9Oz4PYM5/29rInmvU65xwjCVk7p4CTDrn8THNbG3CsUa95klVepPeq9DtD1Pb7AH4D5j9Pc4a9lp2AVz255mmDWjcZ2zY52SUYe/LBwCuknyK/KuiLcL/f7Lyq6CkINEEgXeX5Lpl2gX8re6pRlD/H2UF7hvQLGbupeLL8ih1rD7cxGRp28Bxu8ipi/eo15k5R/YYD+AuHMAUs2GOOOfT5FjZC+aQKoNJr3mUvPuN2j5dvj6A/wLM/B6HmIP7t9izCQvWT1HNMvZzkjHsfRmYa49YQKa6MKAsC9n/f6l9p66CmlQdltpmbPXvhLJ3VuuDwH8w1/zfv0j96l24+uJ5uA/Yof97z39AluFu0x/57ZL623m6HhrHP8P9Z0h+XsKLby0PUsdP6pdD9kvb8x/cPf/tOalXnzezW+njmZuTPvl98h9mPvWf89TrHHKOE8fwj49fL4ClERfv+eQ/7qRz+mMu+W0Ws2XIvKaxrzn1Hp4o04T9Tl2shm3vfzWXujhdLeI9DvgcJa/lKoB1f5EadoHNc8zjz1j2NWQPOun9h7tTWfavMWl0T5elR/LhkPKO5MNzNwkn/35fAY4n4Es6duzZkEZm/1zf/70F92+1A+Ah3L9T3/9+E25BquS4a3DXgo1JgdtpdddN6Y/+1PkHgXXfJZx3fdzjpv+BbztIPV5Gqu0l+/7C3aUk7Q19AHfh7sbuwt1Bzqe3H/dvhZNtLcs42cbXQ6ZdAi4senW/Z03+0/o7ApFppb7t1zEA7Y6/M533377Hdd1tol7m8R7cxXbUt+6iq6BOqKD6N2qahlpESuEvwnfhqqv2/IX6EV5U5a3DBcIegEO/zTrc3UPSgeOemS2kjwUXGj+Aq1pbg6uqewDX7rLrn08a4K+a2RJd19tt05KfQykIRKSxfDtG3l5tkpOqhkSkyXp1F6ALdEcgItJxuiMQEek4BYGISMcpCEREOk5BICLScQoCEZGOUxCIiHTc/wcUzwAnSCp7IgAAAABJRU5ErkJggg==",
      "text/plain": [
       "<Figure size 640x480 with 2 Axes>"
      ]
     },
     "metadata": {},
     "output_type": "display_data"
    }
   ],
   "source": [
    "#Create contour plot and color bar\n",
    "plt.contourf(f_lost_max_mesh,deltat_mesh,p_req_lost,norm=colors.LogNorm(vmin=p_req.min(), vmax=p_req.max()),cmap='plasma')\n",
    "cbr= plt.colorbar()\n",
    "\n",
    "#Add a labels, adjust scales\n",
    "cbr.set_label(r'\\textrm{Maximum allowable disruption rate } $ [\\textrm{yr}^{-1}]$')\n",
    "plt.ylabel(r'\\textrm{Average recovery time } $\\tau_{\\textrm{recover}}  [\\textrm{yr}] $')\n",
    "plt.xlabel(r'\\textrm{Maximum tolerated fraction of operating time lost, }$f_{\\textrm{lost,max}}$')\n",
    "plt.yscale('log')\n",
    "plt.xscale('log')\n",
    "plt.ylim(1e-4,1e-2)\n",
    "plt.savefig('Plots/lost_time_disrupt_rate_limit.png',dpi=200)"
   ]
  },
  {
   "cell_type": "code",
   "execution_count": 105,
   "metadata": {},
   "outputs": [],
   "source": [
    "#Save data from plot\n",
    "np.save('Data/f_lost_max_scan.npy', f_lost_max_scan)\n",
    "np.save('Data/p_req_lost.npy', p_req_lost)"
   ]
  },
  {
   "cell_type": "markdown",
   "metadata": {},
   "source": [
    "# IV.E Disruption-aware LCOE\n",
    "\n",
    "Gathering the arguments from earlier in this section, we can show how disruptions affect the LCOE of a TPP. We consider the case of a tokamak which experiences low expected time lost for disruption recovery ($ f_{\\textrm{lost}} \\ll 1$). In terms of the annual costs ($I_t,M_t,F_t$), duty factor $f_{\\textrm{duty}}$, and electrical energy production ($E_t$) of a hypothetical tokamak with no disruptions, then the LCOE of a TPP with disruptions can be written as\n",
    "$$\n",
    "    \\textrm{LCOE}_{\\textrm{dis}} \\approx \\\\ \\frac{\\sum^{n}_{t=1} (\\boldsymbol{k_{I,t}}I_t + \\boldsymbol{k_{M,t}}M_t + F_t)(1+r)^{-t}}{ \\sum^{n}_{t=1}  E_t(1+r)^{-t}  \\boldsymbol{(f_{\\textrm{margin},t})}  \\boldsymbol{ (1 - f_{\\textrm{lost}})}   \\boldsymbol{(1-P_{\\textrm{damage}}(t f_{\\textrm{duty}}))}} \n",
    "$$\n",
    "where the new terms have been emphasized in bold. The only costs not affected by disruptions are the fuel costs, which are negligible relative to the capital and O\\&M costs of a TPP.\n",
    "\n",
    "We show how this methodology can be utilized in practice for an example ARC-like TPP case. The baseline characteristics of the example without disruptions are shown below. We assume constant capital cost during the construction phase and constant O\\&M and fuel costs. The LCOE as a function of various parameters is shown in the below plots"
   ]
  },
  {
   "cell_type": "code",
   "execution_count": 106,
   "metadata": {},
   "outputs": [],
   "source": [
    "@dataclass\n",
    "class DLCOEData:\n",
    "    P_elect: float #[MW] Electrical power\n",
    "    I: float #[USD] Annual capital cost during construction.\n",
    "    M: float #[USD] Annual O&M cost \n",
    "    F: float #[USD] Annual fuel cost \n",
    "    P_elect: float #[MW] Electrical power\n",
    "    duty_factor: float #[-] Duty factor\n",
    "    r: float # [-] Interest rate\n",
    "    n_op: int #[yr] Number of years in operation\n",
    "    n_construct: int #[yr] Number of years under construction.\n",
    "    kI: float = 1.0\n",
    "    kM: float = 1.0\n",
    "    f_margin: float = 1.0\n",
    "    pdeltat: float = 0.0\n",
    "    tau: float = np.inf\n",
    "\n",
    "    @property\n",
    "    def E(self):\n",
    "        \"\"\"[MWh] Annual energy produced\"\"\"\n",
    "        h_per_yr = 365 * 24 #[h/yr] Conversion factor of h to yr\n",
    "        return self.P_elect*self.duty_factor*h_per_yr\n",
    "    \n",
    "\n",
    "#Planned operation and construction time\n",
    "n_construct = 5 #[yr] Number of years of construction\n",
    "n_op = 20 #[yr] Number of years in operation\n",
    "default_data = DLCOEData(P_elect=500,       # Assume a 500 MWe plant.\n",
    "                         I=2e9/n_construct, # Assume the plants total cost is 2 billion dollars.\n",
    "                         M=0.5*2e9/n_op,    # Assume the plants total O&M cost is half of the construction cost.\n",
    "                         F=0.05*2e9/n_op,   # Assume the plants total fuel cost is 5% of the construction cost.\n",
    "                         duty_factor=0.8,   # Assume an 80% duty factor.\n",
    "                         r=0.07,            # Assume a 7% interest rate.\n",
    "                         n_op=n_op,           # Assume the plant will operate for 20 years.\n",
    "                         n_construct=n_construct)     # Assume the plant will be under construction for 5 years."
   ]
  },
  {
   "cell_type": "code",
   "execution_count": 107,
   "metadata": {},
   "outputs": [],
   "source": [
    "def get_LCOE_disrupt(data: DLCOEData):\n",
    "    #We will sum up the numerator and denominator of the LCOE separately, and divide at the end\n",
    "    n_tot=data.n_construct+data.n_op\n",
    "    numerator=0\n",
    "    denominator = 0\n",
    "    #Over all years from the beginning of construction to retirement\n",
    "    for t in range(n_tot):\n",
    "        \n",
    "        #If during construction\n",
    "        if t<n_construct:\n",
    "            numerator += data.kI*data.I*(1+data.r)**(-t) #Add construction costs\n",
    "        \n",
    "        #Else during operation lifetime\n",
    "        else:\n",
    "            numerator += data.kM*data.M*(1+data.r)**(-t)\n",
    "            denominator += (1-data.pdeltat)*data.f_margin*data.E*(1+data.r)**(-t)*(np.exp(-t/data.tau*data.duty_factor))\n",
    "    \n",
    "    #Return LCOE\n",
    "    return numerator/denominator"
   ]
  },
  {
   "cell_type": "markdown",
   "metadata": {},
   "source": [
    "First, we compute the LCOE of the baseline no disruption case"
   ]
  },
  {
   "cell_type": "code",
   "execution_count": 108,
   "metadata": {},
   "outputs": [
    {
     "name": "stdout",
     "output_type": "stream",
     "text": [
      "The LCOE of the baseline, no disruption case is 76.24 [$/MWh]\n"
     ]
    }
   ],
   "source": [
    "LCOE_baseline=get_LCOE_disrupt(default_data)\n",
    "print(f'The LCOE of the baseline, no disruption case is {LCOE_baseline:.2f} [$/MWh]')"
   ]
  },
  {
   "cell_type": "markdown",
   "metadata": {},
   "source": [
    "## LCOE($k_I$,$k_M$)\n",
    "All other values set to baseline no disruption case"
   ]
  },
  {
   "cell_type": "code",
   "execution_count": 109,
   "metadata": {},
   "outputs": [],
   "source": [
    "#### Parameter range to scan\n",
    "#Capital cost scaling factor\n",
    "kI_upper =3 #Maximum to scan\n",
    "kI_lower =1 #Minimum to scan\n",
    "#O&M cost scaling factor\n",
    "kM_upper =3 #Maximum to scan\n",
    "kM_lower =1 #Minimum to scan\n",
    "\n",
    "#Create scan matrices\n",
    "kI_scan=np.linspace(kI_lower,kI_upper,40)\n",
    "kM_scan=np.linspace(kM_lower,kM_upper,40)\n",
    "\n",
    "#Compute LCOE\n",
    "def scanner_kI_kM(kI, kM):\n",
    "    data = copy.copy(default_data)\n",
    "    data.kI = kI\n",
    "    data.kM = kM\n",
    "    return get_LCOE_disrupt(data)\n",
    "kI_mesh, kM_mesh, LCOE_k = scan_2d(kI_scan, kM_scan, scanner_kI_kM)"
   ]
  },
  {
   "cell_type": "code",
   "execution_count": 110,
   "metadata": {
    "scrolled": true
   },
   "outputs": [
    {
     "data": {
      "text/plain": [
       "Text(0.5, 0, 'k_M')"
      ]
     },
     "execution_count": 110,
     "metadata": {},
     "output_type": "execute_result"
    },
    {
     "data": {
      "image/png": "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",
      "text/plain": [
       "<Figure size 640x480 with 2 Axes>"
      ]
     },
     "metadata": {},
     "output_type": "display_data"
    }
   ],
   "source": [
    "#Create contour plot and color bar\n",
    "cs=plt.contourf(kI_mesh,kM_mesh,LCOE_k,cmap='magma',norm=colors.Normalize(vmin=LCOE_k.min(), vmax=LCOE_k.max()))\n",
    "cbr= plt.colorbar()\n",
    "\n",
    "#Add a labels, adjust scales\n",
    "cbr.set_label(r'$\\textrm{LCOE}_\\textrm{disrupt} [\\textrm{\\$USD/MWh}]$')\n",
    "plt.ylabel(r'$k_I$')\n",
    "plt.xlabel(r'$k_M$')\n",
    "plt.scatter([1],[1],label='Baseline case',c='r',s=80)\n",
    "plt.savefig('Plots/LCOE_k.png',dpi=200,bbox_inches='tight')"
   ]
  },
  {
   "cell_type": "code",
   "execution_count": 111,
   "metadata": {},
   "outputs": [],
   "source": [
    "#Save data from plot\n",
    "np.save('Data/kI_scan.npy', kI_scan)\n",
    "np.save('Data/kM_scan.npy', kM_scan)\n",
    "np.save('Data/LCOE_k.npy', LCOE_k)"
   ]
  },
  {
   "cell_type": "markdown",
   "metadata": {},
   "source": [
    "## LCOE($f_{\\textrm{lost}}$,$f_{\\textrm{margin}}$)\n",
    "All other values set to baseline no disruption case"
   ]
  },
  {
   "cell_type": "code",
   "execution_count": 112,
   "metadata": {},
   "outputs": [],
   "source": [
    "#### Parameter range to scan\n",
    "#Fraction of target electrical power produced to keep sufficient margin to disruptive instabilities\n",
    "fmargin_upper = 10**0 #Maximum to scan\n",
    "fmargin_lower = 10**-0.3 #Minimum to scan\n",
    "#Fraction of operating time lost to disruption recovery \n",
    "pdeltat_upper = 10**-0.3 #Maximum to scan\n",
    "pdeltat_lower = 10**-2 #Minimum to scan\n",
    "\n",
    "#Create scan matrices\n",
    "fmargin_scan=np.logspace(np.log10(fmargin_lower),np.log10(fmargin_upper),80)\n",
    "pdeltat_scan=np.logspace(np.log10(pdeltat_lower),np.log10(pdeltat_upper),80)\n",
    "\n",
    "def scanner_f_pdeltat(fmargin, pdeltat):\n",
    "    data = copy.copy(default_data)\n",
    "    data.f_margin = fmargin\n",
    "    data.pdeltat = pdeltat\n",
    "    return get_LCOE_disrupt(data)\n",
    "\n",
    "#Compute LCOE\n",
    "fmargin_mesh, pdeltat_mesh, LCOE_f = scan_2d(fmargin_scan, pdeltat_scan, scanner_f_pdeltat)"
   ]
  },
  {
   "cell_type": "code",
   "execution_count": 26,
   "metadata": {
    "scrolled": true
   },
   "outputs": [
    {
     "data": {
      "image/png": "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",
      "text/plain": [
       "<Figure size 640x480 with 2 Axes>"
      ]
     },
     "metadata": {},
     "output_type": "display_data"
    }
   ],
   "source": [
    "#Create contour plot and color bar\n",
    "ax=plt.contourf(fmargin_mesh,pdeltat_mesh,LCOE_f,cmap='magma',norm=colors.Normalize(vmin=LCOE_k.min(), vmax=LCOE_k.max()),levels=cs.levels,extend='max')\n",
    "cbr= plt.colorbar()\n",
    "\n",
    "#Add a labels, adjust scales\n",
    "cbr.set_label(r'$\\textrm{LCOE}_\\textrm{disrupt} [\\textrm{\\$USD/MWh}]$')\n",
    "plt.ylabel(r'$f_{\\textrm{recover}}$')\n",
    "plt.xlabel(r'$f_{\\textrm{cons}}$')\n",
    "plt.yscale('log')\n",
    "plt.xscale('linear')\n",
    "# plt.scatter([1],[1],label='Baseline case',c='r',s=80)\n",
    "# plt.legend()\n",
    "#ax.xaxis.set_minor_formatter(mticker.ScalarFormatter())\n",
    "plt.savefig('Plots/LCOE_2.png',dpi=200,bbox_inches='tight')"
   ]
  },
  {
   "cell_type": "code",
   "execution_count": 27,
   "metadata": {},
   "outputs": [],
   "source": [
    "#Save data from plot\n",
    "np.save('Data/fmargin_scan.npy', fmargin_scan)\n",
    "np.save('Data/pdeltat_scan.npy', pdeltat_scan)\n",
    "np.save('Data/LCOE_f.npy', LCOE_f)"
   ]
  },
  {
   "cell_type": "markdown",
   "metadata": {},
   "source": [
    "## LCOE($n_{\\textrm{lifetime}}$,$\\tau_{\\textrm{damage}}$)\n",
    "All other values set to baseline no disruption case"
   ]
  },
  {
   "cell_type": "code",
   "execution_count": 28,
   "metadata": {},
   "outputs": [],
   "source": [
    "#### Parameter range to scan\n",
    "#Characteristic damage time\n",
    "tau_upper = 60 #Maximum to scan [yr]\n",
    "tau_lower = 10 #Minimum to scan [yr]\n",
    "#Lifetime of plant\n",
    "T_upper = 50 #Maximum to scan [yr]\n",
    "T_lower = 10 #Minimum to scan [yr]\n",
    "\n",
    "#Create scan matrices\n",
    "tau_scan=np.logspace(np.log10(tau_lower),np.log10(tau_upper),80)\n",
    "n_op_scan=np.arange(T_lower,T_upper,1)\n",
    "\n",
    "def scanner_tau_nop(n_op, tau):\n",
    "    data = copy.copy(default_data)\n",
    "    data.tau = tau\n",
    "    data.n_op = n_op\n",
    "    return get_LCOE_disrupt(data)\n",
    "\n",
    "#Compute LCOE\n",
    "n_op_mesh, tau_mesh, LCOE_tau = scan_2d(n_op_scan, tau_scan, scanner_tau_nop)"
   ]
  },
  {
   "cell_type": "code",
   "execution_count": 29,
   "metadata": {
    "scrolled": true
   },
   "outputs": [
    {
     "data": {
      "image/png": "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",
      "text/plain": [
       "<Figure size 640x480 with 2 Axes>"
      ]
     },
     "metadata": {},
     "output_type": "display_data"
    }
   ],
   "source": [
    "#Create contour plot and color bar\n",
    "plt.contourf(n_op_mesh,tau_mesh,LCOE_tau,cmap='magma',norm=colors.Normalize(vmin=LCOE_tau.min(), vmax=LCOE_tau.max()),levels=cs.levels,extend='max')\n",
    "cbr= plt.colorbar()\n",
    "\n",
    "#Add a labels, adjust scales\n",
    "cbr.set_label(r'$\\textrm{LCOE}_\\textrm{disrupt} [\\textrm{\\$USD/MWh}]$')\n",
    "plt.ylabel(r'\\textrm{Characteristic damage time, }$\\tau_\\textrm{damage} [\\textrm{yr}]$')\n",
    "plt.xlabel(r'\\textrm{Lifetime of plant, } $n_{\\textrm{lifetime}} [\\textrm{yr}]$')\n",
    "plt.yscale('linear')\n",
    "#plt.xscale('log')\n",
    "plt.savefig('Plots/LCOE_tau.png',dpi=200,bbox_inches='tight')"
   ]
  },
  {
   "cell_type": "code",
   "execution_count": 117,
   "metadata": {},
   "outputs": [],
   "source": [
    "#Save data from plot\n",
    "np.save('Data/T_scan.npy', T_scan)\n",
    "np.save('Data/tau_scan.npy', tau_scan)\n",
    "np.save('Data/LCOE_tau.npy', LCOE_tau)"
   ]
  },
  {
   "cell_type": "markdown",
   "metadata": {},
   "source": [
    "## Example of \\\\$100 per MWh tokamak power plant with disruptions \n",
    "\n",
    "Note that for each of these plots we hold everything to the baseline values except for what is plotted. To fully account for disruptions, one must consider the effect of all the disruption-related parameters together. For example, one design that reaches the \\\\$100/MWh target has $k_I = 1.5,\\: k_M=1.25,\\: f_{\\textrm{lost}} = 0.03,\\: f_{\\textrm{margin}} = 0.99,\\: \\tau_{\\textrm{damage}} = 200 \\textrm{ yr},\\textrm{ and } n_{\\textrm{lifetime}}= 50 \\textrm{ yr}$."
   ]
  },
  {
   "cell_type": "code",
   "execution_count": 31,
   "metadata": {},
   "outputs": [
    {
     "name": "stdout",
     "output_type": "stream",
     "text": [
      "The LCOE of the this case is 87.58 [$/MWh]\n"
     ]
    }
   ],
   "source": [
    "#Planned operation and construction time\n",
    "n_construct = 5 #[yr] Number of years of construction\n",
    "n_op = 50 #[yr] Number of years in operation\n",
    "\n",
    "default_data = DLCOEData(P_elect=500,       # Assume a 500 MWe plant.\n",
    "                         I=2e9/n_construct, # Assume the plants total cost is 2 billion dollars.\n",
    "                         M=0.5*2e9/n_op,    # Assume the plants total O&M cost is half of the construction cost.\n",
    "                         F=0.05*2e9/n_op,   # Assume the plants total fuel cost is 5% of the construction cost.\n",
    "                         duty_factor=0.8,   # Assume an 80% duty factor.\n",
    "                         r=0.07,            # Assume a 7% interest rate.\n",
    "                         n_op=n_op,           # Assume the plant will operate for 20 years.\n",
    "                         n_construct=n_construct, # Assume the plant will be under construction for 5 years.\n",
    "                         kI=1.5,\n",
    "                         kM=1.25,\n",
    "                         f_margin=0.99,\n",
    "                         pdeltat=0.03,\n",
    "                         tau=200)\n",
    "\n",
    "LCOE_example=get_LCOE_disrupt(default_data)\n",
    "print(f'The LCOE of the this case is {LCOE_example:.2f} [$/MWh]')"
   ]
  }
 ],
 "metadata": {
  "kernelspec": {
   "display_name": "data_centric_AI",
   "language": "python",
   "name": "data_centric_ai"
  },
  "language_info": {
   "codemirror_mode": {
    "name": "ipython",
    "version": 3
   },
   "file_extension": ".py",
   "mimetype": "text/x-python",
   "name": "python",
   "nbconvert_exporter": "python",
   "pygments_lexer": "ipython3",
   "version": "3.8.10"
  }
 },
 "nbformat": 4,
 "nbformat_minor": 4
}
