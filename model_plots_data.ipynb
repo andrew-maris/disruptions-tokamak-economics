{
 "cells": [
  {
   "cell_type": "markdown",
   "metadata": {},
   "source": [
    "# Computing the LCOE of a disruptive tokamak power plant\n",
    "\n",
    "Code for computing the results of \"The impact of disruptions on the economics of a tokamak power plant\" (Maris et al., 2023)\n",
    "\n",
    "Author: A. D. Maris\n",
    "\n",
    "Created: 12/9/2022\n",
    "\n",
    "Updated: 1/30/2023"
   ]
  },
  {
   "cell_type": "code",
   "execution_count": 1,
   "metadata": {},
   "outputs": [],
   "source": [
    "import numpy as np\n",
    "import pandas as pd\n",
    "import matplotlib.pyplot as plt \n",
    "import matplotlib.colors as colors\n",
    "plt.rcParams['text.usetex'] = True"
   ]
  },
  {
   "attachments": {},
   "cell_type": "markdown",
   "metadata": {},
   "source": [
    "# Section IV.B: Reduced electricity production from accumulated damage\n",
    "\n",
    "As discussed in the paper, disruptions decrease electricity production by reducing plant lifetime. In this analysis, we will assume disruption rates are constant in time. Failure rates in most industrial applications typically follow one of four trends over time: flat, increasing, decreasing, or \"bathtub-shaped\" (i.e. relatively high failure rates early and late in life). For a TPP, machine aging could cause disruption rates to increase over time, but more operator experience could counteract this effect. Until we have empirical evidence from running a TPP, it is unclear what the trend will be in practice. For simplicity and tractability, we will neglect a time dependence on the disruption rates in this study.\n",
    "\n",
    "The irreplaceable components on a TPP (for example, TF magnets) can be thought of as having an \"acceptable damage budget.\" We can write the proportion of the damage budget that is consumed per unit time of operation as\n",
    "$$\n",
    "     \\tau^{-1}_{\\textrm{damage}} \\equiv \\sum_{i\\in \\mathcal{C}} p_i \\langle d_i \\rangle\n",
    "$$\n",
    "where $p_i$ is the probability of disruption per time for disruption class $i$ in the set of disruption classes $\\mathcal{C}$ and $\\langle d_i \\rangle \\in [0,1]$ is the average damage per disruption as a proportion of the acceptable damage budget in class $i$. For example, a class G disruption that renders the device inoperable would correspond to $\\langle d_i \\rangle = 1$. We refer to $\\tau_{\\textrm{damage}}$ as the \"characteristic damage time.\"\n",
    "\n",
    "For a population of $N$ TPPs, the number that are lost due to damage per unit time $dt$ is approximately \n",
    "$$\n",
    "    dN = -N \\tau^{-1}_{\\textrm{damage}} dt,\n",
    "$$\n",
    "from which we recognize that population decays exponentially. The probability that a particular TPP  does not complete its target operational lifetime of $T$ is:\n",
    "$$\n",
    "    P_{\\textrm{damage}}(T)  = 1 - \\exp{\\bigg (-\\frac{T}{\\tau_{\\textrm{damage}}} \\bigg )}.\n",
    "$$\n",
    "We plot $T=20$ years of operation considering only one disruption class with disruption rate $p$ with an average damage per disruption $\\langle d \\rangle$ for simplicity."
   ]
  },
  {
   "cell_type": "code",
   "execution_count": 2,
   "metadata": {},
   "outputs": [],
   "source": [
    "#Fuction to compute P_damage\n",
    "def get_P_damage(T,p,d):\n",
    "    return 1-np.exp(-T*(p*d))\n",
    "\n",
    "#### Fixed parameter(s)\n",
    "T=20 #[yr] planned operational lifetime\n",
    "\n",
    "#### Parameter range to scan\n",
    "#Disruption rate\n",
    "p_upper =10**2 #Maximum disruption rate to scan, [year^-1]\n",
    "p_lower =10**-2 #Minimum disruption rate to scan, [year^-1] \n",
    "\n",
    "#Average damage per disruption as a proportion of damage budget\n",
    "d_upper =10**-1 #Maximum average damage proportion per disruption\n",
    "d_lower =10**-5 #Minimum average damage proportion per disruption\n",
    "\n",
    "#Create scan matrices\n",
    "p_scan = np.vstack([np.logspace(np.log10(p_lower),np.log10(p_upper),50).reshape([1,50])]*40) \n",
    "d_scan = np.hstack([np.logspace(np.log10(d_lower),np.log10(d_upper),40).reshape([40,1])]*50)\n",
    "\n",
    "#Compute P_damage\n",
    "P_damage=get_P_damage(T,p_scan,d_scan)"
   ]
  },
  {
   "cell_type": "code",
   "execution_count": 3,
   "metadata": {
    "scrolled": true
   },
   "outputs": [
    {
     "data": {
      "image/png": "[encoded data removed]",
      "text/plain": [
       "<Figure size 432x288 with 2 Axes>"
      ]
     },
     "metadata": {
      "needs_background": "light"
     },
     "output_type": "display_data"
    }
   ],
   "source": [
    "#Create contour plot and color bar\n",
    "plt.contourf(p_scan,d_scan,P_damage,levels=np.linspace(0,1,11),vmin=0,vmax=1)\n",
    "cbr= plt.colorbar()\n",
    "\n",
    "#Include lines showing one disruption per month, etc.\n",
    "plt.plot([(12),(12)],[d_scan.min(),d_scan.max()],color='red',linestyle='--',label=r'\\textrm{One disruption per month}')\n",
    "plt.plot([(1),(1)],[d_scan.min(),d_scan.max()],color='red',linestyle='-.',label=r'\\textrm{One disruption per year}')\n",
    "plt.plot([1/10,1/10],[d_scan.min(),d_scan.max()],color='red',linestyle='-',label=r'\\textrm{One disruption per ten years}')\n",
    "plt.legend(bbox_to_anchor=(2.05, 1.0))\n",
    "\n",
    "#Add a labels, adjust scales\n",
    "plt.title(r'\\textrm{Probability of TPP closing before } $T=20$ \\textrm{ operational years}')\n",
    "cbr.set_label(r'\\textrm{Probability of TPP closing early, }$P_{\\textrm{damage}}$')\n",
    "plt.ylabel(r'\\textrm{Damage per disruption, } $\\langle d \\rangle$')\n",
    "plt.xlabel(r'\\textrm{Disruption probability per time,} $p [\\textrm{yr}^{-1}]$')\n",
    "plt.yscale('log')\n",
    "plt.xscale('log')\n",
    "plt.savefig('Plots/damage.png',dpi=200,bbox_inches='tight')"
   ]
  },
  {
   "cell_type": "code",
   "execution_count": 4,
   "metadata": {},
   "outputs": [],
   "source": [
    "# #Save data from plot\n",
    "# np.save('Data/p_scan.npy', p_scan)\n",
    "# np.save('Data/d_scan.npy', d_scan)\n",
    "# np.save('Data/P_damage.npy', P_damage)"
   ]
  },
  {
   "cell_type": "markdown",
   "metadata": {},
   "source": [
    "We can compute a maximum allowable disruption rate $p$ given the utility's maximum allowable probability of an early plant closure due to damage $P_{\\textrm{damage,max}} \\ll 1$."
   ]
  },
  {
   "cell_type": "code",
   "execution_count": 5,
   "metadata": {},
   "outputs": [],
   "source": [
    "#Function to compute maximum allowable disruption rate\n",
    "def get_p_damage(T,P_damage_max,d):\n",
    "    return np.log(1/P_damage_max)/(T*d)"
   ]
  },
  {
   "cell_type": "markdown",
   "metadata": {},
   "source": [
    "Consider a plant with a power producing lifetime of 20 years, a utility that tolerates $P_{\\textrm{damage,max}}=0.25$, and assume that we can simplify the situation to consider only a single class of disruption that causes accumulated damage of $\\langle d \\rangle = 0.01$. "
   ]
  },
  {
   "cell_type": "code",
   "execution_count": 6,
   "metadata": {},
   "outputs": [
    {
     "name": "stdout",
     "output_type": "stream",
     "text": [
      "In this case, the maximum allowable disruption rate is 11.51 [yr^-1]\n"
     ]
    }
   ],
   "source": [
    "p_example = get_p_damage(T,0.1,0.01)\n",
    "print(f'In this case, the maximum allowable disruption rate is {p_example:.2f} [yr^-1]')"
   ]
  },
  {
   "cell_type": "markdown",
   "metadata": {},
   "source": [
    "We scan over a range of $P_{\\textrm{damage,max}}$ and $\\langle d \\rangle$ to create a plot:"
   ]
  },
  {
   "cell_type": "code",
   "execution_count": 7,
   "metadata": {},
   "outputs": [],
   "source": [
    "#### Parameter range to scan\n",
    "#Disruption rate\n",
    "P_damage_max_upper =10**-2 #Upper range to scan of utility's maximum allowable probability of an early plant closure due to damage\n",
    "P_damage_max_lower =10**-0.3 #Lower range to scan of utility's maximum allowable probability of an early plant closure due to damage\n",
    "\n",
    "#Create scan matrix\n",
    "P_damage_max_scan = np.vstack([np.logspace(np.log10(P_damage_max_lower),np.log10(P_damage_max_upper),50).reshape([1,50])]*40) \n",
    "\n",
    "#Compute p\n",
    "p_req = get_p_damage(T,P_damage_max_scan,d_scan)"
   ]
  },
  {
   "cell_type": "code",
   "execution_count": 8,
   "metadata": {},
   "outputs": [
    {
     "data": {
      "text/plain": [
       "0.23025850929940458"
      ]
     },
     "execution_count": 8,
     "metadata": {},
     "output_type": "execute_result"
    }
   ],
   "source": [
    "get_p_damage(T,0.1,0.5)"
   ]
  },
  {
   "cell_type": "code",
   "execution_count": 9,
   "metadata": {},
   "outputs": [
    {
     "data": {
      "image/png": "[encoded data removed]",
      "text/plain": [
       "<Figure size 432x288 with 2 Axes>"
      ]
     },
     "metadata": {
      "needs_background": "light"
     },
     "output_type": "display_data"
    }
   ],
   "source": [
    "#Create contour plot and color bar\n",
    "plt.contourf(P_damage_max_scan,d_scan,p_req,norm=colors.LogNorm(vmin=1e-1, vmax=1e5),cmap='plasma')\n",
    "cbr= plt.colorbar()\n",
    "\n",
    "#Add a labels, adjust scales\n",
    "cbr.set_label(r'\\textrm{Maximum allowable disruption rate, }$p [\\textrm{yr}^{-1}]$')\n",
    "plt.ylabel(r'\\textrm{Damage per disruption, }$<d>$')\n",
    "plt.xlabel(r'\\textrm{Maximum tolerated probablility of an early plant closure, }$P_{\\textrm{damage,max}}$')\n",
    "plt.yscale('log')\n",
    "plt.xscale('log')\n",
    "plt.savefig('Plots/damage_disrupt_rate_limit.png',dpi=200)"
   ]
  },
  {
   "cell_type": "code",
   "execution_count": 10,
   "metadata": {},
   "outputs": [],
   "source": [
    "#Save data from plot\n",
    "np.save('Data/P_damage_max_scan.npy', P_damage_max_scan)\n",
    "np.save('Data/p_req.npy', p_req)"
   ]
  },
  {
   "cell_type": "markdown",
   "metadata": {},
   "source": [
    "### IV.C Reduced electricity production because of outage"
   ]
  },
  {
   "cell_type": "markdown",
   "metadata": {},
   "source": [
    "Utilities will expect a TPP to have relatively little operational time interrupted by a disruption-induced outage. This is consistent with TPP costing models which find that a high duty factor is required for economic viability. Given this, we approximate \n",
    "$$\\textrm{Fraction of operating time lost to recovery} = f_{\\textrm{lost}}  \\approx\n",
    "    \\sum_{i\\in \\mathcal{C}} p_i \\langle \\Delta t_{i,\\textrm{recover}} \\rangle,$$\n",
    "where once again $p_i$ is the probability of disruption per time for disruption class $i$ in the set of classes $\\mathcal{C}$ and $\\langle \\Delta t_{i,\\textrm{recover}} \\rangle$ is the average recovery time from that disruption type."
   ]
  },
  {
   "cell_type": "code",
   "execution_count": 11,
   "metadata": {},
   "outputs": [],
   "source": [
    "#Compute f_lost\n",
    "def get_f(p,deltat):\n",
    "    return p*deltat\n"
   ]
  },
  {
   "cell_type": "markdown",
   "metadata": {},
   "source": [
    "We produce plots of $f_{\\textrm{lost}}$ assuming only one type of disruption of disruption with a probabilty of occuring per year $p$ and an average time to recover $\\langle \\Delta t_{\\textrm{recover}} \\rangle$"
   ]
  },
  {
   "cell_type": "code",
   "execution_count": 12,
   "metadata": {},
   "outputs": [],
   "source": [
    "#### Parameter range to scan\n",
    "#Disruption rate\n",
    "p_upper =10**2 #Maximum disruption rate to scan, [year^-1]\n",
    "p_lower =10**-2 #Minimum disruption rate to scan, [year^-1]\n",
    "#Average time to recovery\n",
    "deltat_upper =0.99*10**-2 #Maximum deltat to scan, [year^-1]\n",
    "deltat_lower =10**-4 #Minimum deltat to scan, [year^-1]\n",
    "\n",
    "#Create scan matrices\n",
    "p_scan = np.vstack([np.logspace(np.log10(p_lower),np.log10(p_upper),50).reshape([1,50])]*40) \n",
    "deltat_scan = np.hstack([(np.logspace(np.log10(deltat_lower),np.log10(deltat_upper),40)).reshape([40,1])]*50) \n",
    "\n",
    "#Compute f_lost\n",
    "f_array = get_f(p_scan,deltat_scan)"
   ]
  },
  {
   "cell_type": "code",
   "execution_count": null,
   "metadata": {},
   "outputs": [],
   "source": []
  },
  {
   "cell_type": "code",
   "execution_count": 13,
   "metadata": {
    "scrolled": false
   },
   "outputs": [
    {
     "data": {
      "image/png": "[encoded data removed]",
      "text/plain": [
       "<Figure size 432x288 with 2 Axes>"
      ]
     },
     "metadata": {
      "needs_background": "light"
     },
     "output_type": "display_data"
    }
   ],
   "source": [
    "#Create contour plot and color bar\n",
    "# Create the plot\n",
    "norm = colors.LogNorm(vmin=1e-6, vmax=1)\n",
    "plt.contourf(p_scan, deltat_scan, f_array, norm=norm, cmap='cividis')\n",
    "cbr = plt.colorbar(ticks=np.logspace(-6, 0, 7, endpoint=True))\n",
    "plt.clim(1e-6, 1)\n",
    "\n",
    "#Include lines showing one disruption per month, etc.\n",
    "plt.plot([(12),(12)],[deltat_scan.min(),deltat_scan.max()],color='red',linestyle='--',label=r'\\textrm{One disruption per month}')\n",
    "plt.plot([(1),(1)],[deltat_scan.min(),deltat_scan.max()],color='red',linestyle='-.',label=r'\\textrm{One disruption per year}')\n",
    "plt.plot([1/10,1/10],[deltat_scan.min(),deltat_scan.max()],color='red',linestyle='-',label=r'\\textrm{One disruption per ten years}')\n",
    "plt.legend(bbox_to_anchor=(2, 1.0))\n",
    "\n",
    "#Add a labels, adjust scales\n",
    "cbr.set_label(r'\\textrm{Fraction of lost operating time, }$f_{\\textrm{lost}}$')\n",
    "plt.ylabel(r'\\textrm{Average recovery time, }$ \\tau_{\\textrm{recover}} [\\textrm{yr}]$')\n",
    "plt.xlabel(r'\\textrm{Disruption probability per time, } $p [\\textrm{yr}^{-1}]$')\n",
    "plt.yscale('log')\n",
    "plt.xscale('log')\n",
    "plt.ylim(1e-4,1e-2)\n",
    "plt.savefig('Plots/lost_time.png',dpi=200,bbox_inches='tight')"
   ]
  },
  {
   "cell_type": "code",
   "execution_count": 14,
   "metadata": {},
   "outputs": [],
   "source": [
    "#Save data from plot\n",
    "np.save('Data/deltat_scan.npy', deltat_scan)\n",
    "np.save('Data/f_array.npy', f_array)"
   ]
  },
  {
   "cell_type": "markdown",
   "metadata": {},
   "source": [
    "Requiring that the fraction of lost operating time is relatively small can be stated as\n",
    "$$\n",
    "    f_{\\textrm{lost}}  < f_{\\textrm{lost,max}} \\ll 1,\n",
    "$$\n",
    "where $f_{\\textrm{lost,max}}$ represents that maximum fraction of operating time that a utility can tolerate due to disruption recovery. For example, if we consider only class $E$ disruptions with an average of two months of recovery time for a given TPP, and take $f_{\\textrm{lost,max}} = 0.25$, then this leads to the required disruption rate of"
   ]
  },
  {
   "cell_type": "code",
   "execution_count": 15,
   "metadata": {},
   "outputs": [
    {
     "name": "stdout",
     "output_type": "stream",
     "text": [
      "In this case, the maximum allowable disruption rate is 1.50 [yr^-1]\n"
     ]
    }
   ],
   "source": [
    "#Function to compute maximum allowable disruption rate\n",
    "def get_p_lost(f_lost_max,deltat):\n",
    "    return f_lost_max/(deltat)\n",
    "\n",
    "p_example_lost = get_p_lost(0.25,1/6)\n",
    "print(f'In this case, the maximum allowable disruption rate is {p_example_lost:.2f} [yr^-1]')"
   ]
  },
  {
   "cell_type": "markdown",
   "metadata": {},
   "source": [
    "We plot the maximum allowable disruption rate for a range of $f_{\\textrm{lost,max}}$ and $\\langle \\Delta t_{\\textrm{recover}} \\rangle$. Recall that disruptions rates for high performances plasmas are typically on the order of $p \\gtrapprox 1 \\textrm{ min}^{-1} \\approx 5 \\cdot 10^{5} \\textrm{ yr}^{-1}$ for comparison."
   ]
  },
  {
   "cell_type": "code",
   "execution_count": 16,
   "metadata": {},
   "outputs": [],
   "source": [
    "#### Parameter range to scan\n",
    "#Maximum fraction of operating time that a utility can tolerate due to disruption recovery\n",
    "f_lost_max_upper =10**-0.5 #Maximum f_lost_max to scan\n",
    "f_lost_max_lower =10**-2 #Minimum f_lost_max to scan\n",
    "\n",
    "\n",
    "#Create scan matrices\n",
    "f_lost_max_scan = np.vstack([np.logspace(np.log10(f_lost_max_lower),np.log10(f_lost_max_upper),50).reshape([1,50])]*40) \n",
    "\n",
    "#Compute p\n",
    "p_req_lost = get_p_lost(f_lost_max_scan,deltat_scan)"
   ]
  },
  {
   "cell_type": "code",
   "execution_count": 17,
   "metadata": {
    "scrolled": true
   },
   "outputs": [
    {
     "data": {
      "image/png": "[encoded data removed]",
      "text/plain": [
       "<Figure size 432x288 with 2 Axes>"
      ]
     },
     "metadata": {
      "needs_background": "light"
     },
     "output_type": "display_data"
    }
   ],
   "source": [
    "#Create contour plot and color bar\n",
    "plt.contourf(f_lost_max_scan,deltat_scan,p_req_lost,norm=colors.LogNorm(vmin=1e-1, vmax=1e5),cmap='plasma')\n",
    "cbr= plt.colorbar()\n",
    "\n",
    "#Add a labels, adjust scales\n",
    "cbr.set_label(r'\\textrm{Maximum allowable disruption rate } $ [\\textrm{yr}^{-1}]$')\n",
    "plt.ylabel(r'\\textrm{Average recovery time } $\\tau_{\\textrm{recover}}  [\\textrm{yr}] $')\n",
    "plt.xlabel(r'\\textrm{Maximum tolerated fraction of operating time lost, }$f_{\\textrm{lost,max}}$')\n",
    "plt.yscale('log')\n",
    "plt.xscale('log')\n",
    "plt.ylim(1e-4,1e-2)\n",
    "plt.savefig('Plots/lost_time_disrupt_rate_limit.png',dpi=200)"
   ]
  },
  {
   "cell_type": "code",
   "execution_count": 18,
   "metadata": {},
   "outputs": [],
   "source": [
    "#Save data from plot\n",
    "np.save('Data/f_lost_max_scan.npy', f_lost_max_scan)\n",
    "np.save('Data/p_req_lost.npy', p_req_lost)"
   ]
  },
  {
   "cell_type": "markdown",
   "metadata": {},
   "source": [
    "# IV.E Disruption-aware LCOE\n",
    "\n",
    "Gathering the arguments from earlier in this section, we can show how disruptions affect the LCOE of a TPP. We consider the case of a tokamak which experiences low expected time lost for disruption recovery ($ f_{\\textrm{lost}} \\ll 1$). In terms of the annual costs ($I_t,M_t,F_t$), duty factor $f_{\\textrm{duty}}$, and electrical energy production ($E_t$) of a hypothetical tokamak with no disruptions, then the LCOE of a TPP with disruptions can be written as\n",
    "$$\n",
    "    \\textrm{LCOE}_{\\textrm{dis}} \\approx \\\\ \\frac{\\sum^{n}_{t=1} (\\boldsymbol{k_{I,t}}I_t + \\boldsymbol{k_{M,t}}M_t + F_t)(1+r)^{-t}}{ \\sum^{n}_{t=1}  E_t(1+r)^{-t}  \\boldsymbol{(f_{\\textrm{margin},t})}  \\boldsymbol{ (1 - f_{\\textrm{lost}})}   \\boldsymbol{(1-P_{\\textrm{damage}}(t f_{\\textrm{duty}}))}} \n",
    "$$\n",
    "where the new terms have been emphasized in bold. The only costs not affected by disruptions are the fuel costs, which are negligible relative to the capital and O\\&M costs of a TPP.\n",
    "\n",
    "We show how this methodology can be utilized in practice for an example ARC-like TPP case. The baseline characteristics of the example without disruptions are shown below. We assume constant capital cost during the construction phase and constant O\\&M and fuel costs. The LCOE as a function of various parameters is shown in the below plots"
   ]
  },
  {
   "cell_type": "code",
   "execution_count": 19,
   "metadata": {},
   "outputs": [],
   "source": [
    "#Planned operation and construction time\n",
    "n_construct = 5 #[yr] Number of years of construction\n",
    "n_op = 20 #[yr] Number of years in operation\n",
    "\n",
    "\n",
    "I = 2e9/n_construct #[USD] Annual capital cost \n",
    "M = 0.5*2e9/n_op #[USD] Annual O&M cost \n",
    "F = 0.05*2e9/n_op #[USD] Annual fuel cost \n",
    "P_elect= 500 #[MW] Electrical power\n",
    "duty_factor=0.80  #Duty factor\n",
    "h_per_yr=365*24 #[h/yr] Conversion factor of h to yr\n",
    "E = P_elect*duty_factor*h_per_yr #[MWh] Annual energy produced \n",
    "r = 0.07 # Interest rate"
   ]
  },
  {
   "cell_type": "code",
   "execution_count": 20,
   "metadata": {},
   "outputs": [],
   "source": [
    "def get_LCOE_disrupt(I,M,F,E,r,n_construct,n_op,kI=1,kM=1,f_margin=1,pdeltat=0,tau=None):\n",
    "    \n",
    "    #If we are computing LCOE for a single n_op\n",
    "    if type(n_op) == int:\n",
    "    \n",
    "        #We will sum up the numerator and denominator of the LCOE separately, and divide at the end\n",
    "        n_tot=n_construct+n_op\n",
    "        numerator=0\n",
    "        denominator = 0\n",
    "\n",
    "        #Over all years from the beginning of construction to retirement\n",
    "        for t in range(n_tot):\n",
    "            \n",
    "            #If during construction\n",
    "            if t<n_construct:\n",
    "                numerator += kI*I*(1+r)**(-t) #Add construction costs\n",
    "            \n",
    "            #Else during operation lifetime\n",
    "            else:\n",
    "                numerator += kM*M*(1+r)**(-t)\n",
    "                if np.all(tau) == None:\n",
    "                    denominator += (1-pdeltat)*f_margin*E*(1+r)**(-t)\n",
    "                else:\n",
    "                    denominator += (1-pdeltat)*f_margin*E*(1+r)**(-t)*(np.exp(-t/tau*duty_factor))\n",
    "        \n",
    "        #Return LCOE\n",
    "        return numerator/denominator\n",
    "    \n",
    "    #Else we are computing LCOE for a set of n_op and tau_damage\n",
    "    else:\n",
    "        \n",
    "        #Create matrix to store LCOE in from 2D scan including\n",
    "        LCOE = np.zeros([n_op.shape[0],n_op.shape[1]])\n",
    "        \n",
    "        #For each of the n_op values, compute LCOE\n",
    "        for idx, n in enumerate(n_op[0,:]):\n",
    "            \n",
    "            #We will sum up the numerator and denominator of the LCOE separately, and divide at the end\n",
    "            n_tot=n_construct+n\n",
    "            numerator=0\n",
    "            denominator = 0\n",
    "\n",
    "            #Over all years from the beginning of construction to retirement\n",
    "            for t in range(n_tot):\n",
    "                #construction years\n",
    "                if t<n_construct:\n",
    "                    numerator += kI*I*(1+r)**(-t) #Add consturction costs\n",
    "                else:\n",
    "                    numerator += kM*M*(1+r)**(-t)\n",
    "                    if np.all(tau) == None:\n",
    "                        denominator += (1-pdeltat)*f_margin*E*(1+r)**(-t)\n",
    "                    else:\n",
    "                        denominator += (1-pdeltat)*f_margin*E*(1+r)**(-t)*(np.exp(-t/tau[:,0]*duty_factor))\n",
    "\n",
    "            LCOE[:,idx] = numerator/denominator\n",
    "            \n",
    "        return LCOE"
   ]
  },
  {
   "cell_type": "markdown",
   "metadata": {},
   "source": [
    "First, we compute the LCOE of the baseline no disruption case"
   ]
  },
  {
   "cell_type": "code",
   "execution_count": 21,
   "metadata": {},
   "outputs": [
    {
     "name": "stdout",
     "output_type": "stream",
     "text": [
      "The LCOE of the baseline, no disruption case is 76.24 [$/MWh]\n"
     ]
    }
   ],
   "source": [
    "LCOE_baseline=get_LCOE_disrupt(I,M,F,E,r,n_construct,n_op)\n",
    "print(f'The LCOE of the baseline, no disruption case is {LCOE_baseline:.2f} [$/MWh]')"
   ]
  },
  {
   "cell_type": "markdown",
   "metadata": {},
   "source": [
    "## LCOE($k_I$,$k_M$)\n",
    "All other values set to baseline no disruption case"
   ]
  },
  {
   "cell_type": "code",
   "execution_count": 22,
   "metadata": {},
   "outputs": [],
   "source": [
    "#### Parameter range to scan\n",
    "#Capital cost scaling factor\n",
    "kI_upper =3 #Maximum to scan\n",
    "kI_lower =1 #Minimum to scan\n",
    "#O&M cost scaling factor\n",
    "kM_upper =3 #Maximum to scan\n",
    "kM_lower =1 #Minimum to scan\n",
    "\n",
    "#Create scan matrices\n",
    "kI_scan=np.hstack([np.linspace(kI_lower,kI_upper,40).reshape([40,1])]*40)\n",
    "kM_scan=np.vstack([np.linspace(kM_lower,kM_upper,40).reshape([1,40])]*40)\n",
    "\n",
    "#Compute LCOE\n",
    "LCOE_k = get_LCOE_disrupt(I,M,F,E,r,n_construct,n_op,kI=kI_scan,kM=kM_scan)"
   ]
  },
  {
   "cell_type": "code",
   "execution_count": 23,
   "metadata": {
    "scrolled": true
   },
   "outputs": [
    {
     "data": {
      "image/png": "[encoded data removed]",
      "text/plain": [
       "<Figure size 432x288 with 2 Axes>"
      ]
     },
     "metadata": {
      "needs_background": "light"
     },
     "output_type": "display_data"
    }
   ],
   "source": [
    "#Create contour plot and color bar\n",
    "cs=plt.contourf(kI_scan,kM_scan,LCOE_k,cmap='magma',norm=colors.Normalize(vmin=LCOE_k.min(), vmax=LCOE_k.max()))#,levels=cs2.levels)\n",
    "cbr= plt.colorbar()\n",
    "\n",
    "#Add a labels, adjust scales\n",
    "cbr.set_label(r'$\\textrm{LCOE}_\\textrm{disrupt} [\\textrm{\\$USD/MWh}]$')\n",
    "plt.ylabel(r'$k_I$')\n",
    "plt.xlabel(r'$k_M$')\n",
    "plt.scatter([1],[1],label='Baseline case',c='r',s=80)\n",
    "plt.savefig('Plots/LCOE_k.png',dpi=200,bbox_inches='tight')"
   ]
  },
  {
   "cell_type": "code",
   "execution_count": 81,
   "metadata": {},
   "outputs": [],
   "source": [
    "# #Save data from plot\n",
    "# np.save('Data/kI_scan.npy', kI_scan)\n",
    "# np.save('Data/kM_scan.npy', kM_scan)\n",
    "# np.save('Data/LCOE_k.npy', LCOE_k)"
   ]
  },
  {
   "cell_type": "markdown",
   "metadata": {},
   "source": [
    "## LCOE($f_{\\textrm{lost}}$,$f_{\\textrm{margin}}$)\n",
    "All other values set to baseline no disruption case"
   ]
  },
  {
   "cell_type": "code",
   "execution_count": 24,
   "metadata": {},
   "outputs": [],
   "source": [
    "#### Parameter range to scan\n",
    "#Fraction of target electrical power produced to keep sufficient margin to disruptive instabilities\n",
    "fmargin_upper = 10**0 #Maximum to scan\n",
    "fmargin_lower = 10**-0.3 #Minimum to scan\n",
    "#Fraction of operating time lost to disruption recovery \n",
    "pdeltat_upper = 10**-0.3 #Maximum to scan\n",
    "pdeltat_lower = 10**-2 #Minimum to scan\n",
    "\n",
    "#Create scan matrices\n",
    "fmargin_scan=np.hstack([np.logspace(np.log10(fmargin_lower),np.log10(fmargin_upper),80).reshape([80,1])]*80)\n",
    "pdeltat_scan=np.vstack([np.logspace(np.log10(pdeltat_lower),np.log10(pdeltat_upper),80).reshape([1,80])]*80)\n",
    "\n",
    "#Compute LCOE\n",
    "LCOE_f = get_LCOE_disrupt(I,M,F,E,r,n_construct,n_op,kI=1,kM=1,f_margin=fmargin_scan,pdeltat=pdeltat_scan)"
   ]
  },
  {
   "cell_type": "code",
   "execution_count": 28,
   "metadata": {
    "scrolled": true
   },
   "outputs": [
    {
     "data": {
      "image/png": "[encoded data removed]",
      "text/plain": [
       "<Figure size 432x288 with 2 Axes>"
      ]
     },
     "metadata": {
      "needs_background": "light"
     },
     "output_type": "display_data"
    }
   ],
   "source": [
    "#Create contour plot and color bar\n",
    "ax=plt.contourf(fmargin_scan,pdeltat_scan,LCOE_f,cmap='magma',norm=colors.Normalize(vmin=LCOE_k.min(), vmax=LCOE_k.max()),levels=cs.levels,extend='max')\n",
    "cbr= plt.colorbar()\n",
    "\n",
    "#Add a labels, adjust scales\n",
    "cbr.set_label(r'$\\textrm{LCOE}_\\textrm{disrupt} [\\textrm{\\$USD/MWh}]$')\n",
    "plt.ylabel(r'$f_{\\textrm{recover}}$')\n",
    "plt.xlabel(r'$f_{\\textrm{cons}}$')\n",
    "plt.yscale('log')\n",
    "plt.xscale('linear')\n",
    "# plt.scatter([1],[1],label='Baseline case',c='r',s=80)\n",
    "# plt.legend()\n",
    "#ax.xaxis.set_minor_formatter(mticker.ScalarFormatter())\n",
    "plt.savefig('Plots/LCOE_2.png',dpi=200,bbox_inches='tight')"
   ]
  },
  {
   "cell_type": "code",
   "execution_count": 31,
   "metadata": {},
   "outputs": [],
   "source": [
    "# #Save data from plot\n",
    "# np.save('Data/fmargin_scan.npy', fmargin_scan)\n",
    "# np.save('Data/pdeltat_scan.npy', pdeltat_scan)\n",
    "# np.save('Data/LCOE_f.npy', LCOE_f)"
   ]
  },
  {
   "cell_type": "markdown",
   "metadata": {},
   "source": [
    "## LCOE($n_{\\textrm{lifetime}}$,$\\tau_{\\textrm{damage}}$)\n",
    "All other values set to baseline no disruption case"
   ]
  },
  {
   "cell_type": "code",
   "execution_count": 36,
   "metadata": {},
   "outputs": [],
   "source": [
    "#### Parameter range to scan\n",
    "#Characteristic damage time\n",
    "tau_upper = 60 #Maximum to scan [yr]\n",
    "tau_lower = 10 #Minimum to scan [yr]\n",
    "#Lifetime of plant\n",
    "T_upper = 50 #Maximum to scan [yr]\n",
    "T_lower = 10 #Minimum to scan [yr]\n",
    "\n",
    "#Create scan matrices\n",
    "tau_scan=np.hstack([np.logspace(np.log10(tau_lower),np.log10(tau_upper),80).reshape([80,1])]*40)\n",
    "T_scan=np.vstack([np.arange(T_lower,T_upper,1).reshape([1,40])]*80)\n",
    "pdeltat_scan=np.vstack([np.logspace(np.log10(pdeltat_lower),np.log10(pdeltat_upper),80).reshape([1,80])]*80)\n",
    "\n",
    "#Compute LCOE\n",
    "LCOE_tau = get_LCOE_disrupt(I,M,F,E,r,n_construct,n_op=T_scan,kI=1,kM=1,f_margin=1,pdeltat=0,tau=tau_scan)"
   ]
  },
  {
   "cell_type": "code",
   "execution_count": 37,
   "metadata": {
    "scrolled": true
   },
   "outputs": [
    {
     "data": {
      "image/png": "[encoded data removed]",
      "text/plain": [
       "<Figure size 432x288 with 2 Axes>"
      ]
     },
     "metadata": {
      "needs_background": "light"
     },
     "output_type": "display_data"
    }
   ],
   "source": [
    "#Create contour plot and color bar\n",
    "plt.contourf(T_scan,tau_scan,LCOE_tau,cmap='magma',norm=colors.Normalize(vmin=LCOE_tau.min(), vmax=LCOE_tau.max()),levels=cs.levels,extend='max')\n",
    "cbr= plt.colorbar()\n",
    "\n",
    "#Add a labels, adjust scales\n",
    "cbr.set_label(r'$\\textrm{LCOE}_\\textrm{disrupt} [\\textrm{\\$USD/MWh}]$')\n",
    "plt.ylabel(r'\\textrm{Characteristic damage time, }$\\tau_\\textrm{damage} [\\textrm{yr}]$')\n",
    "plt.xlabel(r'\\textrm{Lifetime of plant, } $n_{\\textrm{lifetime}} [\\textrm{yr}]$')\n",
    "plt.yscale('linear')\n",
    "#plt.xscale('log')\n",
    "plt.savefig('Plots/LCOE_tau.png',dpi=200,bbox_inches='tight')"
   ]
  },
  {
   "cell_type": "code",
   "execution_count": 38,
   "metadata": {},
   "outputs": [],
   "source": [
    "# #Save data from plot\n",
    "# np.save('Data/T_scan.npy', T_scan)\n",
    "# np.save('Data/tau_scan.npy', tau_scan)\n",
    "# np.save('Data/LCOE_tau.npy', LCOE_tau)"
   ]
  },
  {
   "cell_type": "markdown",
   "metadata": {},
   "source": [
    "## Example of \\\\$100 per MWh tokamak power plant with disruptions \n",
    "\n",
    "Note that for each of these plots we hold everything to the baseline values except for what is plotted. To fully account for disruptions, one must consider the effect of all the disruption-related parameters together. For example, one design that reaches the \\\\$100/MWh target has $k_I = 1.5,\\: k_M=1.25,\\: f_{\\textrm{lost}} = 0.03,\\: f_{\\textrm{margin}} = 0.99,\\: \\tau_{\\textrm{damage}} = 200 \\textrm{ yr},\\textrm{ and } n_{\\textrm{lifetime}}= 50 \\textrm{ yr}$."
   ]
  },
  {
   "cell_type": "code",
   "execution_count": 88,
   "metadata": {},
   "outputs": [
    {
     "name": "stdout",
     "output_type": "stream",
     "text": [
      "The LCOE of the this case is 99.52 [$/MWh]\n"
     ]
    }
   ],
   "source": [
    "#Planned operation and construction time\n",
    "n_construct = 5 #[yr] Number of years of construction\n",
    "n_op = 50 #[yr] Number of years in operation\n",
    "\n",
    "\n",
    "I = 2e9/n_construct #[USD] Annual capital cost \n",
    "M = 5*1e7 #[USD] Annual O&M cost \n",
    "F = 5*1e6 #[USD] Annual fuel cost \n",
    "P_elect= 500 #[MW] Electrical power\n",
    "duty_factor=0.80  #Duty factor\n",
    "h_per_yr=365*24 #[h/yr] Conversion factor of h to yr\n",
    "E = P_elect*duty_factor*h_per_yr #[MWh] Annual energy produced \n",
    "r = 0.07 # Interest rate\n",
    "\n",
    "LCOE_example=get_LCOE_disrupt(I,M,F,E,r,n_construct,n_op,kI=1.5,kM=1.25,f_margin=0.99,pdeltat=0.03,tau=200)\n",
    "print(f'The LCOE of the this case is {LCOE_example:.2f} [$/MWh]')"
   ]
  },
  {
   "cell_type": "code",
   "execution_count": null,
   "metadata": {},
   "outputs": [],
   "source": []
  },
  {
   "cell_type": "code",
   "execution_count": null,
   "metadata": {},
   "outputs": [],
   "source": []
  }
 ],
 "metadata": {
  "kernelspec": {
   "display_name": "data_centric_AI",
   "language": "python",
   "name": "data_centric_ai"
  },
  "language_info": {
   "codemirror_mode": {
    "name": "ipython",
    "version": 3
   },
   "file_extension": ".py",
   "mimetype": "text/x-python",
   "name": "python",
   "nbconvert_exporter": "python",
   "pygments_lexer": "ipython3",
   "version": "3.8.5"
  }
 },
 "nbformat": 4,
 "nbformat_minor": 4
}
