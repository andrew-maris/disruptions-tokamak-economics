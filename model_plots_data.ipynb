{
 "cells": [
  {
   "attachments": {},
   "cell_type": "markdown",
   "metadata": {},
   "source": [
    "# Computing the cost of fusion electricity of a disruptive tokamak power plant\n",
    "\n",
    "Author: A. D. Maris and A. Wang\n",
    "\n",
    "Tokamaks are often considered to be a leading candidate for near term, cost-effective fusion energy, but these devices are susceptible to sudden loss of confinement events called \"disruptions.\" In our the accompanying paper paper (\"The impact of disruptions on the economics of a tokamak power plant\" Maris et al., _Accepted_ Fusion Science and Technology, 2023), we outline the various ways disruptions increase costs and decrease revenues, introduce metrics to quantify these effects, and add them to a Levelized Cost of Electricity (LCOE) model. This notebook includes the computations for reproducing the analysis and calucations included in the paper, such as the full LCOE model.\n",
    "\n",
    "The notebook is organized as follows, with headings corresponding to the sections in the paper\n",
    "\n",
    "- Imports and settings\n",
    "\n",
    "- Section IV.A: Reduced electricity production because of outages\n",
    "\n",
    "- Section IV.B: Reduced electricity production due to early shutdown\n",
    "\n",
    "- Section IV.C: Reduced electricity production due to  more conservative operation point\n",
    "\n",
    "- Section V.A: Exploring the LCOE of an example Tokamak Power Plant (TPP)\n",
    "\n",
    "## Imports and settings"
   ]
  },
  {
   "cell_type": "code",
   "execution_count": 1,
   "metadata": {},
   "outputs": [],
   "source": [
    "import numpy as np\n",
    "import pandas as pd\n",
    "import matplotlib.pyplot as plt \n",
    "import matplotlib.colors as colors\n",
    "from dataclasses import dataclass\n",
    "from typing import Sequence, Callable\n",
    "import copy\n",
    "\n",
    "################################\n",
    "# Settings\n",
    "save_data = True #If true, saves data to .npy files and plots to .png files in the respective directories\n",
    "render_LaTeX = True #If true, renders labels in plots using LaTeX\n",
    "if render_LaTeX:\n",
    "    plt.rcParams['text.usetex'] = True\n",
    "\n",
    "\n",
    "def scan_2d(x_scan: Sequence[float], y_scan: Sequence[float], f: Callable[[float, float], float]):\n",
    "    \"\"\" Helper function to perform a 2D scan.\n",
    "\n",
    "    Args:\n",
    "        x_scan (Sequence[float]): x values to scan.\n",
    "        y_scan (Sequence[float]): y values to scan.\n",
    "        f (Callable[[float, float], float]): function f(x, y) to be scanned across x + y.\n",
    "\n",
    "    Returns:\n",
    "        (xmesh, ymesh, out): xmesh, ymesh are the meshgrid of x + y values, out is the output of f(x, y) on the meshgrid.\n",
    "    \"\"\"\n",
    "    vf = np.vectorize(f)\n",
    "    xmesh, ymesh = np.meshgrid(x_scan, y_scan)\n",
    "    out = vf(xmesh, ymesh)\n",
    "    return xmesh, ymesh, out"
   ]
  },
  {
   "attachments": {},
   "cell_type": "markdown",
   "metadata": {},
   "source": [
    "## Section IV.A Reduced electricity production because of outage\n",
    "\n",
    "Disruptions will cause outages in energy production. These outages can be smoothed by onsite energy storage, but the total volume of electricity sold per unit time during that year will decrease. The relevant metric for this effect in the disruption-aware LCOE model is the fraction of lost operating time due to disruption recovery, $f_{\\textrm{recov}}$. \n",
    "\n",
    "Utilities will almost certainly require a TPP to have relatively little operational time interrupted by disruption-induced outages. Failure rates in most industrial applications typically follow one of four trends over time: flat, increasing, decreasing, or \"bathtub-shaped\" (i.e. relatively high failure rates early and late in life). For a TPP, machine aging could cause disruption rates to increase over time, but more operator experience could counteract this effect. Until we have empirical evidence from running a TPP, it is unclear what the trend will be in practice. To estimate the fraction of planned operational time lost due to disruption recovery, we model the change in population of operational TPPs ($N_{\\textrm{op}}$) and recovering TPPs ($N_{\\textrm{recov}}$) as\n",
    "$$\n",
    "    \\dot{N}_{\\textrm{op}} = - p  N_{\\textrm{op}} + \\langle \\tau_{\\textrm{recov}} \\rangle ^{-1} N_{\\textrm{recov}},\n",
    "$$\n",
    "$$\n",
    "\\dot{N}_{\\textrm{recov}} = p N_{\\textrm{op}} - \\langle \\tau_{\\textrm{recov}} \\rangle ^{-1} N_{\\textrm{recov}},\n",
    "$$\n",
    "where $p$ is the probability of disruption per unit time and $ \\langle \\tau_{\\textrm{recov}} \\rangle$ is the average recovery time. This system of coupled ODEs approaches a steady-state of 1 TPP operational for every $p \\langle \\tau_{\\textrm{recov}} \\rangle$ recovering from a disruption. Therefore, the fraction of devices that are recovering at any given time can be estimated as\n",
    "$$\n",
    "     f_{\\textrm{recov}} = \\frac{p  \\langle \\tau_{\\textrm{recov}} \\rangle }{1 + p \\langle \\tau_{\\textrm{recov}} \\rangle} \\approx p  \\langle \\tau_{\\textrm{recov}} \\rangle.\n",
    "$$\n",
    "where the last approximation assumes $ p  \\langle \\tau_{\\textrm{recov}} \\rangle\\ll 1$, a safe assumption given that utilities will likely not build TPPs if they were commonly offline due to disruptions. We plot $f_{\\textrm{recov}}$ over a range of $p$ and $\\langle \\tau_{\\textrm{recov}} \\rangle$ below."
   ]
  },
  {
   "cell_type": "code",
   "execution_count": 2,
   "metadata": {},
   "outputs": [],
   "source": [
    "#Function to compute f_lost\n",
    "def get_f_recover(p,tau):\n",
    "    return p*tau/(1+ p*tau)\n",
    "\n",
    "#### Parameter range to scan\n",
    "p_scan = np.logspace(-2,1.99,50) # Range of disruption rate values to scan, [year^-1]\n",
    "tau_scan = np.logspace(-2,-3.99,40) # Range of characteristic damage time values to scan, [year^-1]\n",
    "\n",
    "#Perform scan\n",
    "p_mesh, tau_mesh, f_array = scan_2d(p_scan, tau_scan, get_f_recover)\n",
    "\n"
   ]
  },
  {
   "cell_type": "code",
   "execution_count": 3,
   "metadata": {},
   "outputs": [
    {
     "data": {
      "image/png": "[encoded data removed]",
      "text/plain": [
       "<Figure size 432x288 with 2 Axes>"
      ]
     },
     "metadata": {
      "needs_background": "light"
     },
     "output_type": "display_data"
    }
   ],
   "source": [
    "#Create contour plot and color bar\n",
    "plt.contourf(p_mesh,tau_mesh,f_array,norm=colors.LogNorm(vmin=f_array.min(), vmax=1),cmap='cividis',vmax=1)\n",
    "cbr= plt.colorbar(ticks=np.logspace(-6,0,7,endpoint=True))\n",
    "\n",
    "if render_LaTeX:\n",
    "    #Include lines showing one disruption per month, etc.\n",
    "    plt.plot([(12),(12)],[tau_scan.min(),tau_scan.max()],color='red',linestyle='--',label=r'\\textrm{One disruption per month}')\n",
    "    plt.plot([(1),(1)],[tau_scan.min(),tau_scan.max()],color='red',linestyle='-.',label=r'\\textrm{One disruption per year}')\n",
    "    plt.plot([1/10,1/10],[tau_scan.min(),tau_scan.max()],color='red',linestyle='-',label=r'\\textrm{One disruption per ten years}')\n",
    "    plt.legend(bbox_to_anchor=(2, 1.0))\n",
    "\n",
    "    #Add labels\n",
    "    cbr.set_label(r'\\textrm{Fraction time spent recovering, }$f_{\\textrm{recov}}$')\n",
    "    plt.ylabel(r'\\textrm{Average recovery time, }$ \\tau_{\\textrm{recov}} [\\textrm{yr}]$')\n",
    "    plt.xlabel(r'\\textrm{Disruption probability per time, } $p [\\textrm{yr}^{-1}]$')\n",
    "else:\n",
    "    #Include lines showing one disruption per month, etc.\n",
    "    plt.plot([(12),(12)],[tau_scan.min(),tau_scan.max()],color='red',linestyle='--',label='One disruption per month')\n",
    "    plt.plot([(1),(1)],[tau_scan.min(),tau_scan.max()],color='red',linestyle='-.',label='One disruption per year')\n",
    "    plt.plot([1/10,1/10],[tau_scan.min(),tau_scan.max()],color='red',linestyle='-',label='One disruption per ten years')\n",
    "    plt.legend(bbox_to_anchor=(2, 1.0))\n",
    "\n",
    "    #Add labels\n",
    "    cbr.set_label('Fraction of lost operating time, f_recov')\n",
    "    plt.ylabel('Average recovery time, τ_recov [yr]')\n",
    "    plt.xlabel('Disruption probability per time, p [yr^-1]')\n",
    "\n",
    "plt.yscale('log')\n",
    "plt.xscale('log')\n",
    "\n",
    "#Save plot and data\n",
    "if save_data:\n",
    "    plt.savefig('Plots/lost_time.png',dpi=200,bbox_inches='tight')\n",
    "    np.save('Data/p_mesh.npy', p_mesh)\n",
    "    np.save('Data/tau_mesh.npy', tau_mesh)\n",
    "    np.save('Data/f_array.npy', f_array)"
   ]
  },
  {
   "attachments": {},
   "cell_type": "markdown",
   "metadata": {},
   "source": [
    "Requiring that the fraction of lost operating time is relatively small can be stated as\n",
    "$$\n",
    "    f_{\\textrm{recov}}  < f_{\\textrm{recov,max}} \\ll 1,\n",
    "$$\n",
    "where $f_{\\textrm{recov,max}}$ represents that maximum fraction of operating time that a utility can tolerate due to disruption recovery. For example, consider a TPP with a 4 month long maintenance time, such as what may be the case for DEMO. Let us assume we can tolerate up to $f_{\\textrm{recov,max}} = 10$\\% which is comparable to [3-6\\% the Unplanned Capability Loss Factor of the world's nuclear power industry](https://pris.iaea.org/pris/worldstatistics/worldtrendinunplannedcapabilitylossfactor.aspx), and further assume 95\\% of disruptions are correctly predicted and perfectly mitigated (meaning that maintenance is only required after an unmitigated disruption). In this scenario, the 4 months of unscheduled maintenance is only needed on average once per twenty disruptions, averaging out to a recovery time per disruption of $ \\langle \\tau_{\\textrm{recov}} \\rangle = 0.2$ months. Given "
   ]
  },
  {
   "cell_type": "code",
   "execution_count": 4,
   "metadata": {},
   "outputs": [
    {
     "name": "stdout",
     "output_type": "stream",
     "text": [
      "In this case, the maximum allowable disruption rate is 6.67 [yr^-1]\n"
     ]
    }
   ],
   "source": [
    "#Function to compute maximum allowable disruption rate given f_lost_max\n",
    "def get_p_recover(f_recover_max,tau):\n",
    "    return f_recover_max/(tau*(1-f_recover_max))\n",
    "\n",
    "p_example_recover = get_p_recover(0.10,0.2/12)\n",
    "print(f'In this case, the maximum allowable disruption rate is {p_example_recover:.2f} [yr^-1]')"
   ]
  },
  {
   "attachments": {},
   "cell_type": "markdown",
   "metadata": {},
   "source": [
    "As we see, this case would have a disruption rate limit of $p < 6.67 \\textrm{ yr}^{-1}$. For reference, this is about five orders of magnitude lower than disruption rate on JET, $p \\approx 5 \\cdot 10^{5} \\textrm{ yr}^{-1}$. Below, we plot  $f_{\\textrm{recov,max}}$ and $\\langle \\tau_{\\textrm{recov}} \\rangle$ for a range of values."
   ]
  },
  {
   "cell_type": "code",
   "execution_count": 5,
   "metadata": {},
   "outputs": [],
   "source": [
    "#### Parameter range to scan\n",
    "f_recover_max_scan = np.logspace(-0.5,-1.99,50) #[-] Maximum fraction of operating time that a utility can tolerate due to disruption recovery\n",
    "\n",
    "#Compute p\n",
    "f_recover_max_mesh, tau_mesh, p_req_recover =  scan_2d(f_recover_max_scan, tau_scan, get_p_recover)"
   ]
  },
  {
   "cell_type": "code",
   "execution_count": 6,
   "metadata": {},
   "outputs": [
    {
     "data": {
      "image/png": "[encoded data removed]",
      "text/plain": [
       "<Figure size 432x288 with 2 Axes>"
      ]
     },
     "metadata": {
      "needs_background": "light"
     },
     "output_type": "display_data"
    }
   ],
   "source": [
    "#Create contour plot and color bar\n",
    "plt.contourf(f_recover_max_mesh,tau_mesh,p_req_recover,norm=colors.LogNorm(vmin=p_req_recover.min(), vmax=1e5),cmap='plasma')\n",
    "cbr= plt.colorbar()\n",
    "\n",
    "#Add labels\n",
    "if render_LaTeX:\n",
    "    cbr.set_label(r'\\textrm{Maximum allowable disruption rate } $p [\\textrm{yr}^{-1}]$')\n",
    "    plt.ylabel(r'\\textrm{Average recovery time } $\\tau_{\\textrm{recov}}  [\\textrm{yr}] $')\n",
    "    plt.xlabel(r'\\textrm{7693021: Saved data again to be sure it is up to date, }$f_{\\textrm{recov,max}}$')\n",
    "else:\n",
    "    cbr.set_label('Maximum allowable disruption rate [yr^-1]')\n",
    "    plt.ylabel('Average recovery time τ_recov [yr]')\n",
    "    plt.xlabel('Maximum tolerated fraction of operating time spent on recovery, f_recov,max')\n",
    "\n",
    "plt.yscale('log')\n",
    "plt.xscale('log')\n",
    "\n",
    "#Save plot and data from plot\n",
    "if save_data:\n",
    "    plt.savefig('Plots/lost_time_disrupt_rate_limit.png',dpi=200)\n",
    "    np.save('Data/f_recover_max_mesh.npy', f_recover_max_mesh)\n",
    "    np.save('Data/tau_mesh.npy', tau_mesh)\n",
    "    np.save('Data/p_req_recover.npy', p_req_recover)"
   ]
  },
  {
   "attachments": {},
   "cell_type": "markdown",
   "metadata": {},
   "source": [
    "## Reduced electricity production due to early shutdown\n",
    "\n",
    "As discussed in the paper, disruptions could decrease electricity production by forcing an early plant closure. In this analysis, we will assume disruption rates are constant in time. Failure rates in most industrial applications typically follow one of four trends over time: flat, increasing, decreasing, or \"bathtub-shaped\" (i.e. relatively high failure rates early and late in life). For a TPP, machine aging could cause disruption rates to increase over time, but more operator experience could counteract this effect. Until we have empirical evidence from running a TPP, it is unclear what the trend will be in practice. For simplicity and tractability, we will neglect a time dependence on the disruption rates in this study.\n",
    "\n",
    "The irreplaceable components on a TPP (for example, TF magnets) can be thought of as having an \"acceptable damage budget.\" We can write the proportion of the damage budget that is consumed per unit time of operation as\n",
    "$$ \n",
    "    \\tau^{-1}_{\\textrm{damage}} \\equiv p  \\langle d \\rangle \n",
    "$$\n",
    "wwhere $p$ is the probability of disruption per time and $\\langle d \\rangle \\in [0,1]$ is the average damage per disruption as a proportion of the acceptable damage budget. For example, if every disruption is a class G event that renders the device inoperable, then $ \\langle d \\rangle  = 1$. We refer to $\\tau_{\\textrm{damage}}$ as the \"characteristic damage time.\"\n",
    "\n",
    "For a population of $N$ TPPs, the number that are lost due to damage per unit time $dt$ is approximately \n",
    "$$\n",
    "    dN = -N \\tau^{-1}_{\\textrm{damage}} dt,\n",
    "$$\n",
    "from which we recognize that population decays exponentially. The probability that a particular TPP *does not* complete its target operational lifetime of $T$ is:\n",
    "$$\n",
    "    P_{\\textrm{damage}}(T)  = 1 - \\exp{\\bigg (-\\frac{T}{\\tau_{\\textrm{damage}}} \\bigg )}.\n",
    "$$\n",
    "We plot $T=20$ years of operation considering only one disruption class with disruption rate $p$ with an average damage per disruption $\\langle d \\rangle$ for simplicity."
   ]
  },
  {
   "cell_type": "code",
   "execution_count": 7,
   "metadata": {},
   "outputs": [],
   "source": [
    "#Fuction to compute P_damage\n",
    "def get_P_damage(T,p,d):\n",
    "    return 1-np.exp(-T*(p*d))\n",
    "\n",
    "#### Fixed parameter(s)\n",
    "T=20 #[yr] planned operational lifetime\n",
    "\n",
    "#### Parameter range to scan\n",
    "p_damage_scan = np.logspace(-2,2,50) #[yr^-1] Disruption rate range to scan.\n",
    "\n",
    "#Average damage per disruption as a proportion of damage budget\n",
    "d_scan = np.logspace(-5,-1,40)\n",
    "\n",
    "p_damage_scan_function = lambda p, d: get_P_damage(T,p,d)\n",
    "p_damage_mesh, d_mesh, P_damage = scan_2d(p_damage_scan, d_scan, p_damage_scan_function)"
   ]
  },
  {
   "cell_type": "code",
   "execution_count": 8,
   "metadata": {},
   "outputs": [
    {
     "data": {
      "image/png": "[encoded data removed]",
      "text/plain": [
       "<Figure size 432x288 with 2 Axes>"
      ]
     },
     "metadata": {
      "needs_background": "light"
     },
     "output_type": "display_data"
    }
   ],
   "source": [
    "#Create contour plot and color bar\n",
    "plt.contourf(p_damage_mesh,d_mesh,P_damage,levels=np.linspace(0,1,11),vmin=0,vmax=1)\n",
    "cbr= plt.colorbar()\n",
    "\n",
    "if render_LaTeX:\n",
    "    #Include lines showing one disruption per month, etc.\n",
    "    plt.plot([(12),(12)],[d_scan.min(),d_scan.max()],color='red',linestyle='--',label=r'\\textrm{One disruption per month}')\n",
    "    plt.plot([(1),(1)],[d_scan.min(),d_scan.max()],color='red',linestyle='-.',label=r'\\textrm{One disruption per year}')\n",
    "    plt.plot([1/10,1/10],[d_scan.min(),d_scan.max()],color='red',linestyle='-',label=r'\\textrm{One disruption per ten years}')\n",
    "    plt.legend(bbox_to_anchor=(2.05, 1.0))\n",
    "\n",
    "    #Add labels\n",
    "    plt.title(r'\\textrm{Probability of TPP closing before } $T=20$ \\textrm{ operational years}')\n",
    "    cbr.set_label(r'\\textrm{Probability of TPP closing early, }$P_{\\textrm{damage}}$')\n",
    "    plt.ylabel(r'\\textrm{Damage per disruption, } $\\langle d \\rangle$')\n",
    "    plt.xlabel(r'\\textrm{Disruption probability per time,} $p [\\textrm{yr}^{-1}]$')\n",
    "else:\n",
    "    #Include lines showing one disruption per month, etc.\n",
    "    plt.plot([(12),(12)],[d_scan.min(),d_scan.max()],color='red',linestyle='--',label='One disruption per month')\n",
    "    plt.plot([(1),(1)],[d_scan.min(),d_scan.max()],color='red',linestyle='-.',label='One disruption per year')\n",
    "    plt.plot([1/10,1/10],[d_scan.min(),d_scan.max()],color='red',linestyle='-',label='One disruption per ten years')\n",
    "    plt.legend(bbox_to_anchor=(2.05, 1.0))\n",
    "\n",
    "    #Add labels\n",
    "    plt.title('Probability of TPP closing before T=20 operational years')\n",
    "    cbr.set_label('Probability of TPP closing early, P_damage')\n",
    "    plt.ylabel('Damage per disruption, <d>')\n",
    "    plt.xlabel('Disruption probability per time, p [yr^-1]')\n",
    "\n",
    "plt.yscale('log')\n",
    "plt.xscale('log')\n",
    "\n",
    "#Save data from plot\n",
    "if save_data:\n",
    "    plt.savefig('Plots/damage.png',dpi=200,bbox_inches='tight')\n",
    "    np.save('Data/d_mesh.npy', d_mesh)\n",
    "    np.save('Data/p_damage_mesh.npy', p_damage_mesh)\n",
    "    np.save('Data/P_damage.npy', P_damage)"
   ]
  },
  {
   "attachments": {},
   "cell_type": "markdown",
   "metadata": {},
   "source": [
    "We can compute a maximum allowable disruption rate $p$ given the utility's maximum allowable probability of an early plant closure due to damage $P_{\\textrm{damage,max}} \\ll 1$."
   ]
  },
  {
   "cell_type": "code",
   "execution_count": 9,
   "metadata": {},
   "outputs": [],
   "source": [
    "#Function to compute maximum allowable disruption rate\n",
    "def get_p_damage(T,P_damage_max,d):\n",
    "    return np.log(1/P_damage_max)/(T*d)"
   ]
  },
  {
   "attachments": {},
   "cell_type": "markdown",
   "metadata": {},
   "source": [
    "Consider a plant with a power producing lifetime of 20 years, a utility that tolerates $P_{\\textrm{damage,max}}=0.1$, and $\\langle d \\rangle = 0.01$. "
   ]
  },
  {
   "cell_type": "code",
   "execution_count": 10,
   "metadata": {},
   "outputs": [
    {
     "name": "stdout",
     "output_type": "stream",
     "text": [
      "In this case, the maximum allowable disruption rate is 11.51 [yr^-1]\n"
     ]
    }
   ],
   "source": [
    "p_example = get_p_damage(T,P_damage_max=0.1,d=0.01)\n",
    "print(f'In this case, the maximum allowable disruption rate is {p_example:.2f} [yr^-1]')"
   ]
  },
  {
   "attachments": {},
   "cell_type": "markdown",
   "metadata": {},
   "source": [
    "We scan over a range of $P_{\\textrm{damage,max}}$ and $\\langle d \\rangle$ below:"
   ]
  },
  {
   "cell_type": "code",
   "execution_count": 11,
   "metadata": {},
   "outputs": [],
   "source": [
    "#### Parameter range to scan\n",
    "P_damage_max_scan = np.logspace(-0.3,-2,50) #[-] Range of utility's maximum allowable probability of an early plant closure due to damage\n",
    "d_scan = np.logspace(-5,-1,40) #[-] Average damage per disruption as a proportion of damage budget\n",
    "\n",
    "#Compute maximum alloable disruption rate p_req\n",
    "p_req_damage_scan_function = lambda P_damage_max, d: get_p_damage(T,P_damage_max, d)\n",
    "P_damage_mesh, d_mesh, p_req_damage = scan_2d(P_damage_max_scan, d_scan, p_req_damage_scan_function)"
   ]
  },
  {
   "cell_type": "code",
   "execution_count": 12,
   "metadata": {},
   "outputs": [
    {
     "data": {
      "image/png": "[encoded data removed]",
      "text/plain": [
       "<Figure size 432x288 with 2 Axes>"
      ]
     },
     "metadata": {
      "needs_background": "light"
     },
     "output_type": "display_data"
    }
   ],
   "source": [
    "#Create contour plot and color bar\n",
    "plt.contourf(P_damage_mesh,d_mesh,p_req_damage,norm=colors.LogNorm(vmin=p_req_damage.min(), vmax=p_req_damage.max()),cmap='plasma')\n",
    "cbr= plt.colorbar()\n",
    "\n",
    "if render_LaTeX:\n",
    "    #Add labels\n",
    "    cbr.set_label(r'\\textrm{Maximum allowable disruption rate, }$p [\\textrm{yr}^{-1}]$')\n",
    "    plt.ylabel(r'\\textrm{Damage per disruption, }$<d>$')\n",
    "    plt.xlabel(r'\\textrm{Maximum tolerated probablility of an early plant closure, }$P_{\\textrm{damage,max}}$')\n",
    "else:\n",
    "    #Add labels\n",
    "    cbr.set_label('Maximum allowable disruption rate, p [yr^-1]')\n",
    "    plt.ylabel('Damage per disruption, <d>')\n",
    "    plt.xlabel('Maximum tolerated probablility of an early plant closure, P_damage,max')\n",
    "\n",
    "plt.yscale('log')\n",
    "plt.xscale('log')\n",
    "\n",
    "#Save data from plot\n",
    "if save_data:\n",
    "    plt.savefig('Plots/damage_disrupt_rate_limit.png',dpi=200)\n",
    "    np.save('Data/P_damage_mesh.npy', P_damage_mesh)\n",
    "    np.save('Data/d_mesh.npy', d_mesh)\n",
    "    np.save('Data/p_req_damage.npy', p_req_damage)"
   ]
  },
  {
   "attachments": {},
   "cell_type": "markdown",
   "metadata": {},
   "source": [
    "# V.A Exploring the LCOE of an example Tokamak Power Plant (TPP)\n",
    "\n",
    "We consider the case of a tokamak which experiences low expected time lost for disruption recovery ($ f_{\\textrm{lost}} \\ll 1$). We show in the paper that, in terms of the annual costs ($I_t,M_t,F_t$), and electrical energy production ($E_t$) of a hypothetical tokamak with no disruptions, then the LCOE of a TPP with disruptions can be written as\n",
    "$$\n",
    "  \\textrm{LCOE}_{\\textrm{disrupt}} \\approx  \\frac{\\sum^{n}_{t=1} (\\boldsymbol{k_{I,t}}I_t + \\boldsymbol{k_{M,t}}M_t + F_t)(1+r)^{-t}}{ \\sum^{n}_{t=1}  E_t\\big(1+r\\big)^{-t}  \\boldsymbol{\\Big(f_{\\textrm{cons}}\\Big)}  \\boldsymbol{ \\Big(1 - f_{\\textrm{recov}}\\Big)}   \\boldsymbol{\\Big(1-P_{\\textrm{damage}}\\big(T(t) \\big)\\Big)}} \n",
    "$$\n",
    "with capital cost scaling factor $k_{I,t}$, O\\&M cost scaling factor $k_{M,t}$, fraction of electrical power produced at the more conservative operating point $f_{\\textrm{cons}}$, fraction of operating time lost due to disruption recovery actions $ f_{\\textrm{recov}}$, total amount of the time by the end of year $t$ that the tokamak has been in operation $T(t)$, and probability that by year $t$ the plant will have been forced into an early shutdown due to disruptions $P_{\\textrm{damage}}\\big(T(t) \\big)$. The new terms have been emphasized in bold. The only costs not affected by disruptions are the fuel costs, which are likely negligible relative to the capital and O\\&M costs of a TPP.\n",
    "\n",
    "We show how this methodology can be utilized in practice for a hypothetical TPP case. The baseline characteristics of the example without disruptions are shown below. We assume constant capital cost during the construction phase and constant O\\&M and fuel costs in real terms. The LCOE as a function of various parameters is shown in the below plots"
   ]
  },
  {
   "cell_type": "code",
   "execution_count": 13,
   "metadata": {},
   "outputs": [],
   "source": [
    "@dataclass\n",
    "class DLCOEData:\n",
    "    P_elect: float             #[MW] Electrical power\n",
    "    I_t: float                 #[USD] Annual capital cost during construction. Assumed to be constant in real terms.\n",
    "    M_t: float                 #[USD] Annual O&M cost. Assumed to be constant in real terms.\n",
    "    F_t: float                 #[USD] Annual fuel cost. Assumed to be constant in real terms. \n",
    "    P_elect: float             #[MW] Electrical power\n",
    "    duty_factor: float         #[-] Duty factor, i.e. fraction of calendar year that the device is creating power\n",
    "    r: float                   #[-] Interest rate\n",
    "    n_op: int                  #[yr] Number of years in operation\n",
    "    n_construct: int           #[yr] Number of years under construction.\n",
    "    k_I: float = 1.0           #[-] Capital cost multiplier\n",
    "    k_M: float = 1.0           #[-] O&M cost multiplier\n",
    "    f_cons: float = 1.0        #[-] Fraction of electrical power produced relative to non-disruptive baseline\n",
    "    f_recover: float = 0.0     #[-] Fraction of operatonal time lost to disruption recovery\n",
    "    tau_damage: float = np.inf #[yr] Characteristic damage time\n",
    "\n",
    "    @property\n",
    "    def E(self):\n",
    "        \"\"\"[MWh] Annual energy produced\"\"\"\n",
    "        h_per_yr = 365 * 24 #[h/yr] Conversion factor of h to yr\n",
    "        return self.P_elect*self.duty_factor*h_per_yr\n",
    "    \n",
    "\n",
    "#Create baseline case\n",
    "baseline_data = DLCOEData(P_elect=500,     # Assume a 500 MWe plant.\n",
    "                         I_t=4e8,          # Assume total captial cost is 2 billion dollars, spread out evenly over 5 years in real terms\n",
    "                         M_t=5e7,          # Assume $5e7 annual O&M costs in real terms.\n",
    "                         F_t=5e6,          # Assume $5e6 annual fuel costs in real terms.\n",
    "                         duty_factor=0.8,  # Assume an 80% duty factor.\n",
    "                         r=0.07,           # Assume a 7% interest rate.\n",
    "                         n_op=20,          # Assume the plant will operate for 20 years.\n",
    "                         n_construct=5)    # Assume the plant will be under construction for 5 years.\n"
   ]
  },
  {
   "cell_type": "code",
   "execution_count": 14,
   "metadata": {},
   "outputs": [],
   "source": [
    "def get_LCOE_disrupt(data: DLCOEData):\n",
    "    \n",
    "    #We will sum up the numerator and denominator of the LCOE separately, and divide at the end\n",
    "    n_tot=data.n_construct+data.n_op\n",
    "    numerator=0\n",
    "    denominator = 0\n",
    "    \n",
    "    #Over all years from the beginning of construction to retirement\n",
    "    for t in range(n_tot):\n",
    "        \n",
    "        #If during construction\n",
    "        if t<data.n_construct:\n",
    "            numerator += data.k_I*data.I_t*(1+data.r)**(-t) #Add construction costs\n",
    "        \n",
    "        #Else during operation lifetime\n",
    "        else:\n",
    "            numerator += data.k_M*data.M_t*(1+data.r)**(-t)\n",
    "            denominator += (1-data.f_recover)*data.f_cons*data.E*(1+data.r)**(-t)*(np.exp(-(t/data.tau_damage)*data.duty_factor))\n",
    "    \n",
    "    #Return LCOE\n",
    "    return numerator/denominator"
   ]
  },
  {
   "attachments": {},
   "cell_type": "markdown",
   "metadata": {},
   "source": [
    "First, we compute the LCOE of the baseline case that does not experiment disruptions"
   ]
  },
  {
   "cell_type": "code",
   "execution_count": 15,
   "metadata": {},
   "outputs": [
    {
     "name": "stdout",
     "output_type": "stream",
     "text": [
      "The LCOE of the baseline, no disruption case is 76.24 [$/MWh]\n"
     ]
    }
   ],
   "source": [
    "LCOE_baseline=get_LCOE_disrupt(baseline_data)\n",
    "print(f'The LCOE of the baseline, no disruption case is {LCOE_baseline:.2f} [$/MWh]')"
   ]
  },
  {
   "attachments": {},
   "cell_type": "markdown",
   "metadata": {},
   "source": [
    "### LCOE with respect to $k_I$,$k_M$ scan\n",
    "\n",
    "All other values set to baseline no disruption case"
   ]
  },
  {
   "cell_type": "code",
   "execution_count": 16,
   "metadata": {},
   "outputs": [],
   "source": [
    "#### Parameter range to scan\n",
    "k_I_scan=np.linspace(1,3,40) #[-] Capital cost scaling factor\n",
    "k_M_scan=np.linspace(1,3,40) #[-] O&M cost scaling factor\n",
    "\n",
    "#Create scanner function\n",
    "def scanner_k_I_k_M(k_I, k_M, TPP_data):\n",
    "    data = copy.copy(TPP_data)\n",
    "    data.k_I = k_I\n",
    "    data.k_M = k_M\n",
    "    return get_LCOE_disrupt(data)\n",
    "\n",
    "#Compute LCOE\n",
    "scanner_k_I_k_M_baseline = lambda k_I, k_M: scanner_k_I_k_M(k_I, k_M, baseline_data)\n",
    "k_I_mesh, k_M_mesh, LCOE_k = scan_2d(k_I_scan, k_M_scan, scanner_k_I_k_M_baseline)"
   ]
  },
  {
   "cell_type": "code",
   "execution_count": 17,
   "metadata": {
    "scrolled": true
   },
   "outputs": [
    {
     "data": {
      "image/png": "[encoded data removed]",
      "text/plain": [
       "<Figure size 432x288 with 2 Axes>"
      ]
     },
     "metadata": {
      "needs_background": "light"
     },
     "output_type": "display_data"
    }
   ],
   "source": [
    "#Create contour plot and color bar\n",
    "cs=plt.contourf(k_I_mesh,k_M_mesh,LCOE_k,cmap='magma',norm=colors.Normalize(vmin=LCOE_k.min(), vmax=LCOE_k.max()))\n",
    "cbr= plt.colorbar()\n",
    "\n",
    "if render_LaTeX:\n",
    "    #Add labels\n",
    "    cbr.set_label(r'$\\textrm{LCOE}_\\textrm{disrupt} [\\textrm{\\$USD/MWh}]$')\n",
    "    plt.ylabel(r'$k_I$')\n",
    "    plt.xlabel(r'$k_M$')   \n",
    "else:\n",
    "    #Add labels\n",
    "    cbr.set_label('LCOE_disrupt [$USD/MWh]')\n",
    "    plt.ylabel('k_I')\n",
    "    plt.xlabel('k_M')\n",
    "\n",
    "#Save data from plot\n",
    "if save_data:\n",
    "    plt.savefig('Plots/LCOE_k.png',dpi=200,bbox_inches='tight')\n",
    "    np.save('Data/k_I_mesh.npy', k_I_mesh)\n",
    "    np.save('Data/k_M_mesh.npy', k_M_mesh)\n",
    "    np.save('Data/LCOE_k.npy', LCOE_k)"
   ]
  },
  {
   "attachments": {},
   "cell_type": "markdown",
   "metadata": {},
   "source": [
    "### LCOE with respect to $f_{\\textrm{recov}}$,$f_{\\textrm{cons}}$ scan\n",
    "All other values set to baseline no disruption case"
   ]
  },
  {
   "cell_type": "code",
   "execution_count": 18,
   "metadata": {},
   "outputs": [],
   "source": [
    "#### Parameter range to scan\n",
    "f_cons_scan=np.logspace(-0.3,0,80) #[-] Fraction of target electrical power produced to keep sufficient margin to disruptive instabilities\n",
    "f_recover_scan=np.logspace(-2,-0.3,80) #[-] Fraction of operating time lost to disruption recovery\n",
    "\n",
    "#Create scanner function\n",
    "def scanner_f_recover(f_cons, f_recover, TPP_data):\n",
    "    data = copy.copy(TPP_data)\n",
    "    data.f_cons = f_cons\n",
    "    data.f_recover = f_recover\n",
    "    return get_LCOE_disrupt(data)\n",
    "\n",
    "#Compute LCOE\n",
    "scanner_f_recover_baseline = lambda f_cons, f_recover: scanner_f_recover(f_cons, f_recover, baseline_data)\n",
    "f_cons_mesh, f_recover_mesh, LCOE_f = scan_2d(f_cons_scan, f_recover_scan, scanner_f_recover_baseline)"
   ]
  },
  {
   "cell_type": "code",
   "execution_count": 19,
   "metadata": {
    "scrolled": true
   },
   "outputs": [
    {
     "data": {
      "image/png": "[encoded data removed]",
      "text/plain": [
       "<Figure size 432x288 with 2 Axes>"
      ]
     },
     "metadata": {
      "needs_background": "light"
     },
     "output_type": "display_data"
    }
   ],
   "source": [
    "#Create contour plot and color bar\n",
    "ax=plt.contourf(f_cons_mesh,f_recover_mesh,LCOE_f,cmap='magma',norm=colors.Normalize(vmin=LCOE_k.min(), vmax=LCOE_k.max()),levels=cs.levels,extend='max')\n",
    "cbr= plt.colorbar()\n",
    "\n",
    "if render_LaTeX:\n",
    "    #Add labels\n",
    "    cbr.set_label(r'$\\textrm{LCOE}_\\textrm{disrupt} [\\textrm{\\$USD/MWh}]$')\n",
    "    plt.xlabel(r'$f_{\\textrm{cons}}$')\n",
    "    plt.ylabel(r'$f_{\\textrm{recov}}$') \n",
    "else:  \n",
    "    #Add labels\n",
    "    cbr.set_label('LCOE_disrupt [$USD/MWh]')\n",
    "    plt.xlabel('f_cons')\n",
    "    plt.ylabel('f_recov')\n",
    "\n",
    "plt.yscale('log')\n",
    "plt.xscale('linear')\n",
    "\n",
    "#Save data from plot\n",
    "if save_data:\n",
    "    plt.savefig('Plots/LCOE_f.png',dpi=200,bbox_inches='tight')\n",
    "    np.save('Data/f_cons_mesh.npy', f_cons_scan)\n",
    "    np.save('Data/f_recover_mesh.npy', f_recover_scan)\n",
    "    np.save('Data/LCOE_f.npy', LCOE_f)"
   ]
  },
  {
   "attachments": {},
   "cell_type": "markdown",
   "metadata": {},
   "source": [
    "## LCOE($n_{\\textrm{lifetime}}$,$\\tau_{\\textrm{damage}}$)\n",
    "All other values set to baseline no disruption case"
   ]
  },
  {
   "cell_type": "code",
   "execution_count": 20,
   "metadata": {},
   "outputs": [],
   "source": [
    "#### Parameter range to scan\n",
    "tau_damage_scan=np.linspace(10,60,80) #[yr] Characteristic damage time\n",
    "n_op_scan=np.arange(10,50,1) #[yr] Lifetime of plant (must be integers, hence arange)\n",
    "\n",
    "#Create scanner function\n",
    "def scanner_tau_nop(n_op, tau_damage,TPP_data):\n",
    "    data = copy.copy(TPP_data)\n",
    "    data.tau_damage = tau_damage\n",
    "    data.n_op = n_op\n",
    "    return get_LCOE_disrupt(data)\n",
    "\n",
    "#Compute LCOE\n",
    "scanner_tau_nop_baseline = lambda n_op, tau_damage: scanner_tau_nop(n_op, tau_damage, baseline_data)\n",
    "n_op_mesh, tau_damage_mesh, LCOE_tau = scan_2d(n_op_scan, tau_damage_scan, scanner_tau_nop_baseline)"
   ]
  },
  {
   "cell_type": "code",
   "execution_count": 21,
   "metadata": {
    "scrolled": true
   },
   "outputs": [
    {
     "data": {
      "image/png": "[encoded data removed]",
      "text/plain": [
       "<Figure size 432x288 with 2 Axes>"
      ]
     },
     "metadata": {
      "needs_background": "light"
     },
     "output_type": "display_data"
    }
   ],
   "source": [
    "#Create contour plot and color bar\n",
    "plt.contourf(n_op_mesh,tau_damage_mesh,LCOE_tau,cmap='magma',norm=colors.Normalize(vmin=LCOE_tau.min(), vmax=LCOE_tau.max()),levels=cs.levels,extend='max')\n",
    "cbr= plt.colorbar()\n",
    "\n",
    "if render_LaTeX:\n",
    "    #Add a labels\n",
    "    cbr.set_label(r'$\\textrm{LCOE}_\\textrm{disrupt} [\\textrm{\\$USD/MWh}]$')\n",
    "    plt.ylabel(r'\\textrm{Characteristic damage time, }$\\tau_\\textrm{damage} [\\textrm{yr}]$')\n",
    "    plt.xlabel(r'\\textrm{Lifetime of plant, } $n_{\\textrm{lifetime}} [\\textrm{yr}]$')   \n",
    "else:\n",
    "    #Add a labels\n",
    "    cbr.set_label('LCOE_disrupt [$USD/MWh]')\n",
    "    plt.ylabel('Characteristic damage time, τ_damage [yr]')\n",
    "    plt.xlabel('Lifetime of plant, n_lifetime [yr]')\n",
    "\n",
    "if save_data:\n",
    "    plt.savefig('Plots/LCOE_tau.png',dpi=200,bbox_inches='tight')\n",
    "    np.save('Data/n_op_mesh.npy', n_op_mesh)\n",
    "    np.save('Data/tau_damage_mesh.npy', tau_damage_mesh)\n",
    "    np.save('Data/LCOE_tau.npy', LCOE_tau)"
   ]
  },
  {
   "attachments": {},
   "cell_type": "markdown",
   "metadata": {},
   "source": [
    "### Example of \\$100 per MWh tokamak power plant with disruptions \n",
    "\n",
    "In each of the previous plots, we only scan two disruption related parameters at a time. To fully account for disruptions, one must consider the effect of all the disruption-related parameters together, which narrows the range to operate a profitable TPP.  \n",
    "\n",
    "Consider the baseline TPP we have been using. If our goal was to create a TPP that can sell electricity of \\$100 per MWH, one design that reaches the \\$100/MWh target has $k_I = 1.5,\\: k_M=1.25,\\: f_{\\textrm{recover}} = 0.03,\\: f_{\\textrm{margin}} = 0.99,\\: \\tau_{\\textrm{damage}} = 200 \\textrm{ yr},\\textrm{ and } n_{\\textrm{lifetime}}= 50 \\textrm{ yr}$. These are fairly extreme requirements."
   ]
  },
  {
   "cell_type": "code",
   "execution_count": 22,
   "metadata": {},
   "outputs": [
    {
     "name": "stdout",
     "output_type": "stream",
     "text": [
      "The LCOE of the this case is 99.52 [$/MWh]\n"
     ]
    }
   ],
   "source": [
    "#Create new example\n",
    "example_data = DLCOEData(P_elect=500,       # Assume a 500 MWe plant.\n",
    "                         I_t=4e8,           # Assume total captial cost is 2 billion dollars, spread out evenly over 5 years in real terms.\n",
    "                         M_t=5e7,           # Assume $5e7 annual O&M costs in real terms.\n",
    "                         F_t=5e6,           # Assume $5e6 annual fuel costs in real terms.\n",
    "                         duty_factor=0.8,   # Assume an 80% duty factor.\n",
    "                         r=0.07,            # Assume a 7% interest rate.\n",
    "                         n_op=50,           # Increae plant lifetime to 50 years compared to 20 in baseline case.\n",
    "                         n_construct=5,     # Assume the plant will be under construction for 5 years.\n",
    "                         k_I=1.5,           # Increase capital cost 50% compared to baseline case.\n",
    "                         k_M=1.25,          # Increase O&M cost 25% compared to baseline case.\n",
    "                         f_cons=0.99,       # Assume 99% of target electrical power produced to keep sufficient margin to disruptive instabilities.\n",
    "                         f_recover=0.03,    # Assume 3% of operating time lost to disruption recovery.\n",
    "                         tau_damage=200)    # Assume a characteristic damage time of 200 years.\n",
    "\n",
    "LCOE_example=get_LCOE_disrupt(example_data)\n",
    "print(f'The LCOE of the this case is {LCOE_example:.2f} [$/MWh]')"
   ]
  }
 ],
 "metadata": {
  "kernelspec": {
   "display_name": "data_centric_AI",
   "language": "python",
   "name": "data_centric_ai"
  },
  "language_info": {
   "codemirror_mode": {
    "name": "ipython",
    "version": 3
   },
   "file_extension": ".py",
   "mimetype": "text/x-python",
   "name": "python",
   "nbconvert_exporter": "python",
   "pygments_lexer": "ipython3",
   "version": "3.8.5"
  }
 },
 "nbformat": 4,
 "nbformat_minor": 4
}
